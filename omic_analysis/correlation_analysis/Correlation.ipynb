{
 "cells": [
  {
   "cell_type": "code",
   "execution_count": 1,
   "metadata": {},
   "outputs": [
    {
     "data": {
      "text/html": [
       "<div>\n",
       "<style scoped>\n",
       "    .dataframe tbody tr th:only-of-type {\n",
       "        vertical-align: middle;\n",
       "    }\n",
       "\n",
       "    .dataframe tbody tr th {\n",
       "        vertical-align: top;\n",
       "    }\n",
       "\n",
       "    .dataframe thead th {\n",
       "        text-align: right;\n",
       "    }\n",
       "</style>\n",
       "<table border=\"1\" class=\"dataframe\">\n",
       "  <thead>\n",
       "    <tr style=\"text-align: right;\">\n",
       "      <th></th>\n",
       "      <th>Geneid</th>\n",
       "      <th>M1</th>\n",
       "      <th>M2</th>\n",
       "      <th>M3</th>\n",
       "      <th>M4</th>\n",
       "      <th>M5</th>\n",
       "      <th>M6</th>\n",
       "      <th>M7</th>\n",
       "      <th>M8</th>\n",
       "      <th>M9</th>\n",
       "      <th>M10</th>\n",
       "    </tr>\n",
       "  </thead>\n",
       "  <tbody>\n",
       "    <tr>\n",
       "      <th>0</th>\n",
       "      <td>Gene1</td>\n",
       "      <td>8.454808</td>\n",
       "      <td>8.019389</td>\n",
       "      <td>8.990836</td>\n",
       "      <td>9.718631</td>\n",
       "      <td>7.908075</td>\n",
       "      <td>4.147051</td>\n",
       "      <td>4.985084</td>\n",
       "      <td>4.576711</td>\n",
       "      <td>4.930349</td>\n",
       "      <td>4.293700</td>\n",
       "    </tr>\n",
       "    <tr>\n",
       "      <th>1</th>\n",
       "      <td>Gene2</td>\n",
       "      <td>8.690520</td>\n",
       "      <td>8.630346</td>\n",
       "      <td>7.080873</td>\n",
       "      <td>9.838476</td>\n",
       "      <td>8.271824</td>\n",
       "      <td>5.179200</td>\n",
       "      <td>5.200868</td>\n",
       "      <td>3.266993</td>\n",
       "      <td>5.565226</td>\n",
       "      <td>4.300309</td>\n",
       "    </tr>\n",
       "    <tr>\n",
       "      <th>2</th>\n",
       "      <td>Gene3</td>\n",
       "      <td>8.648366</td>\n",
       "      <td>8.600555</td>\n",
       "      <td>9.431046</td>\n",
       "      <td>7.923021</td>\n",
       "      <td>8.309214</td>\n",
       "      <td>4.902510</td>\n",
       "      <td>5.750804</td>\n",
       "      <td>4.492856</td>\n",
       "      <td>4.659987</td>\n",
       "      <td>3.306275</td>\n",
       "    </tr>\n",
       "    <tr>\n",
       "      <th>3</th>\n",
       "      <td>Gene4</td>\n",
       "      <td>8.628884</td>\n",
       "      <td>9.238677</td>\n",
       "      <td>8.487243</td>\n",
       "      <td>8.958537</td>\n",
       "      <td>7.357109</td>\n",
       "      <td>4.541605</td>\n",
       "      <td>6.370533</td>\n",
       "      <td>4.246651</td>\n",
       "      <td>4.745769</td>\n",
       "      <td>3.449627</td>\n",
       "    </tr>\n",
       "    <tr>\n",
       "      <th>4</th>\n",
       "      <td>Gene5</td>\n",
       "      <td>4.983769</td>\n",
       "      <td>6.748022</td>\n",
       "      <td>6.220791</td>\n",
       "      <td>4.719403</td>\n",
       "      <td>3.284346</td>\n",
       "      <td>8.089850</td>\n",
       "      <td>10.637472</td>\n",
       "      <td>7.214912</td>\n",
       "      <td>9.002710</td>\n",
       "      <td>5.123359</td>\n",
       "    </tr>\n",
       "  </tbody>\n",
       "</table>\n",
       "</div>"
      ],
      "text/plain": [
       "  Geneid        M1        M2        M3        M4        M5        M6  \\\n",
       "0  Gene1  8.454808  8.019389  8.990836  9.718631  7.908075  4.147051   \n",
       "1  Gene2  8.690520  8.630346  7.080873  9.838476  8.271824  5.179200   \n",
       "2  Gene3  8.648366  8.600555  9.431046  7.923021  8.309214  4.902510   \n",
       "3  Gene4  8.628884  9.238677  8.487243  8.958537  7.357109  4.541605   \n",
       "4  Gene5  4.983769  6.748022  6.220791  4.719403  3.284346  8.089850   \n",
       "\n",
       "          M7        M8        M9       M10  \n",
       "0   4.985084  4.576711  4.930349  4.293700  \n",
       "1   5.200868  3.266993  5.565226  4.300309  \n",
       "2   5.750804  4.492856  4.659987  3.306275  \n",
       "3   6.370533  4.246651  4.745769  3.449627  \n",
       "4  10.637472  7.214912  9.002710  5.123359  "
      ]
     },
     "execution_count": 1,
     "metadata": {},
     "output_type": "execute_result"
    }
   ],
   "source": [
    "import pandas as pd\n",
    "\n",
    "df_corr = pd.read_csv('./input_file/expression_matrix_corr.csv')\n",
    "df_corr.head()"
   ]
  },
  {
   "cell_type": "markdown",
   "metadata": {},
   "source": [
    "这个代码功能是根据标准化的基因表达数据（RPKM、FPKM、TPM），计算相关性并输出图\n",
    "- 只使用python代码"
   ]
  },
  {
   "cell_type": "code",
   "execution_count": 2,
   "metadata": {},
   "outputs": [],
   "source": [
    "# 工作目录，需要师哥你改成自己的\n",
    "workdir_omic = '/Users/dongjiacheng/Desktop/coder/mtd/code/omic_analysis/'"
   ]
  },
  {
   "cell_type": "code",
   "execution_count": 4,
   "metadata": {},
   "outputs": [
    {
     "data": {
      "application/vnd.plotly.v1+json": {
       "config": {
        "plotlyServerURL": "https://plot.ly"
       },
       "data": [
        {
         "coloraxis": "coloraxis",
         "hovertemplate": "x: %{x}<br>y: %{y}<br>Correlation: %{z}<extra></extra>",
         "name": "0",
         "type": "heatmap",
         "x": [
          "M1",
          "M2",
          "M3",
          "M4",
          "M5",
          "M6",
          "M7",
          "M8",
          "M9",
          "M10"
         ],
         "xaxis": "x",
         "y": [
          "M1",
          "M2",
          "M3",
          "M4",
          "M5",
          "M6",
          "M7",
          "M8",
          "M9",
          "M10"
         ],
         "yaxis": "y",
         "z": [
          [
           1,
           0.42655643058132864,
           0.5606905120088703,
           0.7770896599282253,
           0.7592802953087678,
           -0.49723658437133356,
           -0.7644119027189135,
           -0.7395638183381869,
           -0.8011817623486435,
           -0.5516469364313394
          ],
          [
           0.42655643058132864,
           1,
           0.6307829315534197,
           0.594485917570119,
           0.6926297955065958,
           -0.8409895580160502,
           -0.4553830864142491,
           -0.7713994044543733,
           -0.6289444387906401,
           -0.6667656413032537
          ],
          [
           0.5606905120088703,
           0.6307829315534197,
           1,
           0.4956054239281537,
           0.5080838610165073,
           -0.5821071138672307,
           -0.41361081753716633,
           -0.5696533937876284,
           -0.8832147441518966,
           -0.6594498692902997
          ],
          [
           0.7770896599282253,
           0.594485917570119,
           0.4956054239281537,
           1,
           0.8217705975627725,
           -0.8184396048127296,
           -0.8750045539513479,
           -0.7930525328393307,
           -0.5780248844128486,
           -0.5203026885946174
          ],
          [
           0.7592802953087678,
           0.6926297955065958,
           0.5080838610165073,
           0.8217705975627725,
           1,
           -0.8518385195941178,
           -0.7406884295571196,
           -0.9117093409385172,
           -0.691158882781033,
           -0.5014958499117329
          ],
          [
           -0.49723658437133356,
           -0.8409895580160502,
           -0.5821071138672307,
           -0.8184396048127296,
           -0.8518385195941178,
           1,
           0.6832343597471309,
           0.7915213301410893,
           0.5722379495710858,
           0.5207176760415456
          ],
          [
           -0.7644119027189135,
           -0.4553830864142491,
           -0.41361081753716633,
           -0.8750045539513479,
           -0.7406884295571196,
           0.6832343597471309,
           1,
           0.5714784471439168,
           0.5410131790385211,
           0.244254719945071
          ],
          [
           -0.7395638183381869,
           -0.7713994044543733,
           -0.5696533937876284,
           -0.7930525328393307,
           -0.9117093409385172,
           0.7915213301410893,
           0.5714784471439168,
           1,
           0.7090174374922674,
           0.6743186649102854
          ],
          [
           -0.8011817623486435,
           -0.6289444387906401,
           -0.8832147441518966,
           -0.5780248844128486,
           -0.691158882781033,
           0.5722379495710858,
           0.5410131790385211,
           0.7090174374922674,
           1,
           0.6044521109348707
          ],
          [
           -0.5516469364313394,
           -0.6667656413032537,
           -0.6594498692902997,
           -0.5203026885946174,
           -0.5014958499117329,
           0.5207176760415456,
           0.244254719945071,
           0.6743186649102854,
           0.6044521109348707,
           1
          ]
         ]
        }
       ],
       "layout": {
        "annotations": [
         {
          "font": {
           "color": "white",
           "size": 9
          },
          "showarrow": false,
          "text": "★★",
          "x": 0,
          "xref": "x",
          "y": 0,
          "yref": "y"
         },
         {
          "font": {
           "color": "white",
           "size": 9
          },
          "showarrow": false,
          "text": "★",
          "x": 3,
          "xref": "x",
          "y": 0,
          "yref": "y"
         },
         {
          "font": {
           "color": "white",
           "size": 9
          },
          "showarrow": false,
          "text": "★",
          "x": 4,
          "xref": "x",
          "y": 0,
          "yref": "y"
         },
         {
          "font": {
           "color": "white",
           "size": 9
          },
          "showarrow": false,
          "text": "★",
          "x": 6,
          "xref": "x",
          "y": 0,
          "yref": "y"
         },
         {
          "font": {
           "color": "white",
           "size": 9
          },
          "showarrow": false,
          "text": "★",
          "x": 7,
          "xref": "x",
          "y": 0,
          "yref": "y"
         },
         {
          "font": {
           "color": "white",
           "size": 9
          },
          "showarrow": false,
          "text": "★★",
          "x": 8,
          "xref": "x",
          "y": 0,
          "yref": "y"
         },
         {
          "font": {
           "color": "white",
           "size": 9
          },
          "showarrow": false,
          "text": "★★",
          "x": 1,
          "xref": "x",
          "y": 1,
          "yref": "y"
         },
         {
          "font": {
           "color": "white",
           "size": 9
          },
          "showarrow": false,
          "text": "★",
          "x": 2,
          "xref": "x",
          "y": 1,
          "yref": "y"
         },
         {
          "font": {
           "color": "white",
           "size": 9
          },
          "showarrow": false,
          "text": "★",
          "x": 4,
          "xref": "x",
          "y": 1,
          "yref": "y"
         },
         {
          "font": {
           "color": "white",
           "size": 9
          },
          "showarrow": false,
          "text": "★★",
          "x": 5,
          "xref": "x",
          "y": 1,
          "yref": "y"
         },
         {
          "font": {
           "color": "white",
           "size": 9
          },
          "showarrow": false,
          "text": "★",
          "x": 7,
          "xref": "x",
          "y": 1,
          "yref": "y"
         },
         {
          "font": {
           "color": "white",
           "size": 9
          },
          "showarrow": false,
          "text": "★",
          "x": 8,
          "xref": "x",
          "y": 1,
          "yref": "y"
         },
         {
          "font": {
           "color": "white",
           "size": 9
          },
          "showarrow": false,
          "text": "★",
          "x": 9,
          "xref": "x",
          "y": 1,
          "yref": "y"
         },
         {
          "font": {
           "color": "white",
           "size": 9
          },
          "showarrow": false,
          "text": "★",
          "x": 1,
          "xref": "x",
          "y": 2,
          "yref": "y"
         },
         {
          "font": {
           "color": "white",
           "size": 9
          },
          "showarrow": false,
          "text": "★★",
          "x": 2,
          "xref": "x",
          "y": 2,
          "yref": "y"
         },
         {
          "font": {
           "color": "white",
           "size": 9
          },
          "showarrow": false,
          "text": "★★",
          "x": 8,
          "xref": "x",
          "y": 2,
          "yref": "y"
         },
         {
          "font": {
           "color": "white",
           "size": 9
          },
          "showarrow": false,
          "text": "★",
          "x": 9,
          "xref": "x",
          "y": 2,
          "yref": "y"
         },
         {
          "font": {
           "color": "white",
           "size": 9
          },
          "showarrow": false,
          "text": "★",
          "x": 0,
          "xref": "x",
          "y": 3,
          "yref": "y"
         },
         {
          "font": {
           "color": "white",
           "size": 9
          },
          "showarrow": false,
          "text": "★★",
          "x": 3,
          "xref": "x",
          "y": 3,
          "yref": "y"
         },
         {
          "font": {
           "color": "white",
           "size": 9
          },
          "showarrow": false,
          "text": "★★",
          "x": 4,
          "xref": "x",
          "y": 3,
          "yref": "y"
         },
         {
          "font": {
           "color": "white",
           "size": 9
          },
          "showarrow": false,
          "text": "★★",
          "x": 5,
          "xref": "x",
          "y": 3,
          "yref": "y"
         },
         {
          "font": {
           "color": "white",
           "size": 9
          },
          "showarrow": false,
          "text": "★★",
          "x": 6,
          "xref": "x",
          "y": 3,
          "yref": "y"
         },
         {
          "font": {
           "color": "white",
           "size": 9
          },
          "showarrow": false,
          "text": "★",
          "x": 7,
          "xref": "x",
          "y": 3,
          "yref": "y"
         },
         {
          "font": {
           "color": "white",
           "size": 9
          },
          "showarrow": false,
          "text": "★",
          "x": 0,
          "xref": "x",
          "y": 4,
          "yref": "y"
         },
         {
          "font": {
           "color": "white",
           "size": 9
          },
          "showarrow": false,
          "text": "★",
          "x": 1,
          "xref": "x",
          "y": 4,
          "yref": "y"
         },
         {
          "font": {
           "color": "white",
           "size": 9
          },
          "showarrow": false,
          "text": "★★",
          "x": 3,
          "xref": "x",
          "y": 4,
          "yref": "y"
         },
         {
          "font": {
           "color": "white",
           "size": 9
          },
          "showarrow": false,
          "text": "★★",
          "x": 4,
          "xref": "x",
          "y": 4,
          "yref": "y"
         },
         {
          "font": {
           "color": "white",
           "size": 9
          },
          "showarrow": false,
          "text": "★★",
          "x": 5,
          "xref": "x",
          "y": 4,
          "yref": "y"
         },
         {
          "font": {
           "color": "white",
           "size": 9
          },
          "showarrow": false,
          "text": "★",
          "x": 6,
          "xref": "x",
          "y": 4,
          "yref": "y"
         },
         {
          "font": {
           "color": "white",
           "size": 9
          },
          "showarrow": false,
          "text": "★★",
          "x": 7,
          "xref": "x",
          "y": 4,
          "yref": "y"
         },
         {
          "font": {
           "color": "white",
           "size": 9
          },
          "showarrow": false,
          "text": "★",
          "x": 8,
          "xref": "x",
          "y": 4,
          "yref": "y"
         },
         {
          "font": {
           "color": "white",
           "size": 9
          },
          "showarrow": false,
          "text": "★★",
          "x": 1,
          "xref": "x",
          "y": 5,
          "yref": "y"
         },
         {
          "font": {
           "color": "white",
           "size": 9
          },
          "showarrow": false,
          "text": "★★",
          "x": 3,
          "xref": "x",
          "y": 5,
          "yref": "y"
         },
         {
          "font": {
           "color": "white",
           "size": 9
          },
          "showarrow": false,
          "text": "★★",
          "x": 4,
          "xref": "x",
          "y": 5,
          "yref": "y"
         },
         {
          "font": {
           "color": "white",
           "size": 9
          },
          "showarrow": false,
          "text": "★★",
          "x": 5,
          "xref": "x",
          "y": 5,
          "yref": "y"
         },
         {
          "font": {
           "color": "white",
           "size": 9
          },
          "showarrow": false,
          "text": "★",
          "x": 6,
          "xref": "x",
          "y": 5,
          "yref": "y"
         },
         {
          "font": {
           "color": "white",
           "size": 9
          },
          "showarrow": false,
          "text": "★",
          "x": 7,
          "xref": "x",
          "y": 5,
          "yref": "y"
         },
         {
          "font": {
           "color": "white",
           "size": 9
          },
          "showarrow": false,
          "text": "★",
          "x": 0,
          "xref": "x",
          "y": 6,
          "yref": "y"
         },
         {
          "font": {
           "color": "white",
           "size": 9
          },
          "showarrow": false,
          "text": "★★",
          "x": 3,
          "xref": "x",
          "y": 6,
          "yref": "y"
         },
         {
          "font": {
           "color": "white",
           "size": 9
          },
          "showarrow": false,
          "text": "★",
          "x": 4,
          "xref": "x",
          "y": 6,
          "yref": "y"
         },
         {
          "font": {
           "color": "white",
           "size": 9
          },
          "showarrow": false,
          "text": "★",
          "x": 5,
          "xref": "x",
          "y": 6,
          "yref": "y"
         },
         {
          "font": {
           "color": "white",
           "size": 9
          },
          "showarrow": false,
          "text": "★★",
          "x": 6,
          "xref": "x",
          "y": 6,
          "yref": "y"
         },
         {
          "font": {
           "color": "white",
           "size": 9
          },
          "showarrow": false,
          "text": "★",
          "x": 0,
          "xref": "x",
          "y": 7,
          "yref": "y"
         },
         {
          "font": {
           "color": "white",
           "size": 9
          },
          "showarrow": false,
          "text": "★",
          "x": 1,
          "xref": "x",
          "y": 7,
          "yref": "y"
         },
         {
          "font": {
           "color": "white",
           "size": 9
          },
          "showarrow": false,
          "text": "★",
          "x": 3,
          "xref": "x",
          "y": 7,
          "yref": "y"
         },
         {
          "font": {
           "color": "white",
           "size": 9
          },
          "showarrow": false,
          "text": "★★",
          "x": 4,
          "xref": "x",
          "y": 7,
          "yref": "y"
         },
         {
          "font": {
           "color": "white",
           "size": 9
          },
          "showarrow": false,
          "text": "★",
          "x": 5,
          "xref": "x",
          "y": 7,
          "yref": "y"
         },
         {
          "font": {
           "color": "white",
           "size": 9
          },
          "showarrow": false,
          "text": "★★",
          "x": 7,
          "xref": "x",
          "y": 7,
          "yref": "y"
         },
         {
          "font": {
           "color": "white",
           "size": 9
          },
          "showarrow": false,
          "text": "★",
          "x": 8,
          "xref": "x",
          "y": 7,
          "yref": "y"
         },
         {
          "font": {
           "color": "white",
           "size": 9
          },
          "showarrow": false,
          "text": "★",
          "x": 9,
          "xref": "x",
          "y": 7,
          "yref": "y"
         },
         {
          "font": {
           "color": "white",
           "size": 9
          },
          "showarrow": false,
          "text": "★★",
          "x": 0,
          "xref": "x",
          "y": 8,
          "yref": "y"
         },
         {
          "font": {
           "color": "white",
           "size": 9
          },
          "showarrow": false,
          "text": "★",
          "x": 1,
          "xref": "x",
          "y": 8,
          "yref": "y"
         },
         {
          "font": {
           "color": "white",
           "size": 9
          },
          "showarrow": false,
          "text": "★★",
          "x": 2,
          "xref": "x",
          "y": 8,
          "yref": "y"
         },
         {
          "font": {
           "color": "white",
           "size": 9
          },
          "showarrow": false,
          "text": "★",
          "x": 4,
          "xref": "x",
          "y": 8,
          "yref": "y"
         },
         {
          "font": {
           "color": "white",
           "size": 9
          },
          "showarrow": false,
          "text": "★",
          "x": 7,
          "xref": "x",
          "y": 8,
          "yref": "y"
         },
         {
          "font": {
           "color": "white",
           "size": 9
          },
          "showarrow": false,
          "text": "★★",
          "x": 8,
          "xref": "x",
          "y": 8,
          "yref": "y"
         },
         {
          "font": {
           "color": "white",
           "size": 9
          },
          "showarrow": false,
          "text": "★",
          "x": 9,
          "xref": "x",
          "y": 8,
          "yref": "y"
         },
         {
          "font": {
           "color": "white",
           "size": 9
          },
          "showarrow": false,
          "text": "★",
          "x": 1,
          "xref": "x",
          "y": 9,
          "yref": "y"
         },
         {
          "font": {
           "color": "white",
           "size": 9
          },
          "showarrow": false,
          "text": "★",
          "x": 2,
          "xref": "x",
          "y": 9,
          "yref": "y"
         },
         {
          "font": {
           "color": "white",
           "size": 9
          },
          "showarrow": false,
          "text": "★",
          "x": 7,
          "xref": "x",
          "y": 9,
          "yref": "y"
         },
         {
          "font": {
           "color": "white",
           "size": 9
          },
          "showarrow": false,
          "text": "★",
          "x": 8,
          "xref": "x",
          "y": 9,
          "yref": "y"
         },
         {
          "font": {
           "color": "white",
           "size": 9
          },
          "showarrow": false,
          "text": "★★",
          "x": 9,
          "xref": "x",
          "y": 9,
          "yref": "y"
         },
         {
          "align": "left",
          "showarrow": false,
          "text": "★★:Correlation > 0.8<br>★: Correlation > 0.6",
          "x": 1.05,
          "xref": "paper",
          "y": 1.07,
          "yref": "paper"
         }
        ],
        "coloraxis": {
         "cmax": 1,
         "cmin": -1,
         "colorbar": {
          "title": {
           "text": "Correlation"
          }
         },
         "colorscale": [
          [
           0,
           "rgb(0, 128, 128)"
          ],
          [
           0.16666666666666666,
           "rgb(112, 164, 148)"
          ],
          [
           0.3333333333333333,
           "rgb(180, 200, 168)"
          ],
          [
           0.5,
           "rgb(246, 237, 189)"
          ],
          [
           0.6666666666666666,
           "rgb(237, 187, 138)"
          ],
          [
           0.8333333333333334,
           "rgb(222, 138, 90)"
          ],
          [
           1,
           "rgb(202, 86, 44)"
          ]
         ]
        },
        "height": 600,
        "margin": {
         "t": 60
        },
        "template": {
         "data": {
          "bar": [
           {
            "error_x": {
             "color": "#2a3f5f"
            },
            "error_y": {
             "color": "#2a3f5f"
            },
            "marker": {
             "line": {
              "color": "#E5ECF6",
              "width": 0.5
             },
             "pattern": {
              "fillmode": "overlay",
              "size": 10,
              "solidity": 0.2
             }
            },
            "type": "bar"
           }
          ],
          "barpolar": [
           {
            "marker": {
             "line": {
              "color": "#E5ECF6",
              "width": 0.5
             },
             "pattern": {
              "fillmode": "overlay",
              "size": 10,
              "solidity": 0.2
             }
            },
            "type": "barpolar"
           }
          ],
          "carpet": [
           {
            "aaxis": {
             "endlinecolor": "#2a3f5f",
             "gridcolor": "white",
             "linecolor": "white",
             "minorgridcolor": "white",
             "startlinecolor": "#2a3f5f"
            },
            "baxis": {
             "endlinecolor": "#2a3f5f",
             "gridcolor": "white",
             "linecolor": "white",
             "minorgridcolor": "white",
             "startlinecolor": "#2a3f5f"
            },
            "type": "carpet"
           }
          ],
          "choropleth": [
           {
            "colorbar": {
             "outlinewidth": 0,
             "ticks": ""
            },
            "type": "choropleth"
           }
          ],
          "contour": [
           {
            "colorbar": {
             "outlinewidth": 0,
             "ticks": ""
            },
            "colorscale": [
             [
              0,
              "#0d0887"
             ],
             [
              0.1111111111111111,
              "#46039f"
             ],
             [
              0.2222222222222222,
              "#7201a8"
             ],
             [
              0.3333333333333333,
              "#9c179e"
             ],
             [
              0.4444444444444444,
              "#bd3786"
             ],
             [
              0.5555555555555556,
              "#d8576b"
             ],
             [
              0.6666666666666666,
              "#ed7953"
             ],
             [
              0.7777777777777778,
              "#fb9f3a"
             ],
             [
              0.8888888888888888,
              "#fdca26"
             ],
             [
              1,
              "#f0f921"
             ]
            ],
            "type": "contour"
           }
          ],
          "contourcarpet": [
           {
            "colorbar": {
             "outlinewidth": 0,
             "ticks": ""
            },
            "type": "contourcarpet"
           }
          ],
          "heatmap": [
           {
            "colorbar": {
             "outlinewidth": 0,
             "ticks": ""
            },
            "colorscale": [
             [
              0,
              "#0d0887"
             ],
             [
              0.1111111111111111,
              "#46039f"
             ],
             [
              0.2222222222222222,
              "#7201a8"
             ],
             [
              0.3333333333333333,
              "#9c179e"
             ],
             [
              0.4444444444444444,
              "#bd3786"
             ],
             [
              0.5555555555555556,
              "#d8576b"
             ],
             [
              0.6666666666666666,
              "#ed7953"
             ],
             [
              0.7777777777777778,
              "#fb9f3a"
             ],
             [
              0.8888888888888888,
              "#fdca26"
             ],
             [
              1,
              "#f0f921"
             ]
            ],
            "type": "heatmap"
           }
          ],
          "heatmapgl": [
           {
            "colorbar": {
             "outlinewidth": 0,
             "ticks": ""
            },
            "colorscale": [
             [
              0,
              "#0d0887"
             ],
             [
              0.1111111111111111,
              "#46039f"
             ],
             [
              0.2222222222222222,
              "#7201a8"
             ],
             [
              0.3333333333333333,
              "#9c179e"
             ],
             [
              0.4444444444444444,
              "#bd3786"
             ],
             [
              0.5555555555555556,
              "#d8576b"
             ],
             [
              0.6666666666666666,
              "#ed7953"
             ],
             [
              0.7777777777777778,
              "#fb9f3a"
             ],
             [
              0.8888888888888888,
              "#fdca26"
             ],
             [
              1,
              "#f0f921"
             ]
            ],
            "type": "heatmapgl"
           }
          ],
          "histogram": [
           {
            "marker": {
             "pattern": {
              "fillmode": "overlay",
              "size": 10,
              "solidity": 0.2
             }
            },
            "type": "histogram"
           }
          ],
          "histogram2d": [
           {
            "colorbar": {
             "outlinewidth": 0,
             "ticks": ""
            },
            "colorscale": [
             [
              0,
              "#0d0887"
             ],
             [
              0.1111111111111111,
              "#46039f"
             ],
             [
              0.2222222222222222,
              "#7201a8"
             ],
             [
              0.3333333333333333,
              "#9c179e"
             ],
             [
              0.4444444444444444,
              "#bd3786"
             ],
             [
              0.5555555555555556,
              "#d8576b"
             ],
             [
              0.6666666666666666,
              "#ed7953"
             ],
             [
              0.7777777777777778,
              "#fb9f3a"
             ],
             [
              0.8888888888888888,
              "#fdca26"
             ],
             [
              1,
              "#f0f921"
             ]
            ],
            "type": "histogram2d"
           }
          ],
          "histogram2dcontour": [
           {
            "colorbar": {
             "outlinewidth": 0,
             "ticks": ""
            },
            "colorscale": [
             [
              0,
              "#0d0887"
             ],
             [
              0.1111111111111111,
              "#46039f"
             ],
             [
              0.2222222222222222,
              "#7201a8"
             ],
             [
              0.3333333333333333,
              "#9c179e"
             ],
             [
              0.4444444444444444,
              "#bd3786"
             ],
             [
              0.5555555555555556,
              "#d8576b"
             ],
             [
              0.6666666666666666,
              "#ed7953"
             ],
             [
              0.7777777777777778,
              "#fb9f3a"
             ],
             [
              0.8888888888888888,
              "#fdca26"
             ],
             [
              1,
              "#f0f921"
             ]
            ],
            "type": "histogram2dcontour"
           }
          ],
          "mesh3d": [
           {
            "colorbar": {
             "outlinewidth": 0,
             "ticks": ""
            },
            "type": "mesh3d"
           }
          ],
          "parcoords": [
           {
            "line": {
             "colorbar": {
              "outlinewidth": 0,
              "ticks": ""
             }
            },
            "type": "parcoords"
           }
          ],
          "pie": [
           {
            "automargin": true,
            "type": "pie"
           }
          ],
          "scatter": [
           {
            "fillpattern": {
             "fillmode": "overlay",
             "size": 10,
             "solidity": 0.2
            },
            "type": "scatter"
           }
          ],
          "scatter3d": [
           {
            "line": {
             "colorbar": {
              "outlinewidth": 0,
              "ticks": ""
             }
            },
            "marker": {
             "colorbar": {
              "outlinewidth": 0,
              "ticks": ""
             }
            },
            "type": "scatter3d"
           }
          ],
          "scattercarpet": [
           {
            "marker": {
             "colorbar": {
              "outlinewidth": 0,
              "ticks": ""
             }
            },
            "type": "scattercarpet"
           }
          ],
          "scattergeo": [
           {
            "marker": {
             "colorbar": {
              "outlinewidth": 0,
              "ticks": ""
             }
            },
            "type": "scattergeo"
           }
          ],
          "scattergl": [
           {
            "marker": {
             "colorbar": {
              "outlinewidth": 0,
              "ticks": ""
             }
            },
            "type": "scattergl"
           }
          ],
          "scattermapbox": [
           {
            "marker": {
             "colorbar": {
              "outlinewidth": 0,
              "ticks": ""
             }
            },
            "type": "scattermapbox"
           }
          ],
          "scatterpolar": [
           {
            "marker": {
             "colorbar": {
              "outlinewidth": 0,
              "ticks": ""
             }
            },
            "type": "scatterpolar"
           }
          ],
          "scatterpolargl": [
           {
            "marker": {
             "colorbar": {
              "outlinewidth": 0,
              "ticks": ""
             }
            },
            "type": "scatterpolargl"
           }
          ],
          "scatterternary": [
           {
            "marker": {
             "colorbar": {
              "outlinewidth": 0,
              "ticks": ""
             }
            },
            "type": "scatterternary"
           }
          ],
          "surface": [
           {
            "colorbar": {
             "outlinewidth": 0,
             "ticks": ""
            },
            "colorscale": [
             [
              0,
              "#0d0887"
             ],
             [
              0.1111111111111111,
              "#46039f"
             ],
             [
              0.2222222222222222,
              "#7201a8"
             ],
             [
              0.3333333333333333,
              "#9c179e"
             ],
             [
              0.4444444444444444,
              "#bd3786"
             ],
             [
              0.5555555555555556,
              "#d8576b"
             ],
             [
              0.6666666666666666,
              "#ed7953"
             ],
             [
              0.7777777777777778,
              "#fb9f3a"
             ],
             [
              0.8888888888888888,
              "#fdca26"
             ],
             [
              1,
              "#f0f921"
             ]
            ],
            "type": "surface"
           }
          ],
          "table": [
           {
            "cells": {
             "fill": {
              "color": "#EBF0F8"
             },
             "line": {
              "color": "white"
             }
            },
            "header": {
             "fill": {
              "color": "#C8D4E3"
             },
             "line": {
              "color": "white"
             }
            },
            "type": "table"
           }
          ]
         },
         "layout": {
          "annotationdefaults": {
           "arrowcolor": "#2a3f5f",
           "arrowhead": 0,
           "arrowwidth": 1
          },
          "autotypenumbers": "strict",
          "coloraxis": {
           "colorbar": {
            "outlinewidth": 0,
            "ticks": ""
           }
          },
          "colorscale": {
           "diverging": [
            [
             0,
             "#8e0152"
            ],
            [
             0.1,
             "#c51b7d"
            ],
            [
             0.2,
             "#de77ae"
            ],
            [
             0.3,
             "#f1b6da"
            ],
            [
             0.4,
             "#fde0ef"
            ],
            [
             0.5,
             "#f7f7f7"
            ],
            [
             0.6,
             "#e6f5d0"
            ],
            [
             0.7,
             "#b8e186"
            ],
            [
             0.8,
             "#7fbc41"
            ],
            [
             0.9,
             "#4d9221"
            ],
            [
             1,
             "#276419"
            ]
           ],
           "sequential": [
            [
             0,
             "#0d0887"
            ],
            [
             0.1111111111111111,
             "#46039f"
            ],
            [
             0.2222222222222222,
             "#7201a8"
            ],
            [
             0.3333333333333333,
             "#9c179e"
            ],
            [
             0.4444444444444444,
             "#bd3786"
            ],
            [
             0.5555555555555556,
             "#d8576b"
            ],
            [
             0.6666666666666666,
             "#ed7953"
            ],
            [
             0.7777777777777778,
             "#fb9f3a"
            ],
            [
             0.8888888888888888,
             "#fdca26"
            ],
            [
             1,
             "#f0f921"
            ]
           ],
           "sequentialminus": [
            [
             0,
             "#0d0887"
            ],
            [
             0.1111111111111111,
             "#46039f"
            ],
            [
             0.2222222222222222,
             "#7201a8"
            ],
            [
             0.3333333333333333,
             "#9c179e"
            ],
            [
             0.4444444444444444,
             "#bd3786"
            ],
            [
             0.5555555555555556,
             "#d8576b"
            ],
            [
             0.6666666666666666,
             "#ed7953"
            ],
            [
             0.7777777777777778,
             "#fb9f3a"
            ],
            [
             0.8888888888888888,
             "#fdca26"
            ],
            [
             1,
             "#f0f921"
            ]
           ]
          },
          "colorway": [
           "#636efa",
           "#EF553B",
           "#00cc96",
           "#ab63fa",
           "#FFA15A",
           "#19d3f3",
           "#FF6692",
           "#B6E880",
           "#FF97FF",
           "#FECB52"
          ],
          "font": {
           "color": "#2a3f5f"
          },
          "geo": {
           "bgcolor": "white",
           "lakecolor": "white",
           "landcolor": "#E5ECF6",
           "showlakes": true,
           "showland": true,
           "subunitcolor": "white"
          },
          "hoverlabel": {
           "align": "left"
          },
          "hovermode": "closest",
          "mapbox": {
           "style": "light"
          },
          "paper_bgcolor": "white",
          "plot_bgcolor": "#E5ECF6",
          "polar": {
           "angularaxis": {
            "gridcolor": "white",
            "linecolor": "white",
            "ticks": ""
           },
           "bgcolor": "#E5ECF6",
           "radialaxis": {
            "gridcolor": "white",
            "linecolor": "white",
            "ticks": ""
           }
          },
          "scene": {
           "xaxis": {
            "backgroundcolor": "#E5ECF6",
            "gridcolor": "white",
            "gridwidth": 2,
            "linecolor": "white",
            "showbackground": true,
            "ticks": "",
            "zerolinecolor": "white"
           },
           "yaxis": {
            "backgroundcolor": "#E5ECF6",
            "gridcolor": "white",
            "gridwidth": 2,
            "linecolor": "white",
            "showbackground": true,
            "ticks": "",
            "zerolinecolor": "white"
           },
           "zaxis": {
            "backgroundcolor": "#E5ECF6",
            "gridcolor": "white",
            "gridwidth": 2,
            "linecolor": "white",
            "showbackground": true,
            "ticks": "",
            "zerolinecolor": "white"
           }
          },
          "shapedefaults": {
           "line": {
            "color": "#2a3f5f"
           }
          },
          "ternary": {
           "aaxis": {
            "gridcolor": "white",
            "linecolor": "white",
            "ticks": ""
           },
           "baxis": {
            "gridcolor": "white",
            "linecolor": "white",
            "ticks": ""
           },
           "bgcolor": "#E5ECF6",
           "caxis": {
            "gridcolor": "white",
            "linecolor": "white",
            "ticks": ""
           }
          },
          "title": {
           "x": 0.05
          },
          "xaxis": {
           "automargin": true,
           "gridcolor": "white",
           "linecolor": "white",
           "ticks": "",
           "title": {
            "standoff": 15
           },
           "zerolinecolor": "white",
           "zerolinewidth": 2
          },
          "yaxis": {
           "automargin": true,
           "gridcolor": "white",
           "linecolor": "white",
           "ticks": "",
           "title": {
            "standoff": 15
           },
           "zerolinecolor": "white",
           "zerolinewidth": 2
          }
         }
        },
        "width": 900,
        "xaxis": {
         "anchor": "y",
         "constrain": "domain",
         "domain": [
          0,
          1
         ],
         "scaleanchor": "y"
        },
        "yaxis": {
         "anchor": "x",
         "autorange": "reversed",
         "constrain": "domain",
         "domain": [
          0,
          1
         ]
        }
       }
      }
     },
     "metadata": {},
     "output_type": "display_data"
    }
   ],
   "source": [
    "import plotly.express as px\n",
    "import plotly.io as pio\n",
    "import pandas as pd\n",
    "\n",
    "def plot_corr_sample(df_corr, width=900, height=600, color='geyser', method='pearson'):\n",
    "    \"\"\"根据输入的标准化基因表达水平矩阵，绘制样本相关性热图\n",
    "    \n",
    "    Args:\n",
    "        df_corr (pandas.DataFrame): 标准化基因表达水平矩阵\n",
    "        width (int): 图片宽度\n",
    "        height (int): 图片高度\n",
    "        color (str): 颜色方案\n",
    "        method (str): 计算相关性的方法，pearson或spearman\n",
    "    \"\"\"\n",
    "    # 数据预处理\n",
    "    df_corr = df_corr.iloc[:, 1:]\n",
    "    df_corr = df_corr.round(2)\n",
    "\n",
    "    # 计算df_corr的样本数量\n",
    "    sample_num = df_corr.shape[1]\n",
    "\n",
    "    # 选择计算相关性的方法\n",
    "    if method == 'pearson':\n",
    "        # 计算样本之间的相关性（使用皮尔森系数）\n",
    "        correlation_matrix = df_corr.corr(method='pearson')\n",
    "    else:\n",
    "        correlation_matrix = df_corr.corr(method='spearman')\n",
    "\n",
    "    # 创建注释文本，用于标记相关性值\n",
    "    annotations = []\n",
    "    font_size_control = int(10 - sample_num/10)\n",
    "    for i, row in enumerate(correlation_matrix.values):\n",
    "        for j, value in enumerate(row):\n",
    "            if abs(value) > 0.8:  # 用星星标记大于0.8的相关性值\n",
    "                text = \"★★\"\n",
    "                font_size = font_size_control\n",
    "            elif abs(value) > 0.6:  # 显示大于0.6的相关性值\n",
    "                text = \"★\"\n",
    "                font_size = font_size_control\n",
    "            else:\n",
    "                continue  # 不显示小于或等于0.7的值\n",
    "\n",
    "            annotations.append(dict(\n",
    "                x=j, y=i, text=text, xref='x1', yref='y1',\n",
    "                font=dict(color='white' if abs(value) > 0.5 else 'black', size=font_size),\n",
    "                showarrow=False))\n",
    "            \n",
    "    # 绘制热图\n",
    "    fig = px.imshow(correlation_matrix,\n",
    "                    color_continuous_scale=color,\n",
    "                    zmin=-1, zmax=1,\n",
    "                    labels=dict(color='Correlation'))\n",
    "    \n",
    "    # 更新布局以将图例放置在图的右侧\n",
    "    fig.update_layout(\n",
    "        width=width,\n",
    "        height=height,\n",
    "        annotations=annotations,\n",
    "    )\n",
    "    \n",
    "    # 添加解释性标注到图外的空白处\n",
    "    fig.add_annotation(\n",
    "        xref=\"paper\", yref=\"paper\",\n",
    "        x=1.05, y=1.07,  # 在图外的空白处定位\n",
    "        text=\"★★:Correlation > 0.8<br>★: Correlation > 0.6\",\n",
    "        showarrow=False,\n",
    "        align=\"left\"\n",
    "    )\n",
    "\n",
    "    # 保存为高清图片\n",
    "    fig.write_image(workdir_omic + \"correlation_analysis/output_file/corr_sample.png\", scale=4)\n",
    "\n",
    "    # 方案1:将fig对象转为json\n",
    "    # fig_json = pio.to_json(fig)\n",
    "    # return fig_json\n",
    "\n",
    "    # 方案2:将fig转为html格式，返回html代码\n",
    "    # fig_html = pio(fig, output_type='div', include_plotlyjs=False)        \n",
    "    # return fig_html\n",
    "\n",
    "    # 方案3:将fig转为html格式，保存为html文件\n",
    "    # fig.write_html(\"corr_sample.html\")\n",
    "    # return \"corr_sample.html\"\n",
    "\n",
    "    # 测试用\n",
    "    return fig\n",
    "\n",
    "# 示例调用\n",
    "plot_corr_sample(df_corr,\n",
    "          width=900,\n",
    "          height=600,\n",
    "          color='geyser',\n",
    "          method='pearson'\n",
    "          )"
   ]
  },
  {
   "cell_type": "code",
   "execution_count": 58,
   "metadata": {},
   "outputs": [
    {
     "data": {
      "application/vnd.plotly.v1+json": {
       "config": {
        "plotlyServerURL": "https://plot.ly"
       },
       "data": [
        {
         "coloraxis": "coloraxis",
         "hovertemplate": "x: %{x}<br>y: %{y}<br>color: %{z}<extra></extra>",
         "name": "0",
         "type": "heatmap",
         "x": [
          "Gene1",
          "Gene2",
          "Gene3",
          "Gene4",
          "Gene5",
          "Gene6",
          "Gene7",
          "Gene8",
          "Gene9",
          "Gene10",
          "Gene11",
          "Gene12",
          "Gene13",
          "Gene14",
          "Gene15"
         ],
         "xaxis": "x",
         "y": [
          "Gene1",
          "Gene2",
          "Gene3",
          "Gene4",
          "Gene5",
          "Gene6",
          "Gene7",
          "Gene8",
          "Gene9",
          "Gene10",
          "Gene11",
          "Gene12",
          "Gene13",
          "Gene14",
          "Gene15"
         ],
         "yaxis": "y",
         "z": [
          [
           1,
           0.9141637387014139,
           0.9292385792188468,
           0.9364517072592097,
           -0.5908765097567992,
           -0.9075785775821869,
           0.8880111627408034,
           0.9490096446708028,
           -0.6031364762070018,
           -0.01998067368719479,
           -0.49359096627246873,
           0.8585782600345262,
           0.5061370327435835,
           -0.703372916533774,
           -0.6793159984708388
          ],
          [
           0.9141637387014139,
           1,
           0.8517526047598869,
           0.9073350859348354,
           -0.5425135272619833,
           -0.8617681792448094,
           0.7626190088989627,
           0.8990410245784599,
           -0.6558313584274251,
           -0.19660717671522943,
           -0.4458242014742343,
           0.8977561170450936,
           0.6485088849446659,
           -0.7337387017329984,
           -0.7695899959737511
          ],
          [
           0.9292385792188468,
           0.8517526047598869,
           1,
           0.9557060840179357,
           -0.43984874236352434,
           -0.7913357112931544,
           0.8542199877847299,
           0.8405609871147252,
           -0.6946215032659298,
           0.15361982117963568,
           -0.3570439874125504,
           0.8583644914261421,
           0.36185275156719493,
           -0.6719564704746656,
           -0.7112277751634144
          ],
          [
           0.9364517072592097,
           0.9073350859348354,
           0.9557060840179357,
           1,
           -0.35790284883129614,
           -0.7617833707366274,
           0.8120223435745721,
           0.8522909190210771,
           -0.6319745509957204,
           0.07389120369236878,
           -0.2714798460993554,
           0.8654980792635015,
           0.3398602933202719,
           -0.6119730088619653,
           -0.6818978716487324
          ],
          [
           -0.5908765097567992,
           -0.5425135272619833,
           -0.43984874236352434,
           -0.35790284883129614,
           1,
           0.825320401287792,
           -0.6596279273828016,
           -0.7222907528399782,
           0.5402122457373725,
           0.22204021203205856,
           0.9015309431590417,
           -0.6619268279481187,
           -0.6677150409553668,
           0.7739225082125851,
           0.6255475458664637
          ],
          [
           -0.9075785775821869,
           -0.8617681792448094,
           -0.7913357112931544,
           -0.7617833707366274,
           0.825320401287792,
           1,
           -0.9068460076111948,
           -0.9612584130242595,
           0.7085189503145926,
           0.19013293186907268,
           0.7127332607784794,
           -0.8712321132373333,
           -0.6117960211857836,
           0.8545051643191746,
           0.7905761982285125
          ],
          [
           0.8880111627408034,
           0.7626190088989627,
           0.8542199877847299,
           0.8120223435745721,
           -0.6596279273828016,
           -0.9068460076111948,
           1,
           0.942550211491967,
           -0.7849057139096826,
           -0.12680613935057727,
           -0.5071955787883179,
           0.8761102001225444,
           0.3119360511946594,
           -0.7087073771740565,
           -0.8074706594156312
          ],
          [
           0.9490096446708028,
           0.8990410245784599,
           0.8405609871147252,
           0.8522909190210771,
           -0.7222907528399782,
           -0.9612584130242595,
           0.942550211491967,
           1,
           -0.7056796806647724,
           -0.2490520089301972,
           -0.5845641357029205,
           0.9160441259558351,
           0.5429683469892964,
           -0.7511921680900338,
           -0.7963888043623418
          ],
          [
           -0.6031364762070018,
           -0.6558313584274251,
           -0.6946215032659298,
           -0.6319745509957204,
           0.5402122457373725,
           0.7085189503145926,
           -0.7849057139096826,
           -0.7056796806647724,
           1,
           0.0841910420209141,
           0.29033445321265217,
           -0.8143052608505659,
           -0.3412186110846044,
           0.7634447907480697,
           0.974557301269202
          ],
          [
           -0.01998067368719479,
           -0.19660717671522943,
           0.15361982117963568,
           0.07389120369236878,
           0.22204021203205856,
           0.19013293186907268,
           -0.12680613935057727,
           -0.2490520089301972,
           0.0841910420209141,
           1,
           0.17813749944594845,
           -0.1815911400823458,
           -0.3307569352856648,
           -0.07746838504530497,
           0.22938968514003982
          ],
          [
           -0.49359096627246873,
           -0.4458242014742343,
           -0.3570439874125504,
           -0.2714798460993554,
           0.9015309431590417,
           0.7127332607784794,
           -0.5071955787883179,
           -0.5845641357029205,
           0.29033445321265217,
           0.17813749944594845,
           1,
           -0.5601286498590042,
           -0.5410768551579056,
           0.6705306341254169,
           0.3839110490394429
          ],
          [
           0.8585782600345262,
           0.8977561170450936,
           0.8583644914261421,
           0.8654980792635015,
           -0.6619268279481187,
           -0.8712321132373333,
           0.8761102001225444,
           0.9160441259558351,
           -0.8143052608505659,
           -0.1815911400823458,
           -0.5601286498590042,
           1,
           0.4793293951152343,
           -0.7862266670787761,
           -0.8829156041561694
          ],
          [
           0.5061370327435835,
           0.6485088849446659,
           0.36185275156719493,
           0.3398602933202719,
           -0.6677150409553668,
           -0.6117960211857836,
           0.3119360511946594,
           0.5429683469892964,
           -0.3412186110846044,
           -0.3307569352856648,
           -0.5410768551579056,
           0.4793293951152343,
           1,
           -0.5854640821443307,
           -0.4942624639113421
          ],
          [
           -0.703372916533774,
           -0.7337387017329984,
           -0.6719564704746656,
           -0.6119730088619653,
           0.7739225082125851,
           0.8545051643191746,
           -0.7087073771740565,
           -0.7511921680900338,
           0.7634447907480697,
           -0.07746838504530497,
           0.6705306341254169,
           -0.7862266670787761,
           -0.5854640821443307,
           1,
           0.7941681784923762
          ],
          [
           -0.6793159984708388,
           -0.7695899959737511,
           -0.7112277751634144,
           -0.6818978716487324,
           0.6255475458664637,
           0.7905761982285125,
           -0.8074706594156312,
           -0.7963888043623418,
           0.974557301269202,
           0.22938968514003982,
           0.3839110490394429,
           -0.8829156041561694,
           -0.4942624639113421,
           0.7941681784923762,
           1
          ]
         ]
        }
       ],
       "layout": {
        "annotations": [
         {
          "font": {
           "color": "white",
           "size": 7
          },
          "showarrow": false,
          "text": "★★",
          "x": 0,
          "xref": "x",
          "y": 0,
          "yref": "y"
         },
         {
          "font": {
           "color": "white",
           "size": 7
          },
          "showarrow": false,
          "text": "★★",
          "x": 1,
          "xref": "x",
          "y": 0,
          "yref": "y"
         },
         {
          "font": {
           "color": "white",
           "size": 7
          },
          "showarrow": false,
          "text": "★★",
          "x": 2,
          "xref": "x",
          "y": 0,
          "yref": "y"
         },
         {
          "font": {
           "color": "white",
           "size": 7
          },
          "showarrow": false,
          "text": "★★",
          "x": 3,
          "xref": "x",
          "y": 0,
          "yref": "y"
         },
         {
          "font": {
           "color": "white",
           "size": 7
          },
          "showarrow": false,
          "text": "★★",
          "x": 5,
          "xref": "x",
          "y": 0,
          "yref": "y"
         },
         {
          "font": {
           "color": "white",
           "size": 7
          },
          "showarrow": false,
          "text": "★",
          "x": 6,
          "xref": "x",
          "y": 0,
          "yref": "y"
         },
         {
          "font": {
           "color": "white",
           "size": 7
          },
          "showarrow": false,
          "text": "★★",
          "x": 7,
          "xref": "x",
          "y": 0,
          "yref": "y"
         },
         {
          "font": {
           "color": "white",
           "size": 7
          },
          "showarrow": false,
          "text": "★",
          "x": 11,
          "xref": "x",
          "y": 0,
          "yref": "y"
         },
         {
          "font": {
           "color": "white",
           "size": 7
          },
          "showarrow": false,
          "text": "★",
          "x": 13,
          "xref": "x",
          "y": 0,
          "yref": "y"
         },
         {
          "font": {
           "color": "white",
           "size": 7
          },
          "showarrow": false,
          "text": "★★",
          "x": 0,
          "xref": "x",
          "y": 1,
          "yref": "y"
         },
         {
          "font": {
           "color": "white",
           "size": 7
          },
          "showarrow": false,
          "text": "★★",
          "x": 1,
          "xref": "x",
          "y": 1,
          "yref": "y"
         },
         {
          "font": {
           "color": "white",
           "size": 7
          },
          "showarrow": false,
          "text": "★",
          "x": 2,
          "xref": "x",
          "y": 1,
          "yref": "y"
         },
         {
          "font": {
           "color": "white",
           "size": 7
          },
          "showarrow": false,
          "text": "★★",
          "x": 3,
          "xref": "x",
          "y": 1,
          "yref": "y"
         },
         {
          "font": {
           "color": "white",
           "size": 7
          },
          "showarrow": false,
          "text": "★",
          "x": 5,
          "xref": "x",
          "y": 1,
          "yref": "y"
         },
         {
          "font": {
           "color": "white",
           "size": 7
          },
          "showarrow": false,
          "text": "★",
          "x": 6,
          "xref": "x",
          "y": 1,
          "yref": "y"
         },
         {
          "font": {
           "color": "white",
           "size": 7
          },
          "showarrow": false,
          "text": "★",
          "x": 7,
          "xref": "x",
          "y": 1,
          "yref": "y"
         },
         {
          "font": {
           "color": "white",
           "size": 7
          },
          "showarrow": false,
          "text": "★",
          "x": 11,
          "xref": "x",
          "y": 1,
          "yref": "y"
         },
         {
          "font": {
           "color": "white",
           "size": 7
          },
          "showarrow": false,
          "text": "★",
          "x": 13,
          "xref": "x",
          "y": 1,
          "yref": "y"
         },
         {
          "font": {
           "color": "white",
           "size": 7
          },
          "showarrow": false,
          "text": "★",
          "x": 14,
          "xref": "x",
          "y": 1,
          "yref": "y"
         },
         {
          "font": {
           "color": "white",
           "size": 7
          },
          "showarrow": false,
          "text": "★★",
          "x": 0,
          "xref": "x",
          "y": 2,
          "yref": "y"
         },
         {
          "font": {
           "color": "white",
           "size": 7
          },
          "showarrow": false,
          "text": "★",
          "x": 1,
          "xref": "x",
          "y": 2,
          "yref": "y"
         },
         {
          "font": {
           "color": "white",
           "size": 7
          },
          "showarrow": false,
          "text": "★★",
          "x": 2,
          "xref": "x",
          "y": 2,
          "yref": "y"
         },
         {
          "font": {
           "color": "white",
           "size": 7
          },
          "showarrow": false,
          "text": "★★",
          "x": 3,
          "xref": "x",
          "y": 2,
          "yref": "y"
         },
         {
          "font": {
           "color": "white",
           "size": 7
          },
          "showarrow": false,
          "text": "★",
          "x": 5,
          "xref": "x",
          "y": 2,
          "yref": "y"
         },
         {
          "font": {
           "color": "white",
           "size": 7
          },
          "showarrow": false,
          "text": "★",
          "x": 6,
          "xref": "x",
          "y": 2,
          "yref": "y"
         },
         {
          "font": {
           "color": "white",
           "size": 7
          },
          "showarrow": false,
          "text": "★",
          "x": 7,
          "xref": "x",
          "y": 2,
          "yref": "y"
         },
         {
          "font": {
           "color": "white",
           "size": 7
          },
          "showarrow": false,
          "text": "★",
          "x": 11,
          "xref": "x",
          "y": 2,
          "yref": "y"
         },
         {
          "font": {
           "color": "white",
           "size": 7
          },
          "showarrow": false,
          "text": "★",
          "x": 14,
          "xref": "x",
          "y": 2,
          "yref": "y"
         },
         {
          "font": {
           "color": "white",
           "size": 7
          },
          "showarrow": false,
          "text": "★★",
          "x": 0,
          "xref": "x",
          "y": 3,
          "yref": "y"
         },
         {
          "font": {
           "color": "white",
           "size": 7
          },
          "showarrow": false,
          "text": "★★",
          "x": 1,
          "xref": "x",
          "y": 3,
          "yref": "y"
         },
         {
          "font": {
           "color": "white",
           "size": 7
          },
          "showarrow": false,
          "text": "★★",
          "x": 2,
          "xref": "x",
          "y": 3,
          "yref": "y"
         },
         {
          "font": {
           "color": "white",
           "size": 7
          },
          "showarrow": false,
          "text": "★★",
          "x": 3,
          "xref": "x",
          "y": 3,
          "yref": "y"
         },
         {
          "font": {
           "color": "white",
           "size": 7
          },
          "showarrow": false,
          "text": "★",
          "x": 5,
          "xref": "x",
          "y": 3,
          "yref": "y"
         },
         {
          "font": {
           "color": "white",
           "size": 7
          },
          "showarrow": false,
          "text": "★",
          "x": 6,
          "xref": "x",
          "y": 3,
          "yref": "y"
         },
         {
          "font": {
           "color": "white",
           "size": 7
          },
          "showarrow": false,
          "text": "★",
          "x": 7,
          "xref": "x",
          "y": 3,
          "yref": "y"
         },
         {
          "font": {
           "color": "white",
           "size": 7
          },
          "showarrow": false,
          "text": "★",
          "x": 11,
          "xref": "x",
          "y": 3,
          "yref": "y"
         },
         {
          "font": {
           "color": "white",
           "size": 7
          },
          "showarrow": false,
          "text": "★★",
          "x": 4,
          "xref": "x",
          "y": 4,
          "yref": "y"
         },
         {
          "font": {
           "color": "white",
           "size": 7
          },
          "showarrow": false,
          "text": "★",
          "x": 5,
          "xref": "x",
          "y": 4,
          "yref": "y"
         },
         {
          "font": {
           "color": "white",
           "size": 7
          },
          "showarrow": false,
          "text": "★",
          "x": 7,
          "xref": "x",
          "y": 4,
          "yref": "y"
         },
         {
          "font": {
           "color": "white",
           "size": 7
          },
          "showarrow": false,
          "text": "★★",
          "x": 10,
          "xref": "x",
          "y": 4,
          "yref": "y"
         },
         {
          "font": {
           "color": "white",
           "size": 7
          },
          "showarrow": false,
          "text": "★",
          "x": 13,
          "xref": "x",
          "y": 4,
          "yref": "y"
         },
         {
          "font": {
           "color": "white",
           "size": 7
          },
          "showarrow": false,
          "text": "★★",
          "x": 0,
          "xref": "x",
          "y": 5,
          "yref": "y"
         },
         {
          "font": {
           "color": "white",
           "size": 7
          },
          "showarrow": false,
          "text": "★",
          "x": 1,
          "xref": "x",
          "y": 5,
          "yref": "y"
         },
         {
          "font": {
           "color": "white",
           "size": 7
          },
          "showarrow": false,
          "text": "★",
          "x": 2,
          "xref": "x",
          "y": 5,
          "yref": "y"
         },
         {
          "font": {
           "color": "white",
           "size": 7
          },
          "showarrow": false,
          "text": "★",
          "x": 3,
          "xref": "x",
          "y": 5,
          "yref": "y"
         },
         {
          "font": {
           "color": "white",
           "size": 7
          },
          "showarrow": false,
          "text": "★",
          "x": 4,
          "xref": "x",
          "y": 5,
          "yref": "y"
         },
         {
          "font": {
           "color": "white",
           "size": 7
          },
          "showarrow": false,
          "text": "★★",
          "x": 5,
          "xref": "x",
          "y": 5,
          "yref": "y"
         },
         {
          "font": {
           "color": "white",
           "size": 7
          },
          "showarrow": false,
          "text": "★★",
          "x": 6,
          "xref": "x",
          "y": 5,
          "yref": "y"
         },
         {
          "font": {
           "color": "white",
           "size": 7
          },
          "showarrow": false,
          "text": "★★",
          "x": 7,
          "xref": "x",
          "y": 5,
          "yref": "y"
         },
         {
          "font": {
           "color": "white",
           "size": 7
          },
          "showarrow": false,
          "text": "★",
          "x": 8,
          "xref": "x",
          "y": 5,
          "yref": "y"
         },
         {
          "font": {
           "color": "white",
           "size": 7
          },
          "showarrow": false,
          "text": "★",
          "x": 10,
          "xref": "x",
          "y": 5,
          "yref": "y"
         },
         {
          "font": {
           "color": "white",
           "size": 7
          },
          "showarrow": false,
          "text": "★",
          "x": 11,
          "xref": "x",
          "y": 5,
          "yref": "y"
         },
         {
          "font": {
           "color": "white",
           "size": 7
          },
          "showarrow": false,
          "text": "★",
          "x": 13,
          "xref": "x",
          "y": 5,
          "yref": "y"
         },
         {
          "font": {
           "color": "white",
           "size": 7
          },
          "showarrow": false,
          "text": "★",
          "x": 14,
          "xref": "x",
          "y": 5,
          "yref": "y"
         },
         {
          "font": {
           "color": "white",
           "size": 7
          },
          "showarrow": false,
          "text": "★",
          "x": 0,
          "xref": "x",
          "y": 6,
          "yref": "y"
         },
         {
          "font": {
           "color": "white",
           "size": 7
          },
          "showarrow": false,
          "text": "★",
          "x": 1,
          "xref": "x",
          "y": 6,
          "yref": "y"
         },
         {
          "font": {
           "color": "white",
           "size": 7
          },
          "showarrow": false,
          "text": "★",
          "x": 2,
          "xref": "x",
          "y": 6,
          "yref": "y"
         },
         {
          "font": {
           "color": "white",
           "size": 7
          },
          "showarrow": false,
          "text": "★",
          "x": 3,
          "xref": "x",
          "y": 6,
          "yref": "y"
         },
         {
          "font": {
           "color": "white",
           "size": 7
          },
          "showarrow": false,
          "text": "★★",
          "x": 5,
          "xref": "x",
          "y": 6,
          "yref": "y"
         },
         {
          "font": {
           "color": "white",
           "size": 7
          },
          "showarrow": false,
          "text": "★★",
          "x": 6,
          "xref": "x",
          "y": 6,
          "yref": "y"
         },
         {
          "font": {
           "color": "white",
           "size": 7
          },
          "showarrow": false,
          "text": "★★",
          "x": 7,
          "xref": "x",
          "y": 6,
          "yref": "y"
         },
         {
          "font": {
           "color": "white",
           "size": 7
          },
          "showarrow": false,
          "text": "★",
          "x": 8,
          "xref": "x",
          "y": 6,
          "yref": "y"
         },
         {
          "font": {
           "color": "white",
           "size": 7
          },
          "showarrow": false,
          "text": "★",
          "x": 11,
          "xref": "x",
          "y": 6,
          "yref": "y"
         },
         {
          "font": {
           "color": "white",
           "size": 7
          },
          "showarrow": false,
          "text": "★",
          "x": 13,
          "xref": "x",
          "y": 6,
          "yref": "y"
         },
         {
          "font": {
           "color": "white",
           "size": 7
          },
          "showarrow": false,
          "text": "★",
          "x": 14,
          "xref": "x",
          "y": 6,
          "yref": "y"
         },
         {
          "font": {
           "color": "white",
           "size": 7
          },
          "showarrow": false,
          "text": "★★",
          "x": 0,
          "xref": "x",
          "y": 7,
          "yref": "y"
         },
         {
          "font": {
           "color": "white",
           "size": 7
          },
          "showarrow": false,
          "text": "★",
          "x": 1,
          "xref": "x",
          "y": 7,
          "yref": "y"
         },
         {
          "font": {
           "color": "white",
           "size": 7
          },
          "showarrow": false,
          "text": "★",
          "x": 2,
          "xref": "x",
          "y": 7,
          "yref": "y"
         },
         {
          "font": {
           "color": "white",
           "size": 7
          },
          "showarrow": false,
          "text": "★",
          "x": 3,
          "xref": "x",
          "y": 7,
          "yref": "y"
         },
         {
          "font": {
           "color": "white",
           "size": 7
          },
          "showarrow": false,
          "text": "★",
          "x": 4,
          "xref": "x",
          "y": 7,
          "yref": "y"
         },
         {
          "font": {
           "color": "white",
           "size": 7
          },
          "showarrow": false,
          "text": "★★",
          "x": 5,
          "xref": "x",
          "y": 7,
          "yref": "y"
         },
         {
          "font": {
           "color": "white",
           "size": 7
          },
          "showarrow": false,
          "text": "★★",
          "x": 6,
          "xref": "x",
          "y": 7,
          "yref": "y"
         },
         {
          "font": {
           "color": "white",
           "size": 7
          },
          "showarrow": false,
          "text": "★★",
          "x": 7,
          "xref": "x",
          "y": 7,
          "yref": "y"
         },
         {
          "font": {
           "color": "white",
           "size": 7
          },
          "showarrow": false,
          "text": "★",
          "x": 8,
          "xref": "x",
          "y": 7,
          "yref": "y"
         },
         {
          "font": {
           "color": "white",
           "size": 7
          },
          "showarrow": false,
          "text": "★★",
          "x": 11,
          "xref": "x",
          "y": 7,
          "yref": "y"
         },
         {
          "font": {
           "color": "white",
           "size": 7
          },
          "showarrow": false,
          "text": "★",
          "x": 13,
          "xref": "x",
          "y": 7,
          "yref": "y"
         },
         {
          "font": {
           "color": "white",
           "size": 7
          },
          "showarrow": false,
          "text": "★",
          "x": 14,
          "xref": "x",
          "y": 7,
          "yref": "y"
         },
         {
          "font": {
           "color": "white",
           "size": 7
          },
          "showarrow": false,
          "text": "★",
          "x": 5,
          "xref": "x",
          "y": 8,
          "yref": "y"
         },
         {
          "font": {
           "color": "white",
           "size": 7
          },
          "showarrow": false,
          "text": "★",
          "x": 6,
          "xref": "x",
          "y": 8,
          "yref": "y"
         },
         {
          "font": {
           "color": "white",
           "size": 7
          },
          "showarrow": false,
          "text": "★",
          "x": 7,
          "xref": "x",
          "y": 8,
          "yref": "y"
         },
         {
          "font": {
           "color": "white",
           "size": 7
          },
          "showarrow": false,
          "text": "★★",
          "x": 8,
          "xref": "x",
          "y": 8,
          "yref": "y"
         },
         {
          "font": {
           "color": "white",
           "size": 7
          },
          "showarrow": false,
          "text": "★",
          "x": 11,
          "xref": "x",
          "y": 8,
          "yref": "y"
         },
         {
          "font": {
           "color": "white",
           "size": 7
          },
          "showarrow": false,
          "text": "★",
          "x": 13,
          "xref": "x",
          "y": 8,
          "yref": "y"
         },
         {
          "font": {
           "color": "white",
           "size": 7
          },
          "showarrow": false,
          "text": "★★",
          "x": 14,
          "xref": "x",
          "y": 8,
          "yref": "y"
         },
         {
          "font": {
           "color": "white",
           "size": 7
          },
          "showarrow": false,
          "text": "★★",
          "x": 9,
          "xref": "x",
          "y": 9,
          "yref": "y"
         },
         {
          "font": {
           "color": "white",
           "size": 7
          },
          "showarrow": false,
          "text": "★★",
          "x": 4,
          "xref": "x",
          "y": 10,
          "yref": "y"
         },
         {
          "font": {
           "color": "white",
           "size": 7
          },
          "showarrow": false,
          "text": "★",
          "x": 5,
          "xref": "x",
          "y": 10,
          "yref": "y"
         },
         {
          "font": {
           "color": "white",
           "size": 7
          },
          "showarrow": false,
          "text": "★★",
          "x": 10,
          "xref": "x",
          "y": 10,
          "yref": "y"
         },
         {
          "font": {
           "color": "white",
           "size": 7
          },
          "showarrow": false,
          "text": "★",
          "x": 0,
          "xref": "x",
          "y": 11,
          "yref": "y"
         },
         {
          "font": {
           "color": "white",
           "size": 7
          },
          "showarrow": false,
          "text": "★",
          "x": 1,
          "xref": "x",
          "y": 11,
          "yref": "y"
         },
         {
          "font": {
           "color": "white",
           "size": 7
          },
          "showarrow": false,
          "text": "★",
          "x": 2,
          "xref": "x",
          "y": 11,
          "yref": "y"
         },
         {
          "font": {
           "color": "white",
           "size": 7
          },
          "showarrow": false,
          "text": "★",
          "x": 3,
          "xref": "x",
          "y": 11,
          "yref": "y"
         },
         {
          "font": {
           "color": "white",
           "size": 7
          },
          "showarrow": false,
          "text": "★",
          "x": 5,
          "xref": "x",
          "y": 11,
          "yref": "y"
         },
         {
          "font": {
           "color": "white",
           "size": 7
          },
          "showarrow": false,
          "text": "★",
          "x": 6,
          "xref": "x",
          "y": 11,
          "yref": "y"
         },
         {
          "font": {
           "color": "white",
           "size": 7
          },
          "showarrow": false,
          "text": "★★",
          "x": 7,
          "xref": "x",
          "y": 11,
          "yref": "y"
         },
         {
          "font": {
           "color": "white",
           "size": 7
          },
          "showarrow": false,
          "text": "★",
          "x": 8,
          "xref": "x",
          "y": 11,
          "yref": "y"
         },
         {
          "font": {
           "color": "white",
           "size": 7
          },
          "showarrow": false,
          "text": "★★",
          "x": 11,
          "xref": "x",
          "y": 11,
          "yref": "y"
         },
         {
          "font": {
           "color": "white",
           "size": 7
          },
          "showarrow": false,
          "text": "★",
          "x": 13,
          "xref": "x",
          "y": 11,
          "yref": "y"
         },
         {
          "font": {
           "color": "white",
           "size": 7
          },
          "showarrow": false,
          "text": "★",
          "x": 14,
          "xref": "x",
          "y": 11,
          "yref": "y"
         },
         {
          "font": {
           "color": "white",
           "size": 7
          },
          "showarrow": false,
          "text": "★★",
          "x": 12,
          "xref": "x",
          "y": 12,
          "yref": "y"
         },
         {
          "font": {
           "color": "white",
           "size": 7
          },
          "showarrow": false,
          "text": "★",
          "x": 0,
          "xref": "x",
          "y": 13,
          "yref": "y"
         },
         {
          "font": {
           "color": "white",
           "size": 7
          },
          "showarrow": false,
          "text": "★",
          "x": 1,
          "xref": "x",
          "y": 13,
          "yref": "y"
         },
         {
          "font": {
           "color": "white",
           "size": 7
          },
          "showarrow": false,
          "text": "★",
          "x": 4,
          "xref": "x",
          "y": 13,
          "yref": "y"
         },
         {
          "font": {
           "color": "white",
           "size": 7
          },
          "showarrow": false,
          "text": "★",
          "x": 5,
          "xref": "x",
          "y": 13,
          "yref": "y"
         },
         {
          "font": {
           "color": "white",
           "size": 7
          },
          "showarrow": false,
          "text": "★",
          "x": 6,
          "xref": "x",
          "y": 13,
          "yref": "y"
         },
         {
          "font": {
           "color": "white",
           "size": 7
          },
          "showarrow": false,
          "text": "★",
          "x": 7,
          "xref": "x",
          "y": 13,
          "yref": "y"
         },
         {
          "font": {
           "color": "white",
           "size": 7
          },
          "showarrow": false,
          "text": "★",
          "x": 8,
          "xref": "x",
          "y": 13,
          "yref": "y"
         },
         {
          "font": {
           "color": "white",
           "size": 7
          },
          "showarrow": false,
          "text": "★",
          "x": 11,
          "xref": "x",
          "y": 13,
          "yref": "y"
         },
         {
          "font": {
           "color": "white",
           "size": 7
          },
          "showarrow": false,
          "text": "★★",
          "x": 13,
          "xref": "x",
          "y": 13,
          "yref": "y"
         },
         {
          "font": {
           "color": "white",
           "size": 7
          },
          "showarrow": false,
          "text": "★",
          "x": 14,
          "xref": "x",
          "y": 13,
          "yref": "y"
         },
         {
          "font": {
           "color": "white",
           "size": 7
          },
          "showarrow": false,
          "text": "★",
          "x": 1,
          "xref": "x",
          "y": 14,
          "yref": "y"
         },
         {
          "font": {
           "color": "white",
           "size": 7
          },
          "showarrow": false,
          "text": "★",
          "x": 2,
          "xref": "x",
          "y": 14,
          "yref": "y"
         },
         {
          "font": {
           "color": "white",
           "size": 7
          },
          "showarrow": false,
          "text": "★",
          "x": 5,
          "xref": "x",
          "y": 14,
          "yref": "y"
         },
         {
          "font": {
           "color": "white",
           "size": 7
          },
          "showarrow": false,
          "text": "★",
          "x": 6,
          "xref": "x",
          "y": 14,
          "yref": "y"
         },
         {
          "font": {
           "color": "white",
           "size": 7
          },
          "showarrow": false,
          "text": "★",
          "x": 7,
          "xref": "x",
          "y": 14,
          "yref": "y"
         },
         {
          "font": {
           "color": "white",
           "size": 7
          },
          "showarrow": false,
          "text": "★★",
          "x": 8,
          "xref": "x",
          "y": 14,
          "yref": "y"
         },
         {
          "font": {
           "color": "white",
           "size": 7
          },
          "showarrow": false,
          "text": "★",
          "x": 11,
          "xref": "x",
          "y": 14,
          "yref": "y"
         },
         {
          "font": {
           "color": "white",
           "size": 7
          },
          "showarrow": false,
          "text": "★",
          "x": 13,
          "xref": "x",
          "y": 14,
          "yref": "y"
         },
         {
          "font": {
           "color": "white",
           "size": 7
          },
          "showarrow": false,
          "text": "★★",
          "x": 14,
          "xref": "x",
          "y": 14,
          "yref": "y"
         },
         {
          "align": "left",
          "showarrow": false,
          "text": "★★:Correlation > 0.8<br>★: Correlation > 0.6",
          "x": 1.05,
          "xref": "paper",
          "y": 1.07,
          "yref": "paper"
         }
        ],
        "coloraxis": {
         "cmax": 1,
         "cmin": -1,
         "colorscale": [
          [
           0,
           "rgb(0, 128, 128)"
          ],
          [
           0.16666666666666666,
           "rgb(112, 164, 148)"
          ],
          [
           0.3333333333333333,
           "rgb(180, 200, 168)"
          ],
          [
           0.5,
           "rgb(246, 237, 189)"
          ],
          [
           0.6666666666666666,
           "rgb(237, 187, 138)"
          ],
          [
           0.8333333333333334,
           "rgb(222, 138, 90)"
          ],
          [
           1,
           "rgb(202, 86, 44)"
          ]
         ]
        },
        "height": 600,
        "margin": {
         "t": 60
        },
        "template": {
         "data": {
          "bar": [
           {
            "error_x": {
             "color": "#2a3f5f"
            },
            "error_y": {
             "color": "#2a3f5f"
            },
            "marker": {
             "line": {
              "color": "#E5ECF6",
              "width": 0.5
             },
             "pattern": {
              "fillmode": "overlay",
              "size": 10,
              "solidity": 0.2
             }
            },
            "type": "bar"
           }
          ],
          "barpolar": [
           {
            "marker": {
             "line": {
              "color": "#E5ECF6",
              "width": 0.5
             },
             "pattern": {
              "fillmode": "overlay",
              "size": 10,
              "solidity": 0.2
             }
            },
            "type": "barpolar"
           }
          ],
          "carpet": [
           {
            "aaxis": {
             "endlinecolor": "#2a3f5f",
             "gridcolor": "white",
             "linecolor": "white",
             "minorgridcolor": "white",
             "startlinecolor": "#2a3f5f"
            },
            "baxis": {
             "endlinecolor": "#2a3f5f",
             "gridcolor": "white",
             "linecolor": "white",
             "minorgridcolor": "white",
             "startlinecolor": "#2a3f5f"
            },
            "type": "carpet"
           }
          ],
          "choropleth": [
           {
            "colorbar": {
             "outlinewidth": 0,
             "ticks": ""
            },
            "type": "choropleth"
           }
          ],
          "contour": [
           {
            "colorbar": {
             "outlinewidth": 0,
             "ticks": ""
            },
            "colorscale": [
             [
              0,
              "#0d0887"
             ],
             [
              0.1111111111111111,
              "#46039f"
             ],
             [
              0.2222222222222222,
              "#7201a8"
             ],
             [
              0.3333333333333333,
              "#9c179e"
             ],
             [
              0.4444444444444444,
              "#bd3786"
             ],
             [
              0.5555555555555556,
              "#d8576b"
             ],
             [
              0.6666666666666666,
              "#ed7953"
             ],
             [
              0.7777777777777778,
              "#fb9f3a"
             ],
             [
              0.8888888888888888,
              "#fdca26"
             ],
             [
              1,
              "#f0f921"
             ]
            ],
            "type": "contour"
           }
          ],
          "contourcarpet": [
           {
            "colorbar": {
             "outlinewidth": 0,
             "ticks": ""
            },
            "type": "contourcarpet"
           }
          ],
          "heatmap": [
           {
            "colorbar": {
             "outlinewidth": 0,
             "ticks": ""
            },
            "colorscale": [
             [
              0,
              "#0d0887"
             ],
             [
              0.1111111111111111,
              "#46039f"
             ],
             [
              0.2222222222222222,
              "#7201a8"
             ],
             [
              0.3333333333333333,
              "#9c179e"
             ],
             [
              0.4444444444444444,
              "#bd3786"
             ],
             [
              0.5555555555555556,
              "#d8576b"
             ],
             [
              0.6666666666666666,
              "#ed7953"
             ],
             [
              0.7777777777777778,
              "#fb9f3a"
             ],
             [
              0.8888888888888888,
              "#fdca26"
             ],
             [
              1,
              "#f0f921"
             ]
            ],
            "type": "heatmap"
           }
          ],
          "heatmapgl": [
           {
            "colorbar": {
             "outlinewidth": 0,
             "ticks": ""
            },
            "colorscale": [
             [
              0,
              "#0d0887"
             ],
             [
              0.1111111111111111,
              "#46039f"
             ],
             [
              0.2222222222222222,
              "#7201a8"
             ],
             [
              0.3333333333333333,
              "#9c179e"
             ],
             [
              0.4444444444444444,
              "#bd3786"
             ],
             [
              0.5555555555555556,
              "#d8576b"
             ],
             [
              0.6666666666666666,
              "#ed7953"
             ],
             [
              0.7777777777777778,
              "#fb9f3a"
             ],
             [
              0.8888888888888888,
              "#fdca26"
             ],
             [
              1,
              "#f0f921"
             ]
            ],
            "type": "heatmapgl"
           }
          ],
          "histogram": [
           {
            "marker": {
             "pattern": {
              "fillmode": "overlay",
              "size": 10,
              "solidity": 0.2
             }
            },
            "type": "histogram"
           }
          ],
          "histogram2d": [
           {
            "colorbar": {
             "outlinewidth": 0,
             "ticks": ""
            },
            "colorscale": [
             [
              0,
              "#0d0887"
             ],
             [
              0.1111111111111111,
              "#46039f"
             ],
             [
              0.2222222222222222,
              "#7201a8"
             ],
             [
              0.3333333333333333,
              "#9c179e"
             ],
             [
              0.4444444444444444,
              "#bd3786"
             ],
             [
              0.5555555555555556,
              "#d8576b"
             ],
             [
              0.6666666666666666,
              "#ed7953"
             ],
             [
              0.7777777777777778,
              "#fb9f3a"
             ],
             [
              0.8888888888888888,
              "#fdca26"
             ],
             [
              1,
              "#f0f921"
             ]
            ],
            "type": "histogram2d"
           }
          ],
          "histogram2dcontour": [
           {
            "colorbar": {
             "outlinewidth": 0,
             "ticks": ""
            },
            "colorscale": [
             [
              0,
              "#0d0887"
             ],
             [
              0.1111111111111111,
              "#46039f"
             ],
             [
              0.2222222222222222,
              "#7201a8"
             ],
             [
              0.3333333333333333,
              "#9c179e"
             ],
             [
              0.4444444444444444,
              "#bd3786"
             ],
             [
              0.5555555555555556,
              "#d8576b"
             ],
             [
              0.6666666666666666,
              "#ed7953"
             ],
             [
              0.7777777777777778,
              "#fb9f3a"
             ],
             [
              0.8888888888888888,
              "#fdca26"
             ],
             [
              1,
              "#f0f921"
             ]
            ],
            "type": "histogram2dcontour"
           }
          ],
          "mesh3d": [
           {
            "colorbar": {
             "outlinewidth": 0,
             "ticks": ""
            },
            "type": "mesh3d"
           }
          ],
          "parcoords": [
           {
            "line": {
             "colorbar": {
              "outlinewidth": 0,
              "ticks": ""
             }
            },
            "type": "parcoords"
           }
          ],
          "pie": [
           {
            "automargin": true,
            "type": "pie"
           }
          ],
          "scatter": [
           {
            "fillpattern": {
             "fillmode": "overlay",
             "size": 10,
             "solidity": 0.2
            },
            "type": "scatter"
           }
          ],
          "scatter3d": [
           {
            "line": {
             "colorbar": {
              "outlinewidth": 0,
              "ticks": ""
             }
            },
            "marker": {
             "colorbar": {
              "outlinewidth": 0,
              "ticks": ""
             }
            },
            "type": "scatter3d"
           }
          ],
          "scattercarpet": [
           {
            "marker": {
             "colorbar": {
              "outlinewidth": 0,
              "ticks": ""
             }
            },
            "type": "scattercarpet"
           }
          ],
          "scattergeo": [
           {
            "marker": {
             "colorbar": {
              "outlinewidth": 0,
              "ticks": ""
             }
            },
            "type": "scattergeo"
           }
          ],
          "scattergl": [
           {
            "marker": {
             "colorbar": {
              "outlinewidth": 0,
              "ticks": ""
             }
            },
            "type": "scattergl"
           }
          ],
          "scattermapbox": [
           {
            "marker": {
             "colorbar": {
              "outlinewidth": 0,
              "ticks": ""
             }
            },
            "type": "scattermapbox"
           }
          ],
          "scatterpolar": [
           {
            "marker": {
             "colorbar": {
              "outlinewidth": 0,
              "ticks": ""
             }
            },
            "type": "scatterpolar"
           }
          ],
          "scatterpolargl": [
           {
            "marker": {
             "colorbar": {
              "outlinewidth": 0,
              "ticks": ""
             }
            },
            "type": "scatterpolargl"
           }
          ],
          "scatterternary": [
           {
            "marker": {
             "colorbar": {
              "outlinewidth": 0,
              "ticks": ""
             }
            },
            "type": "scatterternary"
           }
          ],
          "surface": [
           {
            "colorbar": {
             "outlinewidth": 0,
             "ticks": ""
            },
            "colorscale": [
             [
              0,
              "#0d0887"
             ],
             [
              0.1111111111111111,
              "#46039f"
             ],
             [
              0.2222222222222222,
              "#7201a8"
             ],
             [
              0.3333333333333333,
              "#9c179e"
             ],
             [
              0.4444444444444444,
              "#bd3786"
             ],
             [
              0.5555555555555556,
              "#d8576b"
             ],
             [
              0.6666666666666666,
              "#ed7953"
             ],
             [
              0.7777777777777778,
              "#fb9f3a"
             ],
             [
              0.8888888888888888,
              "#fdca26"
             ],
             [
              1,
              "#f0f921"
             ]
            ],
            "type": "surface"
           }
          ],
          "table": [
           {
            "cells": {
             "fill": {
              "color": "#EBF0F8"
             },
             "line": {
              "color": "white"
             }
            },
            "header": {
             "fill": {
              "color": "#C8D4E3"
             },
             "line": {
              "color": "white"
             }
            },
            "type": "table"
           }
          ]
         },
         "layout": {
          "annotationdefaults": {
           "arrowcolor": "#2a3f5f",
           "arrowhead": 0,
           "arrowwidth": 1
          },
          "autotypenumbers": "strict",
          "coloraxis": {
           "colorbar": {
            "outlinewidth": 0,
            "ticks": ""
           }
          },
          "colorscale": {
           "diverging": [
            [
             0,
             "#8e0152"
            ],
            [
             0.1,
             "#c51b7d"
            ],
            [
             0.2,
             "#de77ae"
            ],
            [
             0.3,
             "#f1b6da"
            ],
            [
             0.4,
             "#fde0ef"
            ],
            [
             0.5,
             "#f7f7f7"
            ],
            [
             0.6,
             "#e6f5d0"
            ],
            [
             0.7,
             "#b8e186"
            ],
            [
             0.8,
             "#7fbc41"
            ],
            [
             0.9,
             "#4d9221"
            ],
            [
             1,
             "#276419"
            ]
           ],
           "sequential": [
            [
             0,
             "#0d0887"
            ],
            [
             0.1111111111111111,
             "#46039f"
            ],
            [
             0.2222222222222222,
             "#7201a8"
            ],
            [
             0.3333333333333333,
             "#9c179e"
            ],
            [
             0.4444444444444444,
             "#bd3786"
            ],
            [
             0.5555555555555556,
             "#d8576b"
            ],
            [
             0.6666666666666666,
             "#ed7953"
            ],
            [
             0.7777777777777778,
             "#fb9f3a"
            ],
            [
             0.8888888888888888,
             "#fdca26"
            ],
            [
             1,
             "#f0f921"
            ]
           ],
           "sequentialminus": [
            [
             0,
             "#0d0887"
            ],
            [
             0.1111111111111111,
             "#46039f"
            ],
            [
             0.2222222222222222,
             "#7201a8"
            ],
            [
             0.3333333333333333,
             "#9c179e"
            ],
            [
             0.4444444444444444,
             "#bd3786"
            ],
            [
             0.5555555555555556,
             "#d8576b"
            ],
            [
             0.6666666666666666,
             "#ed7953"
            ],
            [
             0.7777777777777778,
             "#fb9f3a"
            ],
            [
             0.8888888888888888,
             "#fdca26"
            ],
            [
             1,
             "#f0f921"
            ]
           ]
          },
          "colorway": [
           "#636efa",
           "#EF553B",
           "#00cc96",
           "#ab63fa",
           "#FFA15A",
           "#19d3f3",
           "#FF6692",
           "#B6E880",
           "#FF97FF",
           "#FECB52"
          ],
          "font": {
           "color": "#2a3f5f"
          },
          "geo": {
           "bgcolor": "white",
           "lakecolor": "white",
           "landcolor": "#E5ECF6",
           "showlakes": true,
           "showland": true,
           "subunitcolor": "white"
          },
          "hoverlabel": {
           "align": "left"
          },
          "hovermode": "closest",
          "mapbox": {
           "style": "light"
          },
          "paper_bgcolor": "white",
          "plot_bgcolor": "#E5ECF6",
          "polar": {
           "angularaxis": {
            "gridcolor": "white",
            "linecolor": "white",
            "ticks": ""
           },
           "bgcolor": "#E5ECF6",
           "radialaxis": {
            "gridcolor": "white",
            "linecolor": "white",
            "ticks": ""
           }
          },
          "scene": {
           "xaxis": {
            "backgroundcolor": "#E5ECF6",
            "gridcolor": "white",
            "gridwidth": 2,
            "linecolor": "white",
            "showbackground": true,
            "ticks": "",
            "zerolinecolor": "white"
           },
           "yaxis": {
            "backgroundcolor": "#E5ECF6",
            "gridcolor": "white",
            "gridwidth": 2,
            "linecolor": "white",
            "showbackground": true,
            "ticks": "",
            "zerolinecolor": "white"
           },
           "zaxis": {
            "backgroundcolor": "#E5ECF6",
            "gridcolor": "white",
            "gridwidth": 2,
            "linecolor": "white",
            "showbackground": true,
            "ticks": "",
            "zerolinecolor": "white"
           }
          },
          "shapedefaults": {
           "line": {
            "color": "#2a3f5f"
           }
          },
          "ternary": {
           "aaxis": {
            "gridcolor": "white",
            "linecolor": "white",
            "ticks": ""
           },
           "baxis": {
            "gridcolor": "white",
            "linecolor": "white",
            "ticks": ""
           },
           "bgcolor": "#E5ECF6",
           "caxis": {
            "gridcolor": "white",
            "linecolor": "white",
            "ticks": ""
           }
          },
          "title": {
           "x": 0.05
          },
          "xaxis": {
           "automargin": true,
           "gridcolor": "white",
           "linecolor": "white",
           "ticks": "",
           "title": {
            "standoff": 15
           },
           "zerolinecolor": "white",
           "zerolinewidth": 2
          },
          "yaxis": {
           "automargin": true,
           "gridcolor": "white",
           "linecolor": "white",
           "ticks": "",
           "title": {
            "standoff": 15
           },
           "zerolinecolor": "white",
           "zerolinewidth": 2
          }
         }
        },
        "width": 900,
        "xaxis": {
         "anchor": "y",
         "constrain": "domain",
         "domain": [
          0,
          1
         ],
         "scaleanchor": "y"
        },
        "yaxis": {
         "anchor": "x",
         "autorange": "reversed",
         "constrain": "domain",
         "domain": [
          0,
          1
         ]
        }
       }
      }
     },
     "metadata": {},
     "output_type": "display_data"
    }
   ],
   "source": [
    "def plot_corr_gene(df_corr, width=1280, height=720, color='geyser', method='pearson'):\n",
    "    \"\"\"根据输入的标准化基因表达水平矩阵，绘制基因相关性热图\n",
    "\n",
    "    Args:\n",
    "        df_corr (pandas.DataFrame): 标准化基因表达水平矩阵\n",
    "        width (int): 图片宽度\n",
    "        height (int): 图片高度\n",
    "        color (str): 颜色方案\n",
    "        method (str): 计算相关性的方法，pearson或spearman\n",
    "    \"\"\"\n",
    "    # 预处理,只保留前30个基因\n",
    "    gene_ids = df_corr.iloc[:30, 0]\n",
    "    df_corr = df_corr.iloc[:30, 1:]\n",
    "    df_corr = df_corr.round(2)\n",
    "\n",
    "    # 计算df_corr有多少行\n",
    "    sample_num = df_corr.shape[0]\n",
    "    \n",
    "    # 选择计算相关性的方法\n",
    "    if method == 'pearson':\n",
    "        # 计算样本之间的相关性（使用皮尔森系数）\n",
    "        correlation_matrix = df_corr.T.corr(method='pearson')\n",
    "    else:\n",
    "        correlation_matrix = df_corr.T.corr(method='spearman')\n",
    "\n",
    "    # 创建注释文本，用于标记相关性值\n",
    "    annotations = []\n",
    "    font_size_control = 10 - abs(int(sample_num/5))\n",
    "    for i, row in enumerate(correlation_matrix.values):\n",
    "        for j, value in enumerate(row):\n",
    "            if abs(value) > 0.9:  # 用星星标记大于0.8的相关性值\n",
    "                text = \"★★\"\n",
    "                font_size = font_size_control\n",
    "            elif abs(value) > 0.7:  # 显示大于0.7的相关性值\n",
    "                text = \"★\"\n",
    "                font_size = font_size_control\n",
    "            else:\n",
    "                continue  # 不显示小于或等于0.7的值\n",
    "\n",
    "            annotations.append(dict(\n",
    "                x=j, y=i, text=text, xref='x1', yref='y1',\n",
    "                font=dict(color='white' if abs(value) > 0.5 else 'black', size=font_size),\n",
    "                showarrow=False))\n",
    "                 \n",
    "    # 绘制相关性矩阵的热图\n",
    "    fig = px.imshow(correlation_matrix,\n",
    "                    color_continuous_scale=color,\n",
    "                    zmin=-1,  # 设置颜色比例尺的最小值\n",
    "                    zmax=1,  # 设置颜色比例尺的最大值\n",
    "                    x=gene_ids, # 设置x轴为基因id\n",
    "                    y=gene_ids) # 设置y轴为基因id\n",
    "    \n",
    "    # 更新布局以将图例放置在图的右侧\n",
    "    fig.update_layout(\n",
    "        width=width,\n",
    "        height=height,\n",
    "        annotations=annotations,\n",
    "    )\n",
    "    \n",
    "    # 添加解释性标注到图外的空白处\n",
    "    fig.add_annotation(\n",
    "        xref=\"paper\", yref=\"paper\",\n",
    "        x=1.05, y=1.07,  # 在图外的空白处定位\n",
    "        text=\"★★:Correlation > 0.8<br>★: Correlation > 0.6\",\n",
    "        showarrow=False,\n",
    "        align=\"left\"\n",
    "    )\n",
    "\n",
    "    # 保存为高清图片\n",
    "    fig.write_image(workdir_omic + \"correlation_analysis/output_file/corr_gene.png\", scale=4)\n",
    "\n",
    "    # 方案1:将fig对象转为json\n",
    "    # fig_json = pio.to_json(fig)\n",
    "    # return fig_json\n",
    "\n",
    "    # 方案2:将fig转为html格式，返回html代码\n",
    "    # fig_html = plot(fig, output_type='div', include_plotlyjs=False)    \n",
    "    # return fig_html\n",
    "\n",
    "    # 方案3:将fig转为html格式，保存为html文件\n",
    "    # fig.write_html(\"corr_gene.html\")\n",
    "    # return \"corr_gene.html\"\n",
    "\n",
    "    return fig\n",
    "\n",
    "# 示例调用\n",
    "plot_corr_gene(df_corr,\n",
    "               width=900,\n",
    "               height=600,\n",
    "               color='geyser',\n",
    "               method='pearson'\n",
    "               )"
   ]
  },
  {
   "cell_type": "code",
   "execution_count": 5,
   "metadata": {},
   "outputs": [
    {
     "data": {
      "application/vnd.plotly.v1+json": {
       "config": {
        "plotlyServerURL": "https://plot.ly"
       },
       "data": [
        {
         "hoverinfo": "none",
         "line": {
          "color": "red",
          "width": 0.3
         },
         "mode": "lines",
         "type": "scatter",
         "x": [
          -0.4599724372026503,
          -0.8266609173188848,
          null,
          -0.4599724372026503,
          -0.1516979483838778,
          null,
          -0.4599724372026503,
          0.2833351322225969,
          null,
          -0.4599724372026503,
          0.9110513023527848,
          null,
          -0.4599724372026503,
          0.7496903862887547,
          null,
          -0.4599724372026503,
          1,
          null,
          -0.8266609173188848,
          -0.1516979483838778,
          null,
          -0.8266609173188848,
          0.2833351322225969,
          null,
          -0.8266609173188848,
          0.9110513023527848,
          null,
          -0.8266609173188848,
          0.7496903862887547,
          null,
          -0.8266609173188848,
          1,
          null,
          -0.8266609173188848,
          -0.8504200731885637,
          null,
          -0.1516979483838778,
          0.2833351322225969,
          null,
          -0.1516979483838778,
          0.9110513023527848,
          null,
          -0.1516979483838778,
          0.7496903862887547,
          null,
          -0.1516979483838778,
          1,
          null,
          0.2833351322225969,
          0.9110513023527848,
          null,
          0.2833351322225969,
          0.7496903862887547,
          null,
          0.2833351322225969,
          1,
          null,
          0.2204123617926897,
          -0.21773397690533147,
          null,
          0.2204123617926897,
          0.3171219617993443,
          null,
          0.2204123617926897,
          -0.7013795480808563,
          null,
          0.2204123617926897,
          -0.5647365003138164,
          null,
          -0.21773397690533147,
          0.29099025693781033,
          null,
          -0.21773397690533147,
          0.3171219617993443,
          null,
          -0.21773397690533147,
          -0.7013795480808563,
          null,
          -0.21773397690533147,
          -0.5647365003138164,
          null,
          0.9110513023527848,
          0.7496903862887547,
          null,
          0.9110513023527848,
          1,
          null,
          0.7496903862887547,
          1,
          null,
          0.29099025693781033,
          -0.7013795480808563,
          null,
          0.29099025693781033,
          -0.5647365003138164,
          null,
          0.3171219617993443,
          -0.7013795480808563,
          null,
          -0.7013795480808563,
          -0.5647365003138164,
          null
         ],
         "y": [
          0.23919008659521246,
          0.06723678511608976,
          null,
          0.23919008659521246,
          -0.6860098700949983,
          null,
          0.23919008659521246,
          -0.303485414597337,
          null,
          0.23919008659521246,
          0.4268602263497238,
          null,
          0.23919008659521246,
          -0.5174655965662576,
          null,
          0.23919008659521246,
          -0.226065285563283,
          null,
          0.06723678511608976,
          -0.6860098700949983,
          null,
          0.06723678511608976,
          -0.303485414597337,
          null,
          0.06723678511608976,
          0.4268602263497238,
          null,
          0.06723678511608976,
          -0.5174655965662576,
          null,
          0.06723678511608976,
          -0.226065285563283,
          null,
          0.06723678511608976,
          -0.292079669798392,
          null,
          -0.6860098700949983,
          -0.303485414597337,
          null,
          -0.6860098700949983,
          0.4268602263497238,
          null,
          -0.6860098700949983,
          -0.5174655965662576,
          null,
          -0.6860098700949983,
          -0.226065285563283,
          null,
          -0.303485414597337,
          0.4268602263497238,
          null,
          -0.303485414597337,
          -0.5174655965662576,
          null,
          -0.303485414597337,
          -0.226065285563283,
          null,
          0.6021678428608555,
          0.6250870483538389,
          null,
          0.6021678428608555,
          0.8180364083042696,
          null,
          0.6021678428608555,
          -0.5696345235845711,
          null,
          0.6021678428608555,
          0.5825341106147781,
          null,
          0.6250870483538389,
          -0.766372147989929,
          null,
          0.6250870483538389,
          0.8180364083042696,
          null,
          0.6250870483538389,
          -0.5696345235845711,
          null,
          0.6250870483538389,
          0.5825341106147781,
          null,
          0.4268602263497238,
          -0.5174655965662576,
          null,
          0.4268602263497238,
          -0.226065285563283,
          null,
          -0.5174655965662576,
          -0.226065285563283,
          null,
          -0.766372147989929,
          -0.5696345235845711,
          null,
          -0.766372147989929,
          0.5825341106147781,
          null,
          0.8180364083042696,
          -0.5696345235845711,
          null,
          -0.5696345235845711,
          0.5825341106147781,
          null
         ]
        },
        {
         "hoverinfo": "none",
         "line": {
          "color": "blue",
          "width": 0.3
         },
         "mode": "lines",
         "type": "scatter",
         "x": [
          -0.4599724372026503,
          -0.21773397690533147,
          null,
          -0.4599724372026503,
          0.29099025693781033,
          null,
          -0.4599724372026503,
          -0.7013795480808563,
          null,
          -0.4599724372026503,
          -0.5647365003138164,
          null,
          -0.8266609173188848,
          -0.21773397690533147,
          null,
          -0.8266609173188848,
          0.29099025693781033,
          null,
          -0.8266609173188848,
          -0.7013795480808563,
          null,
          -0.8266609173188848,
          -0.5647365003138164,
          null,
          -0.1516979483838778,
          -0.21773397690533147,
          null,
          -0.1516979483838778,
          0.29099025693781033,
          null,
          -0.1516979483838778,
          -0.7013795480808563,
          null,
          -0.1516979483838778,
          -0.5647365003138164,
          null,
          0.2833351322225969,
          -0.21773397690533147,
          null,
          0.2833351322225969,
          0.29099025693781033,
          null,
          0.2833351322225969,
          -0.7013795480808563,
          null,
          0.2833351322225969,
          -0.5647365003138164,
          null,
          0.2204123617926897,
          0.9110513023527848,
          null,
          0.2204123617926897,
          0.7496903862887547,
          null,
          0.2204123617926897,
          1,
          null,
          0.2204123617926897,
          -0.8504200731885637,
          null,
          -0.21773397690533147,
          0.9110513023527848,
          null,
          -0.21773397690533147,
          0.7496903862887547,
          null,
          -0.21773397690533147,
          1,
          null,
          -0.21773397690533147,
          -0.8504200731885637,
          null,
          0.9110513023527848,
          0.29099025693781033,
          null,
          0.9110513023527848,
          -0.7013795480808563,
          null,
          0.9110513023527848,
          -0.5647365003138164,
          null,
          0.7496903862887547,
          0.29099025693781033,
          null,
          0.7496903862887547,
          -0.7013795480808563,
          null,
          0.7496903862887547,
          -0.5647365003138164,
          null,
          0.29099025693781033,
          1,
          null,
          1,
          -0.7013795480808563,
          null,
          1,
          -0.5647365003138164,
          null
         ],
         "y": [
          0.23919008659521246,
          0.6250870483538389,
          null,
          0.23919008659521246,
          -0.766372147989929,
          null,
          0.23919008659521246,
          -0.5696345235845711,
          null,
          0.23919008659521246,
          0.5825341106147781,
          null,
          0.06723678511608976,
          0.6250870483538389,
          null,
          0.06723678511608976,
          -0.766372147989929,
          null,
          0.06723678511608976,
          -0.5696345235845711,
          null,
          0.06723678511608976,
          0.5825341106147781,
          null,
          -0.6860098700949983,
          0.6250870483538389,
          null,
          -0.6860098700949983,
          -0.766372147989929,
          null,
          -0.6860098700949983,
          -0.5696345235845711,
          null,
          -0.6860098700949983,
          0.5825341106147781,
          null,
          -0.303485414597337,
          0.6250870483538389,
          null,
          -0.303485414597337,
          -0.766372147989929,
          null,
          -0.303485414597337,
          -0.5696345235845711,
          null,
          -0.303485414597337,
          0.5825341106147781,
          null,
          0.6021678428608555,
          0.4268602263497238,
          null,
          0.6021678428608555,
          -0.5174655965662576,
          null,
          0.6021678428608555,
          -0.226065285563283,
          null,
          0.6021678428608555,
          -0.292079669798392,
          null,
          0.6250870483538389,
          0.4268602263497238,
          null,
          0.6250870483538389,
          -0.5174655965662576,
          null,
          0.6250870483538389,
          -0.226065285563283,
          null,
          0.6250870483538389,
          -0.292079669798392,
          null,
          0.4268602263497238,
          -0.766372147989929,
          null,
          0.4268602263497238,
          -0.5696345235845711,
          null,
          0.4268602263497238,
          0.5825341106147781,
          null,
          -0.5174655965662576,
          -0.766372147989929,
          null,
          -0.5174655965662576,
          -0.5696345235845711,
          null,
          -0.5174655965662576,
          0.5825341106147781,
          null,
          -0.766372147989929,
          -0.226065285563283,
          null,
          -0.226065285563283,
          -0.5696345235845711,
          null,
          -0.226065285563283,
          0.5825341106147781,
          null
         ]
        },
        {
         "hoverinfo": "text",
         "marker": {
          "color": [
           10,
           11,
           10,
           10,
           8,
           13,
           11,
           11,
           10,
           3,
           11,
           3,
           12,
           11
          ],
          "colorbar": {
           "thickness": 15,
           "title": {
            "side": "right",
            "text": "Number of Significantly Correlated Nodes"
           },
           "xanchor": "left"
          },
          "colorscale": [
           [
            0,
            "rgb(0, 128, 128)"
           ],
           [
            0.16666666666666666,
            "rgb(112, 164, 148)"
           ],
           [
            0.3333333333333333,
            "rgb(180, 200, 168)"
           ],
           [
            0.5,
            "rgb(246, 237, 189)"
           ],
           [
            0.6666666666666666,
            "rgb(237, 187, 138)"
           ],
           [
            0.8333333333333334,
            "rgb(222, 138, 90)"
           ],
           [
            1,
            "rgb(202, 86, 44)"
           ]
          ],
          "line": {
           "width": 2
          },
          "showscale": true,
          "size": [
           40,
           42.5,
           40,
           40,
           35,
           47.5,
           42.5,
           42.5,
           40,
           22.5,
           42.5,
           22.5,
           45,
           42.5
          ]
         },
         "mode": "markers",
         "text": [
          "Gene1",
          "Gene2",
          "Gene3",
          "Gene4",
          "Gene5",
          "Gene6",
          "Gene7",
          "Gene8",
          "Gene9",
          "Gene11",
          "Gene12",
          "Gene13",
          "Gene14",
          "Gene15"
         ],
         "type": "scatter",
         "x": [
          -0.4599724372026503,
          -0.8266609173188848,
          -0.1516979483838778,
          0.2833351322225969,
          0.2204123617926897,
          -0.21773397690533147,
          0.9110513023527848,
          0.7496903862887547,
          0.29099025693781033,
          0.3171219617993443,
          1,
          -0.8504200731885637,
          -0.7013795480808563,
          -0.5647365003138164
         ],
         "y": [
          0.23919008659521246,
          0.06723678511608976,
          -0.6860098700949983,
          -0.303485414597337,
          0.6021678428608555,
          0.6250870483538389,
          0.4268602263497238,
          -0.5174655965662576,
          -0.766372147989929,
          0.8180364083042696,
          -0.226065285563283,
          -0.292079669798392,
          -0.5696345235845711,
          0.5825341106147781
         ]
        }
       ],
       "layout": {
        "annotations": [
         {
          "showarrow": false,
          "text": "",
          "x": 0.005,
          "xref": "paper",
          "y": -0.002,
          "yref": "paper"
         }
        ],
        "autosize": false,
        "height": 800,
        "hovermode": "closest",
        "margin": {
         "b": 0,
         "l": 0,
         "r": 0,
         "t": 40
        },
        "showlegend": false,
        "template": {
         "data": {
          "bar": [
           {
            "error_x": {
             "color": "#2a3f5f"
            },
            "error_y": {
             "color": "#2a3f5f"
            },
            "marker": {
             "line": {
              "color": "white",
              "width": 0.5
             },
             "pattern": {
              "fillmode": "overlay",
              "size": 10,
              "solidity": 0.2
             }
            },
            "type": "bar"
           }
          ],
          "barpolar": [
           {
            "marker": {
             "line": {
              "color": "white",
              "width": 0.5
             },
             "pattern": {
              "fillmode": "overlay",
              "size": 10,
              "solidity": 0.2
             }
            },
            "type": "barpolar"
           }
          ],
          "carpet": [
           {
            "aaxis": {
             "endlinecolor": "#2a3f5f",
             "gridcolor": "#C8D4E3",
             "linecolor": "#C8D4E3",
             "minorgridcolor": "#C8D4E3",
             "startlinecolor": "#2a3f5f"
            },
            "baxis": {
             "endlinecolor": "#2a3f5f",
             "gridcolor": "#C8D4E3",
             "linecolor": "#C8D4E3",
             "minorgridcolor": "#C8D4E3",
             "startlinecolor": "#2a3f5f"
            },
            "type": "carpet"
           }
          ],
          "choropleth": [
           {
            "colorbar": {
             "outlinewidth": 0,
             "ticks": ""
            },
            "type": "choropleth"
           }
          ],
          "contour": [
           {
            "colorbar": {
             "outlinewidth": 0,
             "ticks": ""
            },
            "colorscale": [
             [
              0,
              "#0d0887"
             ],
             [
              0.1111111111111111,
              "#46039f"
             ],
             [
              0.2222222222222222,
              "#7201a8"
             ],
             [
              0.3333333333333333,
              "#9c179e"
             ],
             [
              0.4444444444444444,
              "#bd3786"
             ],
             [
              0.5555555555555556,
              "#d8576b"
             ],
             [
              0.6666666666666666,
              "#ed7953"
             ],
             [
              0.7777777777777778,
              "#fb9f3a"
             ],
             [
              0.8888888888888888,
              "#fdca26"
             ],
             [
              1,
              "#f0f921"
             ]
            ],
            "type": "contour"
           }
          ],
          "contourcarpet": [
           {
            "colorbar": {
             "outlinewidth": 0,
             "ticks": ""
            },
            "type": "contourcarpet"
           }
          ],
          "heatmap": [
           {
            "colorbar": {
             "outlinewidth": 0,
             "ticks": ""
            },
            "colorscale": [
             [
              0,
              "#0d0887"
             ],
             [
              0.1111111111111111,
              "#46039f"
             ],
             [
              0.2222222222222222,
              "#7201a8"
             ],
             [
              0.3333333333333333,
              "#9c179e"
             ],
             [
              0.4444444444444444,
              "#bd3786"
             ],
             [
              0.5555555555555556,
              "#d8576b"
             ],
             [
              0.6666666666666666,
              "#ed7953"
             ],
             [
              0.7777777777777778,
              "#fb9f3a"
             ],
             [
              0.8888888888888888,
              "#fdca26"
             ],
             [
              1,
              "#f0f921"
             ]
            ],
            "type": "heatmap"
           }
          ],
          "heatmapgl": [
           {
            "colorbar": {
             "outlinewidth": 0,
             "ticks": ""
            },
            "colorscale": [
             [
              0,
              "#0d0887"
             ],
             [
              0.1111111111111111,
              "#46039f"
             ],
             [
              0.2222222222222222,
              "#7201a8"
             ],
             [
              0.3333333333333333,
              "#9c179e"
             ],
             [
              0.4444444444444444,
              "#bd3786"
             ],
             [
              0.5555555555555556,
              "#d8576b"
             ],
             [
              0.6666666666666666,
              "#ed7953"
             ],
             [
              0.7777777777777778,
              "#fb9f3a"
             ],
             [
              0.8888888888888888,
              "#fdca26"
             ],
             [
              1,
              "#f0f921"
             ]
            ],
            "type": "heatmapgl"
           }
          ],
          "histogram": [
           {
            "marker": {
             "pattern": {
              "fillmode": "overlay",
              "size": 10,
              "solidity": 0.2
             }
            },
            "type": "histogram"
           }
          ],
          "histogram2d": [
           {
            "colorbar": {
             "outlinewidth": 0,
             "ticks": ""
            },
            "colorscale": [
             [
              0,
              "#0d0887"
             ],
             [
              0.1111111111111111,
              "#46039f"
             ],
             [
              0.2222222222222222,
              "#7201a8"
             ],
             [
              0.3333333333333333,
              "#9c179e"
             ],
             [
              0.4444444444444444,
              "#bd3786"
             ],
             [
              0.5555555555555556,
              "#d8576b"
             ],
             [
              0.6666666666666666,
              "#ed7953"
             ],
             [
              0.7777777777777778,
              "#fb9f3a"
             ],
             [
              0.8888888888888888,
              "#fdca26"
             ],
             [
              1,
              "#f0f921"
             ]
            ],
            "type": "histogram2d"
           }
          ],
          "histogram2dcontour": [
           {
            "colorbar": {
             "outlinewidth": 0,
             "ticks": ""
            },
            "colorscale": [
             [
              0,
              "#0d0887"
             ],
             [
              0.1111111111111111,
              "#46039f"
             ],
             [
              0.2222222222222222,
              "#7201a8"
             ],
             [
              0.3333333333333333,
              "#9c179e"
             ],
             [
              0.4444444444444444,
              "#bd3786"
             ],
             [
              0.5555555555555556,
              "#d8576b"
             ],
             [
              0.6666666666666666,
              "#ed7953"
             ],
             [
              0.7777777777777778,
              "#fb9f3a"
             ],
             [
              0.8888888888888888,
              "#fdca26"
             ],
             [
              1,
              "#f0f921"
             ]
            ],
            "type": "histogram2dcontour"
           }
          ],
          "mesh3d": [
           {
            "colorbar": {
             "outlinewidth": 0,
             "ticks": ""
            },
            "type": "mesh3d"
           }
          ],
          "parcoords": [
           {
            "line": {
             "colorbar": {
              "outlinewidth": 0,
              "ticks": ""
             }
            },
            "type": "parcoords"
           }
          ],
          "pie": [
           {
            "automargin": true,
            "type": "pie"
           }
          ],
          "scatter": [
           {
            "fillpattern": {
             "fillmode": "overlay",
             "size": 10,
             "solidity": 0.2
            },
            "type": "scatter"
           }
          ],
          "scatter3d": [
           {
            "line": {
             "colorbar": {
              "outlinewidth": 0,
              "ticks": ""
             }
            },
            "marker": {
             "colorbar": {
              "outlinewidth": 0,
              "ticks": ""
             }
            },
            "type": "scatter3d"
           }
          ],
          "scattercarpet": [
           {
            "marker": {
             "colorbar": {
              "outlinewidth": 0,
              "ticks": ""
             }
            },
            "type": "scattercarpet"
           }
          ],
          "scattergeo": [
           {
            "marker": {
             "colorbar": {
              "outlinewidth": 0,
              "ticks": ""
             }
            },
            "type": "scattergeo"
           }
          ],
          "scattergl": [
           {
            "marker": {
             "colorbar": {
              "outlinewidth": 0,
              "ticks": ""
             }
            },
            "type": "scattergl"
           }
          ],
          "scattermapbox": [
           {
            "marker": {
             "colorbar": {
              "outlinewidth": 0,
              "ticks": ""
             }
            },
            "type": "scattermapbox"
           }
          ],
          "scatterpolar": [
           {
            "marker": {
             "colorbar": {
              "outlinewidth": 0,
              "ticks": ""
             }
            },
            "type": "scatterpolar"
           }
          ],
          "scatterpolargl": [
           {
            "marker": {
             "colorbar": {
              "outlinewidth": 0,
              "ticks": ""
             }
            },
            "type": "scatterpolargl"
           }
          ],
          "scatterternary": [
           {
            "marker": {
             "colorbar": {
              "outlinewidth": 0,
              "ticks": ""
             }
            },
            "type": "scatterternary"
           }
          ],
          "surface": [
           {
            "colorbar": {
             "outlinewidth": 0,
             "ticks": ""
            },
            "colorscale": [
             [
              0,
              "#0d0887"
             ],
             [
              0.1111111111111111,
              "#46039f"
             ],
             [
              0.2222222222222222,
              "#7201a8"
             ],
             [
              0.3333333333333333,
              "#9c179e"
             ],
             [
              0.4444444444444444,
              "#bd3786"
             ],
             [
              0.5555555555555556,
              "#d8576b"
             ],
             [
              0.6666666666666666,
              "#ed7953"
             ],
             [
              0.7777777777777778,
              "#fb9f3a"
             ],
             [
              0.8888888888888888,
              "#fdca26"
             ],
             [
              1,
              "#f0f921"
             ]
            ],
            "type": "surface"
           }
          ],
          "table": [
           {
            "cells": {
             "fill": {
              "color": "#EBF0F8"
             },
             "line": {
              "color": "white"
             }
            },
            "header": {
             "fill": {
              "color": "#C8D4E3"
             },
             "line": {
              "color": "white"
             }
            },
            "type": "table"
           }
          ]
         },
         "layout": {
          "annotationdefaults": {
           "arrowcolor": "#2a3f5f",
           "arrowhead": 0,
           "arrowwidth": 1
          },
          "autotypenumbers": "strict",
          "coloraxis": {
           "colorbar": {
            "outlinewidth": 0,
            "ticks": ""
           }
          },
          "colorscale": {
           "diverging": [
            [
             0,
             "#8e0152"
            ],
            [
             0.1,
             "#c51b7d"
            ],
            [
             0.2,
             "#de77ae"
            ],
            [
             0.3,
             "#f1b6da"
            ],
            [
             0.4,
             "#fde0ef"
            ],
            [
             0.5,
             "#f7f7f7"
            ],
            [
             0.6,
             "#e6f5d0"
            ],
            [
             0.7,
             "#b8e186"
            ],
            [
             0.8,
             "#7fbc41"
            ],
            [
             0.9,
             "#4d9221"
            ],
            [
             1,
             "#276419"
            ]
           ],
           "sequential": [
            [
             0,
             "#0d0887"
            ],
            [
             0.1111111111111111,
             "#46039f"
            ],
            [
             0.2222222222222222,
             "#7201a8"
            ],
            [
             0.3333333333333333,
             "#9c179e"
            ],
            [
             0.4444444444444444,
             "#bd3786"
            ],
            [
             0.5555555555555556,
             "#d8576b"
            ],
            [
             0.6666666666666666,
             "#ed7953"
            ],
            [
             0.7777777777777778,
             "#fb9f3a"
            ],
            [
             0.8888888888888888,
             "#fdca26"
            ],
            [
             1,
             "#f0f921"
            ]
           ],
           "sequentialminus": [
            [
             0,
             "#0d0887"
            ],
            [
             0.1111111111111111,
             "#46039f"
            ],
            [
             0.2222222222222222,
             "#7201a8"
            ],
            [
             0.3333333333333333,
             "#9c179e"
            ],
            [
             0.4444444444444444,
             "#bd3786"
            ],
            [
             0.5555555555555556,
             "#d8576b"
            ],
            [
             0.6666666666666666,
             "#ed7953"
            ],
            [
             0.7777777777777778,
             "#fb9f3a"
            ],
            [
             0.8888888888888888,
             "#fdca26"
            ],
            [
             1,
             "#f0f921"
            ]
           ]
          },
          "colorway": [
           "#636efa",
           "#EF553B",
           "#00cc96",
           "#ab63fa",
           "#FFA15A",
           "#19d3f3",
           "#FF6692",
           "#B6E880",
           "#FF97FF",
           "#FECB52"
          ],
          "font": {
           "color": "#2a3f5f"
          },
          "geo": {
           "bgcolor": "white",
           "lakecolor": "white",
           "landcolor": "white",
           "showlakes": true,
           "showland": true,
           "subunitcolor": "#C8D4E3"
          },
          "hoverlabel": {
           "align": "left"
          },
          "hovermode": "closest",
          "mapbox": {
           "style": "light"
          },
          "paper_bgcolor": "white",
          "plot_bgcolor": "white",
          "polar": {
           "angularaxis": {
            "gridcolor": "#EBF0F8",
            "linecolor": "#EBF0F8",
            "ticks": ""
           },
           "bgcolor": "white",
           "radialaxis": {
            "gridcolor": "#EBF0F8",
            "linecolor": "#EBF0F8",
            "ticks": ""
           }
          },
          "scene": {
           "xaxis": {
            "backgroundcolor": "white",
            "gridcolor": "#DFE8F3",
            "gridwidth": 2,
            "linecolor": "#EBF0F8",
            "showbackground": true,
            "ticks": "",
            "zerolinecolor": "#EBF0F8"
           },
           "yaxis": {
            "backgroundcolor": "white",
            "gridcolor": "#DFE8F3",
            "gridwidth": 2,
            "linecolor": "#EBF0F8",
            "showbackground": true,
            "ticks": "",
            "zerolinecolor": "#EBF0F8"
           },
           "zaxis": {
            "backgroundcolor": "white",
            "gridcolor": "#DFE8F3",
            "gridwidth": 2,
            "linecolor": "#EBF0F8",
            "showbackground": true,
            "ticks": "",
            "zerolinecolor": "#EBF0F8"
           }
          },
          "shapedefaults": {
           "line": {
            "color": "#2a3f5f"
           }
          },
          "ternary": {
           "aaxis": {
            "gridcolor": "#DFE8F3",
            "linecolor": "#A2B1C6",
            "ticks": ""
           },
           "baxis": {
            "gridcolor": "#DFE8F3",
            "linecolor": "#A2B1C6",
            "ticks": ""
           },
           "bgcolor": "white",
           "caxis": {
            "gridcolor": "#DFE8F3",
            "linecolor": "#A2B1C6",
            "ticks": ""
           }
          },
          "title": {
           "x": 0.05
          },
          "xaxis": {
           "automargin": true,
           "gridcolor": "#EBF0F8",
           "linecolor": "#EBF0F8",
           "ticks": "",
           "title": {
            "standoff": 15
           },
           "zerolinecolor": "#EBF0F8",
           "zerolinewidth": 2
          },
          "yaxis": {
           "automargin": true,
           "gridcolor": "#EBF0F8",
           "linecolor": "#EBF0F8",
           "ticks": "",
           "title": {
            "standoff": 15
           },
           "zerolinecolor": "#EBF0F8",
           "zerolinewidth": 2
          }
         }
        },
        "title": {
         "text": ""
        },
        "width": 1000,
        "xaxis": {
         "showgrid": false,
         "showticklabels": false,
         "zeroline": false
        },
        "yaxis": {
         "showgrid": false,
         "showticklabels": false,
         "zeroline": false
        }
       }
      }
     },
     "metadata": {},
     "output_type": "display_data"
    }
   ],
   "source": [
    "import plotly.graph_objects as corr_network\n",
    "import networkx as nx\n",
    "\n",
    "def create_gene_network(df_corr, width=1200, height=900, bubble_size=4, threshold=0.6, k_value=0.5, iterations=10, color='geyser', method='pearson'):\n",
    "    \"\"\"根据输入的标准化基因表达水平矩阵，绘制基因相关性网络图\n",
    "\n",
    "    Args:\n",
    "        df_corr (pandas.DataFrame): 标准化基因表达水平矩阵\n",
    "        width (int): 图片宽度\n",
    "        height (int): 图片高度\n",
    "        bubble_size (int): 节点大小\n",
    "        threshold (float): 相关性系数\n",
    "        k_value (float): k越小则点越紧\n",
    "        iterations (int): iterations越大则点越稳定\n",
    "        color (str): 颜色方案\n",
    "        method (str): 计算相关性的方法，pearson或spearman\n",
    "    \"\"\"\n",
    "\n",
    "    # 预处理\n",
    "    df_corr = df_corr.rename(columns={df_corr.columns[0]: 'gene_id'})\n",
    "    df_corr = df_corr.set_index('gene_id')\n",
    "    df_corr = df_corr.round(2)\n",
    "\n",
    "    # df_corr 只保留前100个基因\n",
    "    df_corr = df_corr.iloc[:100, :]\n",
    "\n",
    "    # 选择计算相关性的方法\n",
    "    if method == 'pearson':\n",
    "        # 计算样本之间的相关性（使用皮尔森系数）\n",
    "        correlation_matrix = df_corr.transpose().corr(method='pearson')\n",
    "    else:\n",
    "        correlation_matrix = df_corr.transpose().corr(method='spearman')\n",
    "        \n",
    "    # 使用networkx创建一个网络图\n",
    "    G = nx.Graph()\n",
    "    for gene1 in df_corr.index:\n",
    "        for gene2 in df_corr.index:\n",
    "            if gene1 != gene2:\n",
    "                G.add_edge(gene1, gene2, weight=correlation_matrix.loc[gene1, gene2])\n",
    "\n",
    "    threshold = threshold # 相关性系数\n",
    "    edges = [(u, v) for (u, v, d) in G.edges(data=True) if abs(d['weight']) > threshold]\n",
    "    G = G.edge_subgraph(edges).copy()  # 使用edges创建一个新的图，并使用copy()避免状态问题\n",
    "    # pos设置,k越小则点越紧,iterations越大则点越稳定\n",
    "    pos = nx.spring_layout(G, k=k_value, iterations=iterations)\n",
    "    # 将位置作为节点属性添加到G中\n",
    "    for node in G.nodes():\n",
    "        G.nodes[node]['pos'] = pos[node]\n",
    "\n",
    "    # 使用plotly创建网络图\n",
    "    edge_x = []\n",
    "    edge_y = []\n",
    "    for edge in G.edges():\n",
    "        x0, y0 = G.nodes[edge[0]]['pos']\n",
    "        x1, y1 = G.nodes[edge[1]]['pos']\n",
    "        edge_x.append(x0)\n",
    "        edge_x.append(x1)\n",
    "        edge_x.append(None)\n",
    "        edge_y.append(y0)\n",
    "        edge_y.append(y1)\n",
    "        edge_y.append(None)\n",
    "    \n",
    "    # 分别创建正相关和负相关的边\n",
    "    edge_x_pos, edge_y_pos = [], []\n",
    "    edge_x_neg, edge_y_neg = [], []\n",
    "\n",
    "    # 根据权重将边分为正负两组\n",
    "    for edge in G.edges(data=True):\n",
    "        x0, y0 = pos[edge[0]]\n",
    "        x1, y1 = pos[edge[1]]\n",
    "        if edge[2]['weight'] > 0:\n",
    "            edge_x_pos.extend([x0, x1, None])\n",
    "            edge_y_pos.extend([y0, y1, None])\n",
    "        else:\n",
    "            edge_x_neg.extend([x0, x1, None])\n",
    "            edge_y_neg.extend([y0, y1, None])\n",
    "\n",
    "    edge_trace_pos = corr_network.Scatter(\n",
    "        x=edge_x_pos, y=edge_y_pos,\n",
    "        line=dict(width=0.3, color='red'),\n",
    "        hoverinfo='none',\n",
    "        mode='lines'\n",
    "    )\n",
    "    \n",
    "    edge_trace_neg = corr_network.Scatter(\n",
    "        x=edge_x_neg, y=edge_y_neg,\n",
    "        line=dict(width=0.3, color='blue'),\n",
    "        hoverinfo='none',\n",
    "        mode='lines'\n",
    "    )\n",
    "\n",
    "    node_x = []\n",
    "    node_y = []\n",
    "    for node in G.nodes():\n",
    "        x, y = G.nodes[node]['pos']\n",
    "        node_x.append(x)\n",
    "        node_y.append(y)\n",
    "\n",
    "    node_trace = corr_network.Scatter(\n",
    "        x=node_x, y=node_y,\n",
    "        mode='markers',\n",
    "        hoverinfo='text',\n",
    "        marker=dict(\n",
    "            showscale=True,\n",
    "            colorscale=color,\n",
    "            colorbar=dict(\n",
    "                thickness=15,\n",
    "                title='Number of Significantly Correlated Nodes',\n",
    "                xanchor='left',\n",
    "                titleside='right'\n",
    "            ),\n",
    "            line_width=2))\n",
    "\n",
    "    node_adjacencies = []\n",
    "    node_text = []\n",
    "    node_sizes = []  # 添加一个列表来存储基于节点连接数的大小\n",
    "\n",
    "    # 根据基因数量设置节点大小\n",
    "    if df_corr.shape[0] > 50:\n",
    "        # 计算每个节点的连接数并设置节点大小\n",
    "        for node, adjacencies in enumerate(G.adjacency()):\n",
    "            node_adjacencies.append(len(adjacencies[1]))\n",
    "            node_text.append(adjacencies[0])\n",
    "            node_degree = len(adjacencies[1])\n",
    "            scaled_size = 15 + (node_degree * bubble_size/10)\n",
    "            node_sizes.append(scaled_size)\n",
    "    \n",
    "    else:\n",
    "        # 计算每个节点的连接数并设置节点大小\n",
    "        for node, adjacencies in enumerate(G.adjacency()):\n",
    "            node_adjacencies.append(len(adjacencies[1]))\n",
    "            node_text.append(adjacencies[0])\n",
    "            node_degree = len(adjacencies[1])\n",
    "            scaled_size = 15 + (node_degree * bubble_size/2)\n",
    "            node_sizes.append(scaled_size)\n",
    "\n",
    "    # norm = plt.Normalize(vmin=min(node_adjacencies), vmax=max(node_adjacencies)) # 将连接数映射到0-1范围  \n",
    "    node_trace.marker.color = node_adjacencies\n",
    "    node_trace.text = node_text\n",
    "    node_trace.marker.size = node_sizes  # 更新marker的大小\n",
    "\n",
    "    # 创建图形\n",
    "    fig = corr_network.Figure(data = [edge_trace_pos, edge_trace_neg, node_trace],\n",
    "                    layout=corr_network.Layout(\n",
    "                        title='',\n",
    "                        showlegend=False,\n",
    "                        hovermode='closest',\n",
    "                        margin=dict(b=0, l=0, r=0, t=40),\n",
    "                        annotations=[\n",
    "                            dict(\n",
    "                                text=\"\",\n",
    "                                showarrow=False,\n",
    "                                xref=\"paper\", yref=\"paper\",\n",
    "                                x=0.005, y=-0.002)\n",
    "                        ],\n",
    "                        xaxis=dict(showgrid=False, zeroline=False, showticklabels=False),\n",
    "                        yaxis=dict(showgrid=False, zeroline=False, showticklabels=False))\n",
    "                    )\n",
    "\n",
    "    # 定义fig的布局，设置宽度和高度\n",
    "    fig.update_layout(\n",
    "        autosize=False,\n",
    "        width=width, \n",
    "        height=height,\n",
    "        template=\"plotly_white\"\n",
    "    )\n",
    "    # fig.update_traces(marker_symbol='diamond') # 更改marker的形状\n",
    "    fig.write_image(workdir_omic + \"correlation_analysis/output_file/corr_gene_network.png\", scale=4)\n",
    "\n",
    "    # 方案1:将fig对象转为json\n",
    "    # fig_json = pio.to_json(fig)\n",
    "    # return fig_json\n",
    "\n",
    "    # 方案2:将fig转为html格式，返回html代码\n",
    "    # fig_html = plot(fig, output_type='div', include_plotlyjs=False)        \n",
    "    # return fig_html\n",
    "\n",
    "    # 方案3:将fig转为html格式，保存为html文件\n",
    "    # fig.write_html(\"corr_gene_network.html\")\n",
    "    # return \"corr_gene_network.html\"\n",
    "\n",
    "    return fig\n",
    "\n",
    "\n",
    "# 示例调用\n",
    "create_gene_network(df_corr,\n",
    "                    width=1000,\n",
    "                    height=800,\n",
    "                    bubble_size=5,\n",
    "                    threshold=0.6,\n",
    "                    k_value=1.0, # k越小则点越紧\n",
    "                    iterations=10, # iterations越大则点越稳定\n",
    "                    color='geyser',\n",
    "                    method='pearson'\n",
    "                    )"
   ]
  }
 ],
 "metadata": {
  "kernelspec": {
   "display_name": "code",
   "language": "python",
   "name": "python3"
  },
  "language_info": {
   "codemirror_mode": {
    "name": "ipython",
    "version": 3
   },
   "file_extension": ".py",
   "mimetype": "text/x-python",
   "name": "python",
   "nbconvert_exporter": "python",
   "pygments_lexer": "ipython3",
   "version": "3.10.0"
  }
 },
 "nbformat": 4,
 "nbformat_minor": 2
}
