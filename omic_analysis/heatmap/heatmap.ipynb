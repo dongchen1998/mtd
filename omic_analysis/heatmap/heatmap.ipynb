{
 "cells": [
  {
   "cell_type": "code",
   "execution_count": 1,
   "metadata": {},
   "outputs": [],
   "source": [
    "import pandas as pd\n",
    "import subprocess\n",
    "import os"
   ]
  },
  {
   "cell_type": "code",
   "execution_count": 2,
   "metadata": {},
   "outputs": [],
   "source": [
    "workdir_omic = '/Users/dongjiacheng/Desktop/coder/mtd/code/omic_analysis'"
   ]
  },
  {
   "cell_type": "markdown",
   "metadata": {},
   "source": [
    "#### 调用R脚本，对输入的表达谱，绘制热图"
   ]
  },
  {
   "cell_type": "code",
   "execution_count": 5,
   "metadata": {},
   "outputs": [],
   "source": [
    "def run_heatmap(input_file_path, output_file_path, color_up=\"default\", color_down=\"default\", color_mid=\"default\", show_border=False, scale='row', cluster_rows=True, cluster_cols=False, cellwidth=\"20\", cellheight=\"20\", fontsize=\"10\"):\n",
    "    \"\"\"根据输入的表达矩阵，生成热图\n",
    "\n",
    "    Args:\n",
    "        input_file_path (str): 输入的表达矩阵文件路径\n",
    "        output_file_path (str): 输出的热图文件路径\n",
    "        color_up (str): 颜色上限. Defaults to \"default\".\n",
    "        color_down (str): 颜色下限. Defaults to \"default\".\n",
    "        color_mid (str): 颜色中间值. Defaults to \"default\".\n",
    "        show_border (str): 是否显示边框. Defaults to 'FALSE'.\n",
    "        scale (str): 标准化方式，可选值为\"row\"、\"log2\" Defaults to 'row'.\n",
    "        cluster_rows (str): 是否对行进行聚类. Defaults to 'TRUE'.\n",
    "        cluster_cols (str): 是否对列进行聚类. Defaults to 'FALSE'.\n",
    "        cellwidth (str): 每个单元格的宽度. Defaults to \"20\".\n",
    "        cellheight (str): 每个单元格的高度. Defaults to \"20\".\n",
    "        fontsize (str): 字体大小. Defaults to \"10\".\n",
    "    \"\"\"\n",
    "\n",
    "    # R脚本的路径，需要师哥你改路径\n",
    "    script_path =os.path.join(workdir_omic,'heatmap/heatmap.R')\n",
    "\n",
    "    # Rscript heatmap.R --input input_file/expression_matrix_heatmap.csv --output output_file/heatmap.png --color_up \"#F76809\" --color_down \"#0766AD\" --color_mid \"#FFFFFF\" --show_border TRUE --scale row --cluster_rows TRUE --cluster_cols FALSE --cellwidth 20 --cellheight 20 --fontsize 10\n",
    "    cmd = [\n",
    "        'Rscript', script_path,\n",
    "        '--input', input_file_path,\n",
    "        '--output', output_file_path,\n",
    "        '--color_up', color_up,\n",
    "        '--color_down', color_down,\n",
    "        '--color_mid', color_mid,\n",
    "        '--show_border', str(show_border).upper(),\n",
    "        '--scale', scale,\n",
    "        '--cluster_rows', str(cluster_rows).upper(),\n",
    "        '--cluster_cols', str(cluster_cols).upper(),\n",
    "        '--cellwidth', cellwidth,\n",
    "        '--cellheight', cellheight,\n",
    "        '--fontsize', fontsize\n",
    "    ]\n",
    "\n",
    "    # 执行R脚本并捕获输出\n",
    "    try:\n",
    "        result = subprocess.run(cmd, check=True, stdout=subprocess.PIPE, stderr=subprocess.PIPE, text=True)\n",
    "        return result.stdout\n",
    "    except subprocess.CalledProcessError as e:\n",
    "        return e.stderr\n",
    "    \n",
    "# 示例调用\n",
    "output_heatmap_= run_heatmap(\"input_file/expression_matrix_heatmap.csv\",\n",
    "                             \"output_file/heatmap.png\",\n",
    "                             color_up=\"#F76809\",\n",
    "                             color_down=\"#0766AD\",\n",
    "                             color_mid=\"#FFFFFF\",\n",
    "                             show_border=True,\n",
    "                             scale=\"row\",\n",
    "                             cluster_rows=True,\n",
    "                             cluster_cols=False,\n",
    "                             cellwidth=\"20\",\n",
    "                             cellheight=\"20\",\n",
    "                             fontsize=\"10\")"
   ]
  }
 ],
 "metadata": {
  "kernelspec": {
   "display_name": "code",
   "language": "python",
   "name": "python3"
  },
  "language_info": {
   "codemirror_mode": {
    "name": "ipython",
    "version": 3
   },
   "file_extension": ".py",
   "mimetype": "text/x-python",
   "name": "python",
   "nbconvert_exporter": "python",
   "pygments_lexer": "ipython3",
   "version": "3.10.0"
  }
 },
 "nbformat": 4,
 "nbformat_minor": 2
}
