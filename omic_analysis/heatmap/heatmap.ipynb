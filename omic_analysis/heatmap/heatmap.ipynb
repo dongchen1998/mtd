{
 "cells": [
  {
   "cell_type": "code",
   "execution_count": 1,
   "metadata": {},
   "outputs": [],
   "source": [
    "import pandas as pd\n",
    "import subprocess\n",
    "import os"
   ]
  },
  {
   "cell_type": "code",
   "execution_count": 2,
   "metadata": {},
   "outputs": [],
   "source": [
    "workdir_omic = '/Users/dongjiacheng/Desktop/Github/omic_analysis/'"
   ]
  },
  {
   "cell_type": "markdown",
   "metadata": {},
   "source": [
    "#### 调用R脚本，对输入的表达谱，绘制热图"
   ]
  },
  {
   "cell_type": "code",
   "execution_count": 4,
   "metadata": {},
   "outputs": [
    {
     "data": {
      "text/plain": [
       "''"
      ]
     },
     "execution_count": 4,
     "metadata": {},
     "output_type": "execute_result"
    }
   ],
   "source": [
    "def run_heatmap(workdir, input_path, output_path, color_up=\"#F76809\", color_down=\"#0766AD\", color_mid=\"#FFFFF\", show_border=False, scale='log2', cluster_rows=True, cluster_cols=False, cellwidth=\"20\", cellheight=\"20\", fontsize=\"10\"):\n",
    "    \"\"\"根据输入的表达矩阵，生成热图\n",
    "\n",
    "    Args:\n",
    "        workdir (str): 工作目录\n",
    "        input_path (str): 输入的表达矩阵文件路径\n",
    "        output_path (str): 输出的热图文件路径\n",
    "        color_up (str): 颜色上限. Defaults to \"default\".\n",
    "        color_down (str): 颜色下限. Defaults to \"default\".\n",
    "        color_mid (str): 颜色中间值. Defaults to \"default\".\n",
    "        show_border (str): 是否显示边框. Defaults to 'FALSE'.\n",
    "        scale (str): 标准化方式，可选值为\"row\"、\"log2\" Defaults to 'row'.\n",
    "        cluster_rows (str): 是否对行进行聚类. Defaults to 'TRUE'.\n",
    "        cluster_cols (str): 是否对列进行聚类. Defaults to 'FALSE'.\n",
    "        cellwidth (str): 每个单元格的宽度. Defaults to \"20\".\n",
    "        cellheight (str): 每个单元格的高度. Defaults to \"20\".\n",
    "        fontsize (str): 字体大小. Defaults to \"10\".\n",
    "    \"\"\"\n",
    "\n",
    "    # R脚本的路径\n",
    "    script_path =os.path.join(workdir,'heatmap_1.R')\n",
    "\n",
    "    # Rscript heatmap.R --input input_file/expression_matrix_heatmap.csv --output output_file/heatmap.png --color_up \"default\" --color_down \"default\" --color_mid \"default\" --show_border TRUE --scale \"z-score\" --cluster_rows TRUE --cluster_cols FALSE --cellwidth 20 --cellheight 20 --fontsize 10\n",
    "    cmd = [\n",
    "        'Rscript', script_path,\n",
    "        '--input', input_path,\n",
    "        '--output', output_path,\n",
    "        '--color_up', color_up,\n",
    "        '--color_down', color_down,\n",
    "        '--color_mid', color_mid,\n",
    "        '--show_border', str(show_border).upper(),\n",
    "        '--scale', scale,\n",
    "        '--cluster_rows', str(cluster_rows).upper(),\n",
    "        '--cluster_cols', str(cluster_cols).upper(),\n",
    "        '--cellwidth', str(cellwidth),  # 转换为字符串\n",
    "        '--cellheight', str(cellheight),  # 转换为字符串\n",
    "        '--fontsize', str(fontsize)  # 转换为字符串\n",
    "    ]\n",
    "\n",
    "    # 执行R脚本并捕获输出\n",
    "    try:\n",
    "        result = subprocess.run(cmd, check=True, stdout=subprocess.PIPE, stderr=subprocess.PIPE, text=True)\n",
    "        return result.stdout\n",
    "    except subprocess.CalledProcessError as e:\n",
    "        return e.stderr\n",
    "    \n",
    "\n",
    "# 示例调用\n",
    "run_heatmap(\n",
    "    '/Users/dongjiacheng/Desktop/Github/omic_analysis/heatmap',\n",
    "    '/Users/dongjiacheng/Desktop/Github/omic_analysis/heatmap/input_file/expression_matrix_heatmap.csv',\n",
    "    '/Users/dongjiacheng/Desktop/Github/omic_analysis/heatmap/output_file/heatmap.png',\n",
    "    color_up=\"#F76809\",\n",
    "    color_down=\"#0766AD\",\n",
    "    color_mid=\"#FFFFFF\",\n",
    "    show_border=True,\n",
    "    scale='log2',\n",
    "    # scale='z-score',\n",
    "    cluster_rows=True,\n",
    "    cluster_cols=True,\n",
    "    cellwidth=\"20\",\n",
    "    cellheight=\"20\",\n",
    "    fontsize=\"10\"\n",
    ")"
   ]
  }
 ],
 "metadata": {
  "kernelspec": {
   "display_name": "code",
   "language": "python",
   "name": "python3"
  },
  "language_info": {
   "codemirror_mode": {
    "name": "ipython",
    "version": 3
   },
   "file_extension": ".py",
   "mimetype": "text/x-python",
   "name": "python",
   "nbconvert_exporter": "python",
   "pygments_lexer": "ipython3",
   "version": "3.10.14"
  }
 },
 "nbformat": 4,
 "nbformat_minor": 2
}
