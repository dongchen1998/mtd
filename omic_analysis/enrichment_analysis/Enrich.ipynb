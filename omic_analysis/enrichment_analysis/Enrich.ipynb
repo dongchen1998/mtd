{
 "cells": [
  {
   "cell_type": "code",
   "execution_count": 2,
   "metadata": {},
   "outputs": [],
   "source": [
    "import pandas as pd\n",
    "import numpy as np\n",
    "import subprocess\n",
    "import os"
   ]
  },
  {
   "cell_type": "code",
   "execution_count": 3,
   "metadata": {},
   "outputs": [],
   "source": [
    "# 配置运行路径，需要师哥你自己修改一下\n",
    "workdir_omic = '/Users/dongjiacheng/Desktop/coder/mtd/code/omic_analysis/'"
   ]
  },
  {
   "cell_type": "markdown",
   "metadata": {},
   "source": [
    "#### 调用R脚本，对输入的gene list进行富集分析，结果保存为tsv表中"
   ]
  },
  {
   "cell_type": "code",
   "execution_count": 4,
   "metadata": {},
   "outputs": [],
   "source": [
    "def run_enrich(input_path, output_path, species, pvalue, enrich_type):\n",
    "    \"\"\"\n",
    "    运行GO或KEGG富集分析R脚本。\n",
    "\n",
    "    Args:\n",
    "        input_path (str): 输入文件的路径。\n",
    "        output_path (str): 输出文件的路径。\n",
    "        species (str): 菌种名称。\n",
    "        pvalue (float): P值阈值。\n",
    "        enrich_type (str): 分析类型，\"GO\" 或 \"KEGG\"。\n",
    "\n",
    "    Returns:\n",
    "        str: R脚本的输出。\n",
    "    \"\"\"\n",
    "    # 根据enrich_type确定脚本路径\n",
    "    if enrich_type == 'GO':\n",
    "        script_name = 'go_enrich.R'\n",
    "    elif enrich_type == 'KEGG':\n",
    "        script_name = 'kegg_enrich.R'\n",
    "    else:\n",
    "        raise ValueError(\"enrich_type must be 'GO' or 'KEGG'\")\n",
    "\n",
    "    script_path = os.path.join(workdir_omic, 'enrichment_analysis', script_name)\n",
    "\n",
    "    cmd = [\n",
    "        'Rscript', script_path,\n",
    "        '--input', input_path,\n",
    "        '--output', output_path,\n",
    "        '--species', species,\n",
    "        '--pvalue', str(pvalue),\n",
    "    ]\n",
    "\n",
    "    # 执行R脚本并捕获输出\n",
    "    try:\n",
    "        result = subprocess.run(cmd, check=True, stdout=subprocess.PIPE, stderr=subprocess.PIPE, text=True)\n",
    "        return result.stdout\n",
    "    except subprocess.CalledProcessError as e:\n",
    "        return e.stderr\n",
    "\n",
    "# 示例调用\n",
    "# output_go = run_enrich(\"input_file/gene_list.txt\", \"output_file/go.tsv\", \"Myceliophthora thermophila\", 0.05, \"GO\")\n",
    "output_kegg = run_enrich(\"input_file/gene_list3.txt\", \"output_file/kegg.tsv\", \"Myceliophthora thermophila\", 0.05, \"KEGG\")"
   ]
  },
  {
   "cell_type": "markdown",
   "metadata": {},
   "source": [
    "#### 基于Python的Plotly包，对富集分析结果进行可视化"
   ]
  },
  {
   "cell_type": "code",
   "execution_count": 5,
   "metadata": {},
   "outputs": [],
   "source": [
    "# 读取文件\n",
    "# df_kegg = pd.read_csv('output_file/kegg.tsv', sep='\\t')\n",
    "df_kegg = pd.read_csv('output_file/kegg2.tsv', sep='\\t')\n",
    "df_go = pd.read_csv('output_file/go.tsv', sep='\\t')"
   ]
  },
  {
   "cell_type": "code",
   "execution_count": 6,
   "metadata": {},
   "outputs": [
    {
     "data": {
      "application/vnd.plotly.v1+json": {
       "config": {
        "plotlyServerURL": "https://plot.ly"
       },
       "data": [
        {
         "alignmentgroup": "True",
         "customdata": [
          [
           "mtm00500",
           0
          ],
          [
           "mtm00280",
           0.000115
          ],
          [
           "mtm02010",
           0.000031
          ]
         ],
         "hovertemplate": "Count=%{x}<br>Pathway=%{y}<br>ID=%{customdata[0]}<br>P.adjust=%{marker.color}<extra></extra>",
         "legendgroup": "",
         "marker": {
          "color": [
           0,
           0.000115,
           0.000031
          ],
          "coloraxis": "coloraxis",
          "opacity": 0.85,
          "pattern": {
           "shape": ""
          }
         },
         "name": "",
         "offsetgroup": "",
         "orientation": "h",
         "showlegend": false,
         "textposition": "auto",
         "type": "bar",
         "x": [
          25,
          15,
          10
         ],
         "xaxis": "x",
         "y": [
          "Starch and sucrose metabolism",
          "Valine, leucine and isoleucine degradation",
          "Abc transporters"
         ],
         "yaxis": "y"
        }
       ],
       "layout": {
        "barmode": "relative",
        "coloraxis": {
         "colorbar": {
          "tickformat": ".3f",
          "ticktext": [
           "Min: 0.000",
           "Median: 0.000",
           "Max: 0.000"
          ],
          "tickvals": [
           0,
           0.000031,
           0.000115
          ],
          "title": {
           "text": "P.adjust"
          }
         },
         "colorscale": [
          [
           0,
           "rgb(5,48,97)"
          ],
          [
           0.1,
           "rgb(33,102,172)"
          ],
          [
           0.2,
           "rgb(67,147,195)"
          ],
          [
           0.3,
           "rgb(146,197,222)"
          ],
          [
           0.4,
           "rgb(209,229,240)"
          ],
          [
           0.5,
           "rgb(247,247,247)"
          ],
          [
           0.6,
           "rgb(253,219,199)"
          ],
          [
           0.7,
           "rgb(244,165,130)"
          ],
          [
           0.8,
           "rgb(214,96,77)"
          ],
          [
           0.9,
           "rgb(178,24,43)"
          ],
          [
           1,
           "rgb(103,0,31)"
          ]
         ]
        },
        "font": {
         "family": "Arial",
         "size": 15
        },
        "height": 720,
        "legend": {
         "tracegroupgap": 0
        },
        "margin": {
         "t": 60
        },
        "template": {
         "data": {
          "bar": [
           {
            "error_x": {
             "color": "#2a3f5f"
            },
            "error_y": {
             "color": "#2a3f5f"
            },
            "marker": {
             "line": {
              "color": "white",
              "width": 0.5
             },
             "pattern": {
              "fillmode": "overlay",
              "size": 10,
              "solidity": 0.2
             }
            },
            "type": "bar"
           }
          ],
          "barpolar": [
           {
            "marker": {
             "line": {
              "color": "white",
              "width": 0.5
             },
             "pattern": {
              "fillmode": "overlay",
              "size": 10,
              "solidity": 0.2
             }
            },
            "type": "barpolar"
           }
          ],
          "carpet": [
           {
            "aaxis": {
             "endlinecolor": "#2a3f5f",
             "gridcolor": "#C8D4E3",
             "linecolor": "#C8D4E3",
             "minorgridcolor": "#C8D4E3",
             "startlinecolor": "#2a3f5f"
            },
            "baxis": {
             "endlinecolor": "#2a3f5f",
             "gridcolor": "#C8D4E3",
             "linecolor": "#C8D4E3",
             "minorgridcolor": "#C8D4E3",
             "startlinecolor": "#2a3f5f"
            },
            "type": "carpet"
           }
          ],
          "choropleth": [
           {
            "colorbar": {
             "outlinewidth": 0,
             "ticks": ""
            },
            "type": "choropleth"
           }
          ],
          "contour": [
           {
            "colorbar": {
             "outlinewidth": 0,
             "ticks": ""
            },
            "colorscale": [
             [
              0,
              "#0d0887"
             ],
             [
              0.1111111111111111,
              "#46039f"
             ],
             [
              0.2222222222222222,
              "#7201a8"
             ],
             [
              0.3333333333333333,
              "#9c179e"
             ],
             [
              0.4444444444444444,
              "#bd3786"
             ],
             [
              0.5555555555555556,
              "#d8576b"
             ],
             [
              0.6666666666666666,
              "#ed7953"
             ],
             [
              0.7777777777777778,
              "#fb9f3a"
             ],
             [
              0.8888888888888888,
              "#fdca26"
             ],
             [
              1,
              "#f0f921"
             ]
            ],
            "type": "contour"
           }
          ],
          "contourcarpet": [
           {
            "colorbar": {
             "outlinewidth": 0,
             "ticks": ""
            },
            "type": "contourcarpet"
           }
          ],
          "heatmap": [
           {
            "colorbar": {
             "outlinewidth": 0,
             "ticks": ""
            },
            "colorscale": [
             [
              0,
              "#0d0887"
             ],
             [
              0.1111111111111111,
              "#46039f"
             ],
             [
              0.2222222222222222,
              "#7201a8"
             ],
             [
              0.3333333333333333,
              "#9c179e"
             ],
             [
              0.4444444444444444,
              "#bd3786"
             ],
             [
              0.5555555555555556,
              "#d8576b"
             ],
             [
              0.6666666666666666,
              "#ed7953"
             ],
             [
              0.7777777777777778,
              "#fb9f3a"
             ],
             [
              0.8888888888888888,
              "#fdca26"
             ],
             [
              1,
              "#f0f921"
             ]
            ],
            "type": "heatmap"
           }
          ],
          "heatmapgl": [
           {
            "colorbar": {
             "outlinewidth": 0,
             "ticks": ""
            },
            "colorscale": [
             [
              0,
              "#0d0887"
             ],
             [
              0.1111111111111111,
              "#46039f"
             ],
             [
              0.2222222222222222,
              "#7201a8"
             ],
             [
              0.3333333333333333,
              "#9c179e"
             ],
             [
              0.4444444444444444,
              "#bd3786"
             ],
             [
              0.5555555555555556,
              "#d8576b"
             ],
             [
              0.6666666666666666,
              "#ed7953"
             ],
             [
              0.7777777777777778,
              "#fb9f3a"
             ],
             [
              0.8888888888888888,
              "#fdca26"
             ],
             [
              1,
              "#f0f921"
             ]
            ],
            "type": "heatmapgl"
           }
          ],
          "histogram": [
           {
            "marker": {
             "pattern": {
              "fillmode": "overlay",
              "size": 10,
              "solidity": 0.2
             }
            },
            "type": "histogram"
           }
          ],
          "histogram2d": [
           {
            "colorbar": {
             "outlinewidth": 0,
             "ticks": ""
            },
            "colorscale": [
             [
              0,
              "#0d0887"
             ],
             [
              0.1111111111111111,
              "#46039f"
             ],
             [
              0.2222222222222222,
              "#7201a8"
             ],
             [
              0.3333333333333333,
              "#9c179e"
             ],
             [
              0.4444444444444444,
              "#bd3786"
             ],
             [
              0.5555555555555556,
              "#d8576b"
             ],
             [
              0.6666666666666666,
              "#ed7953"
             ],
             [
              0.7777777777777778,
              "#fb9f3a"
             ],
             [
              0.8888888888888888,
              "#fdca26"
             ],
             [
              1,
              "#f0f921"
             ]
            ],
            "type": "histogram2d"
           }
          ],
          "histogram2dcontour": [
           {
            "colorbar": {
             "outlinewidth": 0,
             "ticks": ""
            },
            "colorscale": [
             [
              0,
              "#0d0887"
             ],
             [
              0.1111111111111111,
              "#46039f"
             ],
             [
              0.2222222222222222,
              "#7201a8"
             ],
             [
              0.3333333333333333,
              "#9c179e"
             ],
             [
              0.4444444444444444,
              "#bd3786"
             ],
             [
              0.5555555555555556,
              "#d8576b"
             ],
             [
              0.6666666666666666,
              "#ed7953"
             ],
             [
              0.7777777777777778,
              "#fb9f3a"
             ],
             [
              0.8888888888888888,
              "#fdca26"
             ],
             [
              1,
              "#f0f921"
             ]
            ],
            "type": "histogram2dcontour"
           }
          ],
          "mesh3d": [
           {
            "colorbar": {
             "outlinewidth": 0,
             "ticks": ""
            },
            "type": "mesh3d"
           }
          ],
          "parcoords": [
           {
            "line": {
             "colorbar": {
              "outlinewidth": 0,
              "ticks": ""
             }
            },
            "type": "parcoords"
           }
          ],
          "pie": [
           {
            "automargin": true,
            "type": "pie"
           }
          ],
          "scatter": [
           {
            "fillpattern": {
             "fillmode": "overlay",
             "size": 10,
             "solidity": 0.2
            },
            "type": "scatter"
           }
          ],
          "scatter3d": [
           {
            "line": {
             "colorbar": {
              "outlinewidth": 0,
              "ticks": ""
             }
            },
            "marker": {
             "colorbar": {
              "outlinewidth": 0,
              "ticks": ""
             }
            },
            "type": "scatter3d"
           }
          ],
          "scattercarpet": [
           {
            "marker": {
             "colorbar": {
              "outlinewidth": 0,
              "ticks": ""
             }
            },
            "type": "scattercarpet"
           }
          ],
          "scattergeo": [
           {
            "marker": {
             "colorbar": {
              "outlinewidth": 0,
              "ticks": ""
             }
            },
            "type": "scattergeo"
           }
          ],
          "scattergl": [
           {
            "marker": {
             "colorbar": {
              "outlinewidth": 0,
              "ticks": ""
             }
            },
            "type": "scattergl"
           }
          ],
          "scattermapbox": [
           {
            "marker": {
             "colorbar": {
              "outlinewidth": 0,
              "ticks": ""
             }
            },
            "type": "scattermapbox"
           }
          ],
          "scatterpolar": [
           {
            "marker": {
             "colorbar": {
              "outlinewidth": 0,
              "ticks": ""
             }
            },
            "type": "scatterpolar"
           }
          ],
          "scatterpolargl": [
           {
            "marker": {
             "colorbar": {
              "outlinewidth": 0,
              "ticks": ""
             }
            },
            "type": "scatterpolargl"
           }
          ],
          "scatterternary": [
           {
            "marker": {
             "colorbar": {
              "outlinewidth": 0,
              "ticks": ""
             }
            },
            "type": "scatterternary"
           }
          ],
          "surface": [
           {
            "colorbar": {
             "outlinewidth": 0,
             "ticks": ""
            },
            "colorscale": [
             [
              0,
              "#0d0887"
             ],
             [
              0.1111111111111111,
              "#46039f"
             ],
             [
              0.2222222222222222,
              "#7201a8"
             ],
             [
              0.3333333333333333,
              "#9c179e"
             ],
             [
              0.4444444444444444,
              "#bd3786"
             ],
             [
              0.5555555555555556,
              "#d8576b"
             ],
             [
              0.6666666666666666,
              "#ed7953"
             ],
             [
              0.7777777777777778,
              "#fb9f3a"
             ],
             [
              0.8888888888888888,
              "#fdca26"
             ],
             [
              1,
              "#f0f921"
             ]
            ],
            "type": "surface"
           }
          ],
          "table": [
           {
            "cells": {
             "fill": {
              "color": "#EBF0F8"
             },
             "line": {
              "color": "white"
             }
            },
            "header": {
             "fill": {
              "color": "#C8D4E3"
             },
             "line": {
              "color": "white"
             }
            },
            "type": "table"
           }
          ]
         },
         "layout": {
          "annotationdefaults": {
           "arrowcolor": "#2a3f5f",
           "arrowhead": 0,
           "arrowwidth": 1
          },
          "autotypenumbers": "strict",
          "coloraxis": {
           "colorbar": {
            "outlinewidth": 0,
            "ticks": ""
           }
          },
          "colorscale": {
           "diverging": [
            [
             0,
             "#8e0152"
            ],
            [
             0.1,
             "#c51b7d"
            ],
            [
             0.2,
             "#de77ae"
            ],
            [
             0.3,
             "#f1b6da"
            ],
            [
             0.4,
             "#fde0ef"
            ],
            [
             0.5,
             "#f7f7f7"
            ],
            [
             0.6,
             "#e6f5d0"
            ],
            [
             0.7,
             "#b8e186"
            ],
            [
             0.8,
             "#7fbc41"
            ],
            [
             0.9,
             "#4d9221"
            ],
            [
             1,
             "#276419"
            ]
           ],
           "sequential": [
            [
             0,
             "#0d0887"
            ],
            [
             0.1111111111111111,
             "#46039f"
            ],
            [
             0.2222222222222222,
             "#7201a8"
            ],
            [
             0.3333333333333333,
             "#9c179e"
            ],
            [
             0.4444444444444444,
             "#bd3786"
            ],
            [
             0.5555555555555556,
             "#d8576b"
            ],
            [
             0.6666666666666666,
             "#ed7953"
            ],
            [
             0.7777777777777778,
             "#fb9f3a"
            ],
            [
             0.8888888888888888,
             "#fdca26"
            ],
            [
             1,
             "#f0f921"
            ]
           ],
           "sequentialminus": [
            [
             0,
             "#0d0887"
            ],
            [
             0.1111111111111111,
             "#46039f"
            ],
            [
             0.2222222222222222,
             "#7201a8"
            ],
            [
             0.3333333333333333,
             "#9c179e"
            ],
            [
             0.4444444444444444,
             "#bd3786"
            ],
            [
             0.5555555555555556,
             "#d8576b"
            ],
            [
             0.6666666666666666,
             "#ed7953"
            ],
            [
             0.7777777777777778,
             "#fb9f3a"
            ],
            [
             0.8888888888888888,
             "#fdca26"
            ],
            [
             1,
             "#f0f921"
            ]
           ]
          },
          "colorway": [
           "#636efa",
           "#EF553B",
           "#00cc96",
           "#ab63fa",
           "#FFA15A",
           "#19d3f3",
           "#FF6692",
           "#B6E880",
           "#FF97FF",
           "#FECB52"
          ],
          "font": {
           "color": "#2a3f5f"
          },
          "geo": {
           "bgcolor": "white",
           "lakecolor": "white",
           "landcolor": "white",
           "showlakes": true,
           "showland": true,
           "subunitcolor": "#C8D4E3"
          },
          "hoverlabel": {
           "align": "left"
          },
          "hovermode": "closest",
          "mapbox": {
           "style": "light"
          },
          "paper_bgcolor": "white",
          "plot_bgcolor": "white",
          "polar": {
           "angularaxis": {
            "gridcolor": "#EBF0F8",
            "linecolor": "#EBF0F8",
            "ticks": ""
           },
           "bgcolor": "white",
           "radialaxis": {
            "gridcolor": "#EBF0F8",
            "linecolor": "#EBF0F8",
            "ticks": ""
           }
          },
          "scene": {
           "xaxis": {
            "backgroundcolor": "white",
            "gridcolor": "#DFE8F3",
            "gridwidth": 2,
            "linecolor": "#EBF0F8",
            "showbackground": true,
            "ticks": "",
            "zerolinecolor": "#EBF0F8"
           },
           "yaxis": {
            "backgroundcolor": "white",
            "gridcolor": "#DFE8F3",
            "gridwidth": 2,
            "linecolor": "#EBF0F8",
            "showbackground": true,
            "ticks": "",
            "zerolinecolor": "#EBF0F8"
           },
           "zaxis": {
            "backgroundcolor": "white",
            "gridcolor": "#DFE8F3",
            "gridwidth": 2,
            "linecolor": "#EBF0F8",
            "showbackground": true,
            "ticks": "",
            "zerolinecolor": "#EBF0F8"
           }
          },
          "shapedefaults": {
           "line": {
            "color": "#2a3f5f"
           }
          },
          "ternary": {
           "aaxis": {
            "gridcolor": "#DFE8F3",
            "linecolor": "#A2B1C6",
            "ticks": ""
           },
           "baxis": {
            "gridcolor": "#DFE8F3",
            "linecolor": "#A2B1C6",
            "ticks": ""
           },
           "bgcolor": "white",
           "caxis": {
            "gridcolor": "#DFE8F3",
            "linecolor": "#A2B1C6",
            "ticks": ""
           }
          },
          "title": {
           "x": 0.05
          },
          "xaxis": {
           "automargin": true,
           "gridcolor": "#EBF0F8",
           "linecolor": "#EBF0F8",
           "ticks": "",
           "title": {
            "standoff": 15
           },
           "zerolinecolor": "#EBF0F8",
           "zerolinewidth": 2
          },
          "yaxis": {
           "automargin": true,
           "gridcolor": "#EBF0F8",
           "linecolor": "#EBF0F8",
           "ticks": "",
           "title": {
            "standoff": 15
           },
           "zerolinecolor": "#EBF0F8",
           "zerolinewidth": 2
          }
         }
        },
        "title": {
         "text": "KEGG Enrichment Analysis"
        },
        "width": 1280,
        "xaxis": {
         "anchor": "y",
         "domain": [
          0,
          1
         ],
         "title": {
          "text": "Count"
         }
        },
        "yaxis": {
         "anchor": "x",
         "autorange": "reversed",
         "domain": [
          0,
          1
         ],
         "title": {
          "text": "Pathway"
         }
        }
       }
      }
     },
     "metadata": {},
     "output_type": "display_data"
    }
   ],
   "source": [
    "import plotly.io as pio\n",
    "import plotly.express as px\n",
    "import plotly.graph_objects as go\n",
    "\n",
    "def plot_kegg_chart(df_kegg, width=1280, height=720, p_adjust=0.05, font_size=15, chart_num=30, chart_size=30, color='rdbu_r',pic_type='bubble', funciton_type='All'):\n",
    "    \"\"\"根据输入的kegg富集结果，绘制气泡图\n",
    "\n",
    "    Args:\n",
    "        df_kegg (pd.DataFrame): kegg富集结果\n",
    "        width (int): 图表宽度. \n",
    "        height (int): 图表高度. \n",
    "        p_adjust (float): P值阈值. \n",
    "        font_size (int): 字体大小. \n",
    "        chart_num (int): 最多显示的富集通路数量.\n",
    "        chart_size (int): 气泡大小. \n",
    "        pic_type (str): 图表类型.有两种选择：'bubble'和'bar'\n",
    "        color (str): 颜色. \n",
    "\n",
    "    \"\"\"\n",
    "    # 数据预处理\n",
    "    df_kegg = df_kegg.copy()\n",
    "    df_kegg = df_kegg[['ID', 'Description', 'GeneRatio', 'p.adjust', 'Count']]\n",
    "    df_kegg.columns = [\"ID\", \"Pathway\", \"GeneRatio\",\"P.adjust\", 'Count']\n",
    "    df_kegg[\"GeneRatio\"] = df_kegg[\"GeneRatio\"].apply(lambda x: round(eval(x), 3))  # GeneRatio列输出处理为浮点数\n",
    "    df_kegg['P.adjust'] = df_kegg['P.adjust'].apply(lambda x: round(x, 6))  # 控制P.adjust列的小数位数\n",
    "\n",
    "    # 数据筛选\n",
    "    df_kegg = df_kegg[df_kegg['P.adjust'] < p_adjust]  # 过滤P.adjust值\n",
    "    df_kegg = df_kegg.sort_values(by='Count', ascending=False)  # 按照Count列降序排列\n",
    "    df_kegg = df_kegg.iloc[:chart_num]  # 取前chart_num个数据\n",
    "\n",
    "    # 计算最小和最大P值\n",
    "    min_p_adjust = df_kegg['P.adjust'].min()\n",
    "    max_p_adjust = df_kegg['P.adjust'].max()\n",
    "\n",
    "    # 获取数据集中的所有唯一P值\n",
    "    unique_p_adjust_values = df_kegg['P.adjust'].unique()\n",
    "\n",
    "    # 根据唯一P值的数量设置颜色条刻度\n",
    "    if len(unique_p_adjust_values) == 1:\n",
    "        # 只有一个唯一的P值\n",
    "        tickvals = [min_p_adjust]\n",
    "        ticktext = [f'{min_p_adjust:.3f}']\n",
    "    elif len(unique_p_adjust_values) == 2:\n",
    "        # 有两个唯一的P值\n",
    "        tickvals = unique_p_adjust_values\n",
    "        ticktext = [f'{unique_p_adjust_values[0]:.3f}', f'{unique_p_adjust_values[1]:.3f}']\n",
    "    else:\n",
    "        # 多于两个唯一的P值，展示最小值、中位数和最大值\n",
    "        median_p_adjust = df_kegg['P.adjust'].median()\n",
    "        tickvals = [min_p_adjust, median_p_adjust, max_p_adjust]\n",
    "        ticktext = [\n",
    "            f'Min: {min_p_adjust:.3f}', \n",
    "            f'Median: {median_p_adjust:.3f}', \n",
    "            f'Max: {max_p_adjust:.3f}'\n",
    "        ]\n",
    "\n",
    "    if funciton_type == 'All':\n",
    "        pass\n",
    "\n",
    "    # 图表公共布局设置\n",
    "    layout_args = {\n",
    "        'title': \"KEGG Enrichment Analysis\",\n",
    "        'yaxis_title': \"Pathway\",\n",
    "        'yaxis': dict(autorange=\"reversed\"),\n",
    "        'font': dict(family=\"Arial\", size=font_size),\n",
    "        'template': \"plotly_white\",\n",
    "        'width': width,\n",
    "        'height': height\n",
    "    }\n",
    "\n",
    "    # 自定义颜色轴设置\n",
    "    color_axis_args = {\n",
    "        'colorbar_title': \"P.adjust\",\n",
    "        'colorbar_tickformat': \".3f\",\n",
    "        'colorbar': dict(\n",
    "            tickvals=tickvals,  # 设置刻度值\n",
    "            ticktext=ticktext  # 设置刻度标签\n",
    "        )\n",
    "    }\n",
    "\n",
    "    # 根据pic_type绘制不同类型的图表\n",
    "    if pic_type == 'bubble':\n",
    "        fig = px.scatter(\n",
    "            df_kegg,\n",
    "            x='GeneRatio',\n",
    "            y='Pathway',\n",
    "            size='Count',\n",
    "            color='P.adjust',\n",
    "            color_continuous_scale=color,\n",
    "            opacity=0.85,\n",
    "            hover_data=[\"ID\",'P.adjust', 'Count'],\n",
    "            size_max=chart_size\n",
    "        )\n",
    "    elif pic_type == 'bar':\n",
    "        fig = px.bar(\n",
    "            df_kegg,\n",
    "            x='Count',\n",
    "            y='Pathway',\n",
    "            color='P.adjust',\n",
    "            color_continuous_scale=color,\n",
    "            opacity=0.85,\n",
    "            hover_data=['ID','P.adjust', 'Count']\n",
    "        )\n",
    "\n",
    "    # 应用颜色轴设置\n",
    "    fig.update_layout(**layout_args)\n",
    "    fig.update_coloraxes(**color_axis_args)\n",
    "\n",
    "    # 保存为png，scale设置为4\n",
    "    fig.write_image(\"kegg.png\", scale=4)\n",
    "    \n",
    "    # 方案1:将fig对象转为json\n",
    "    # fig_json = pio.to_json(fig)\n",
    "    # return fig_json\n",
    "\n",
    "    # 方案2:将fig转为html格式，返回html代码\n",
    "    # fig_html = plot(fig, output_type='div', include_plotlyjs=False)        \n",
    "    # return fig_html\n",
    "\n",
    "    # 方案3:将fig转为html格式，保存为html文件\n",
    "    # fig.write_html(\"kegg.html\")\n",
    "    # return \"kegg.html\"\n",
    "\n",
    "    # 测试用\n",
    "    return fig \n",
    "\n",
    "\n",
    "plot_kegg_chart(df_kegg, \n",
    "                width=1280, height=720,\n",
    "                p_adjust=0.05,\n",
    "                font_size=15,\n",
    "                chart_num=10,\n",
    "                chart_size=30,\n",
    "                pic_type='bar',\n",
    "                color='rdbu_r')"
   ]
  },
  {
   "cell_type": "code",
   "execution_count": 10,
   "metadata": {},
   "outputs": [
    {
     "data": {
      "application/vnd.plotly.v1+json": {
       "config": {
        "plotlyServerURL": "https://plot.ly"
       },
       "data": [
        {
         "customdata": [
          [
           "GO:0055085",
           85,
           0.000744
          ],
          [
           "GO:0008270",
           83,
           0.000002
          ],
          [
           "GO:0006355",
           74,
           0
          ],
          [
           "GO:0005975",
           68,
           0
          ],
          [
           "GO:0016021",
           64,
           0.002688
          ],
          [
           "GO:0003677",
           59,
           0.010711
          ],
          [
           "GO:0042025",
           59,
           0
          ],
          [
           "GO:0000981",
           55,
           0
          ],
          [
           "GO:0005634",
           52,
           0.00009
          ],
          [
           "GO:0022857",
           50,
           0.047116
          ],
          [
           "GO:0016020",
           47,
           0.014695
          ],
          [
           "GO:0004553",
           45,
           0
          ],
          [
           "GO:0006351",
           42,
           0.000001
          ],
          [
           "GO:0007165",
           20,
           0.000318
          ],
          [
           "GO:0005576",
           19,
           0
          ],
          [
           "GO:0030248",
           14,
           0
          ],
          [
           "GO:0042626",
           12,
           0.036335
          ],
          [
           "GO:0004674",
           10,
           0.036335
          ],
          [
           "GO:0005085",
           9,
           0.001596
          ],
          [
           "GO:0016772",
           8,
           0.002003
          ],
          [
           "GO:0035556",
           8,
           0.003493
          ],
          [
           "GO:0016310",
           7,
           0.004618
          ]
         ],
         "hovertemplate": "<b>%{hovertext}</b><br><br>GeneRatio=%{x}<br>Description=%{y}<br>Count=%{customdata[1]}<br>ID=%{customdata[0]}<br>P.adjust=%{marker.color}<extra></extra>",
         "hovertext": [
          "BP",
          "MF",
          "BP",
          "BP",
          "CC",
          "MF",
          "CC",
          "MF",
          "CC",
          "MF",
          "CC",
          "MF",
          "BP",
          "BP",
          "CC",
          "MF",
          "MF",
          "MF",
          "MF",
          "MF",
          "BP",
          "BP"
         ],
         "legendgroup": "",
         "marker": {
          "color": [
           0.000744,
           0.000002,
           0,
           0,
           0.002688,
           0.010711,
           0,
           0,
           0.00009,
           0.047116,
           0.014695,
           0,
           0.000001,
           0.000318,
           0,
           0,
           0.036335,
           0.036335,
           0.001596,
           0.002003,
           0.003493,
           0.004618
          ],
          "coloraxis": "coloraxis",
          "opacity": 0.85,
          "size": [
           85,
           83,
           74,
           68,
           64,
           59,
           59,
           55,
           52,
           50,
           47,
           45,
           42,
           20,
           19,
           14,
           12,
           10,
           9,
           8,
           8,
           7
          ],
          "sizemode": "area",
          "sizeref": 0.053125,
          "symbol": "circle"
         },
         "mode": "markers",
         "name": "",
         "orientation": "h",
         "showlegend": false,
         "type": "scatter",
         "x": [
          0.135,
          0.106,
          0.117,
          0.108,
          0.258,
          0.075,
          0.238,
          0.07,
          0.21,
          0.064,
          0.19,
          0.058,
          0.067,
          0.032,
          0.077,
          0.018,
          0.015,
          0.013,
          0.012,
          0.01,
          0.013,
          0.011
         ],
         "xaxis": "x",
         "y": [
          "transmembrane transport",
          "zinc ion binding",
          "regulation of transcription, DNA-templated",
          "carbohydrate metabolic process",
          "integral component of membrane",
          "DNA binding",
          "host cell nucleus",
          "DNA-binding transcription factor activity, RNA polymerase II-specific",
          "nucleus",
          "transmembrane transporter activity",
          "membrane",
          "hydrolase activity, hydrolyzing O-glycosyl compounds",
          "transcription, DNA-templated",
          "signal transduction",
          "extracellular region",
          "cellulose binding",
          "ATPase-coupled transmembrane transporter activity",
          "protein serine/threonine kinase activity",
          "guanyl-nucleotide exchange factor activity",
          "transferase activity, transferring phosphorus-containing groups",
          "intracellular signal transduction",
          "phosphorylation"
         ],
         "yaxis": "y"
        }
       ],
       "layout": {
        "coloraxis": {
         "colorbar": {
          "dtick": 0.005,
          "tickformat": ".3f",
          "title": {
           "text": "P.adjust"
          }
         },
         "colorscale": [
          [
           0,
           "rgb(5,48,97)"
          ],
          [
           0.1,
           "rgb(33,102,172)"
          ],
          [
           0.2,
           "rgb(67,147,195)"
          ],
          [
           0.3,
           "rgb(146,197,222)"
          ],
          [
           0.4,
           "rgb(209,229,240)"
          ],
          [
           0.5,
           "rgb(247,247,247)"
          ],
          [
           0.6,
           "rgb(253,219,199)"
          ],
          [
           0.7,
           "rgb(244,165,130)"
          ],
          [
           0.8,
           "rgb(214,96,77)"
          ],
          [
           0.9,
           "rgb(178,24,43)"
          ],
          [
           1,
           "rgb(103,0,31)"
          ]
         ]
        },
        "font": {
         "family": "Arial",
         "size": 15
        },
        "height": 720,
        "legend": {
         "itemsizing": "constant",
         "tracegroupgap": 0
        },
        "margin": {
         "t": 60
        },
        "template": {
         "data": {
          "bar": [
           {
            "error_x": {
             "color": "#2a3f5f"
            },
            "error_y": {
             "color": "#2a3f5f"
            },
            "marker": {
             "line": {
              "color": "white",
              "width": 0.5
             },
             "pattern": {
              "fillmode": "overlay",
              "size": 10,
              "solidity": 0.2
             }
            },
            "type": "bar"
           }
          ],
          "barpolar": [
           {
            "marker": {
             "line": {
              "color": "white",
              "width": 0.5
             },
             "pattern": {
              "fillmode": "overlay",
              "size": 10,
              "solidity": 0.2
             }
            },
            "type": "barpolar"
           }
          ],
          "carpet": [
           {
            "aaxis": {
             "endlinecolor": "#2a3f5f",
             "gridcolor": "#C8D4E3",
             "linecolor": "#C8D4E3",
             "minorgridcolor": "#C8D4E3",
             "startlinecolor": "#2a3f5f"
            },
            "baxis": {
             "endlinecolor": "#2a3f5f",
             "gridcolor": "#C8D4E3",
             "linecolor": "#C8D4E3",
             "minorgridcolor": "#C8D4E3",
             "startlinecolor": "#2a3f5f"
            },
            "type": "carpet"
           }
          ],
          "choropleth": [
           {
            "colorbar": {
             "outlinewidth": 0,
             "ticks": ""
            },
            "type": "choropleth"
           }
          ],
          "contour": [
           {
            "colorbar": {
             "outlinewidth": 0,
             "ticks": ""
            },
            "colorscale": [
             [
              0,
              "#0d0887"
             ],
             [
              0.1111111111111111,
              "#46039f"
             ],
             [
              0.2222222222222222,
              "#7201a8"
             ],
             [
              0.3333333333333333,
              "#9c179e"
             ],
             [
              0.4444444444444444,
              "#bd3786"
             ],
             [
              0.5555555555555556,
              "#d8576b"
             ],
             [
              0.6666666666666666,
              "#ed7953"
             ],
             [
              0.7777777777777778,
              "#fb9f3a"
             ],
             [
              0.8888888888888888,
              "#fdca26"
             ],
             [
              1,
              "#f0f921"
             ]
            ],
            "type": "contour"
           }
          ],
          "contourcarpet": [
           {
            "colorbar": {
             "outlinewidth": 0,
             "ticks": ""
            },
            "type": "contourcarpet"
           }
          ],
          "heatmap": [
           {
            "colorbar": {
             "outlinewidth": 0,
             "ticks": ""
            },
            "colorscale": [
             [
              0,
              "#0d0887"
             ],
             [
              0.1111111111111111,
              "#46039f"
             ],
             [
              0.2222222222222222,
              "#7201a8"
             ],
             [
              0.3333333333333333,
              "#9c179e"
             ],
             [
              0.4444444444444444,
              "#bd3786"
             ],
             [
              0.5555555555555556,
              "#d8576b"
             ],
             [
              0.6666666666666666,
              "#ed7953"
             ],
             [
              0.7777777777777778,
              "#fb9f3a"
             ],
             [
              0.8888888888888888,
              "#fdca26"
             ],
             [
              1,
              "#f0f921"
             ]
            ],
            "type": "heatmap"
           }
          ],
          "heatmapgl": [
           {
            "colorbar": {
             "outlinewidth": 0,
             "ticks": ""
            },
            "colorscale": [
             [
              0,
              "#0d0887"
             ],
             [
              0.1111111111111111,
              "#46039f"
             ],
             [
              0.2222222222222222,
              "#7201a8"
             ],
             [
              0.3333333333333333,
              "#9c179e"
             ],
             [
              0.4444444444444444,
              "#bd3786"
             ],
             [
              0.5555555555555556,
              "#d8576b"
             ],
             [
              0.6666666666666666,
              "#ed7953"
             ],
             [
              0.7777777777777778,
              "#fb9f3a"
             ],
             [
              0.8888888888888888,
              "#fdca26"
             ],
             [
              1,
              "#f0f921"
             ]
            ],
            "type": "heatmapgl"
           }
          ],
          "histogram": [
           {
            "marker": {
             "pattern": {
              "fillmode": "overlay",
              "size": 10,
              "solidity": 0.2
             }
            },
            "type": "histogram"
           }
          ],
          "histogram2d": [
           {
            "colorbar": {
             "outlinewidth": 0,
             "ticks": ""
            },
            "colorscale": [
             [
              0,
              "#0d0887"
             ],
             [
              0.1111111111111111,
              "#46039f"
             ],
             [
              0.2222222222222222,
              "#7201a8"
             ],
             [
              0.3333333333333333,
              "#9c179e"
             ],
             [
              0.4444444444444444,
              "#bd3786"
             ],
             [
              0.5555555555555556,
              "#d8576b"
             ],
             [
              0.6666666666666666,
              "#ed7953"
             ],
             [
              0.7777777777777778,
              "#fb9f3a"
             ],
             [
              0.8888888888888888,
              "#fdca26"
             ],
             [
              1,
              "#f0f921"
             ]
            ],
            "type": "histogram2d"
           }
          ],
          "histogram2dcontour": [
           {
            "colorbar": {
             "outlinewidth": 0,
             "ticks": ""
            },
            "colorscale": [
             [
              0,
              "#0d0887"
             ],
             [
              0.1111111111111111,
              "#46039f"
             ],
             [
              0.2222222222222222,
              "#7201a8"
             ],
             [
              0.3333333333333333,
              "#9c179e"
             ],
             [
              0.4444444444444444,
              "#bd3786"
             ],
             [
              0.5555555555555556,
              "#d8576b"
             ],
             [
              0.6666666666666666,
              "#ed7953"
             ],
             [
              0.7777777777777778,
              "#fb9f3a"
             ],
             [
              0.8888888888888888,
              "#fdca26"
             ],
             [
              1,
              "#f0f921"
             ]
            ],
            "type": "histogram2dcontour"
           }
          ],
          "mesh3d": [
           {
            "colorbar": {
             "outlinewidth": 0,
             "ticks": ""
            },
            "type": "mesh3d"
           }
          ],
          "parcoords": [
           {
            "line": {
             "colorbar": {
              "outlinewidth": 0,
              "ticks": ""
             }
            },
            "type": "parcoords"
           }
          ],
          "pie": [
           {
            "automargin": true,
            "type": "pie"
           }
          ],
          "scatter": [
           {
            "fillpattern": {
             "fillmode": "overlay",
             "size": 10,
             "solidity": 0.2
            },
            "type": "scatter"
           }
          ],
          "scatter3d": [
           {
            "line": {
             "colorbar": {
              "outlinewidth": 0,
              "ticks": ""
             }
            },
            "marker": {
             "colorbar": {
              "outlinewidth": 0,
              "ticks": ""
             }
            },
            "type": "scatter3d"
           }
          ],
          "scattercarpet": [
           {
            "marker": {
             "colorbar": {
              "outlinewidth": 0,
              "ticks": ""
             }
            },
            "type": "scattercarpet"
           }
          ],
          "scattergeo": [
           {
            "marker": {
             "colorbar": {
              "outlinewidth": 0,
              "ticks": ""
             }
            },
            "type": "scattergeo"
           }
          ],
          "scattergl": [
           {
            "marker": {
             "colorbar": {
              "outlinewidth": 0,
              "ticks": ""
             }
            },
            "type": "scattergl"
           }
          ],
          "scattermapbox": [
           {
            "marker": {
             "colorbar": {
              "outlinewidth": 0,
              "ticks": ""
             }
            },
            "type": "scattermapbox"
           }
          ],
          "scatterpolar": [
           {
            "marker": {
             "colorbar": {
              "outlinewidth": 0,
              "ticks": ""
             }
            },
            "type": "scatterpolar"
           }
          ],
          "scatterpolargl": [
           {
            "marker": {
             "colorbar": {
              "outlinewidth": 0,
              "ticks": ""
             }
            },
            "type": "scatterpolargl"
           }
          ],
          "scatterternary": [
           {
            "marker": {
             "colorbar": {
              "outlinewidth": 0,
              "ticks": ""
             }
            },
            "type": "scatterternary"
           }
          ],
          "surface": [
           {
            "colorbar": {
             "outlinewidth": 0,
             "ticks": ""
            },
            "colorscale": [
             [
              0,
              "#0d0887"
             ],
             [
              0.1111111111111111,
              "#46039f"
             ],
             [
              0.2222222222222222,
              "#7201a8"
             ],
             [
              0.3333333333333333,
              "#9c179e"
             ],
             [
              0.4444444444444444,
              "#bd3786"
             ],
             [
              0.5555555555555556,
              "#d8576b"
             ],
             [
              0.6666666666666666,
              "#ed7953"
             ],
             [
              0.7777777777777778,
              "#fb9f3a"
             ],
             [
              0.8888888888888888,
              "#fdca26"
             ],
             [
              1,
              "#f0f921"
             ]
            ],
            "type": "surface"
           }
          ],
          "table": [
           {
            "cells": {
             "fill": {
              "color": "#EBF0F8"
             },
             "line": {
              "color": "white"
             }
            },
            "header": {
             "fill": {
              "color": "#C8D4E3"
             },
             "line": {
              "color": "white"
             }
            },
            "type": "table"
           }
          ]
         },
         "layout": {
          "annotationdefaults": {
           "arrowcolor": "#2a3f5f",
           "arrowhead": 0,
           "arrowwidth": 1
          },
          "autotypenumbers": "strict",
          "coloraxis": {
           "colorbar": {
            "outlinewidth": 0,
            "ticks": ""
           }
          },
          "colorscale": {
           "diverging": [
            [
             0,
             "#8e0152"
            ],
            [
             0.1,
             "#c51b7d"
            ],
            [
             0.2,
             "#de77ae"
            ],
            [
             0.3,
             "#f1b6da"
            ],
            [
             0.4,
             "#fde0ef"
            ],
            [
             0.5,
             "#f7f7f7"
            ],
            [
             0.6,
             "#e6f5d0"
            ],
            [
             0.7,
             "#b8e186"
            ],
            [
             0.8,
             "#7fbc41"
            ],
            [
             0.9,
             "#4d9221"
            ],
            [
             1,
             "#276419"
            ]
           ],
           "sequential": [
            [
             0,
             "#0d0887"
            ],
            [
             0.1111111111111111,
             "#46039f"
            ],
            [
             0.2222222222222222,
             "#7201a8"
            ],
            [
             0.3333333333333333,
             "#9c179e"
            ],
            [
             0.4444444444444444,
             "#bd3786"
            ],
            [
             0.5555555555555556,
             "#d8576b"
            ],
            [
             0.6666666666666666,
             "#ed7953"
            ],
            [
             0.7777777777777778,
             "#fb9f3a"
            ],
            [
             0.8888888888888888,
             "#fdca26"
            ],
            [
             1,
             "#f0f921"
            ]
           ],
           "sequentialminus": [
            [
             0,
             "#0d0887"
            ],
            [
             0.1111111111111111,
             "#46039f"
            ],
            [
             0.2222222222222222,
             "#7201a8"
            ],
            [
             0.3333333333333333,
             "#9c179e"
            ],
            [
             0.4444444444444444,
             "#bd3786"
            ],
            [
             0.5555555555555556,
             "#d8576b"
            ],
            [
             0.6666666666666666,
             "#ed7953"
            ],
            [
             0.7777777777777778,
             "#fb9f3a"
            ],
            [
             0.8888888888888888,
             "#fdca26"
            ],
            [
             1,
             "#f0f921"
            ]
           ]
          },
          "colorway": [
           "#636efa",
           "#EF553B",
           "#00cc96",
           "#ab63fa",
           "#FFA15A",
           "#19d3f3",
           "#FF6692",
           "#B6E880",
           "#FF97FF",
           "#FECB52"
          ],
          "font": {
           "color": "#2a3f5f"
          },
          "geo": {
           "bgcolor": "white",
           "lakecolor": "white",
           "landcolor": "white",
           "showlakes": true,
           "showland": true,
           "subunitcolor": "#C8D4E3"
          },
          "hoverlabel": {
           "align": "left"
          },
          "hovermode": "closest",
          "mapbox": {
           "style": "light"
          },
          "paper_bgcolor": "white",
          "plot_bgcolor": "white",
          "polar": {
           "angularaxis": {
            "gridcolor": "#EBF0F8",
            "linecolor": "#EBF0F8",
            "ticks": ""
           },
           "bgcolor": "white",
           "radialaxis": {
            "gridcolor": "#EBF0F8",
            "linecolor": "#EBF0F8",
            "ticks": ""
           }
          },
          "scene": {
           "xaxis": {
            "backgroundcolor": "white",
            "gridcolor": "#DFE8F3",
            "gridwidth": 2,
            "linecolor": "#EBF0F8",
            "showbackground": true,
            "ticks": "",
            "zerolinecolor": "#EBF0F8"
           },
           "yaxis": {
            "backgroundcolor": "white",
            "gridcolor": "#DFE8F3",
            "gridwidth": 2,
            "linecolor": "#EBF0F8",
            "showbackground": true,
            "ticks": "",
            "zerolinecolor": "#EBF0F8"
           },
           "zaxis": {
            "backgroundcolor": "white",
            "gridcolor": "#DFE8F3",
            "gridwidth": 2,
            "linecolor": "#EBF0F8",
            "showbackground": true,
            "ticks": "",
            "zerolinecolor": "#EBF0F8"
           }
          },
          "shapedefaults": {
           "line": {
            "color": "#2a3f5f"
           }
          },
          "ternary": {
           "aaxis": {
            "gridcolor": "#DFE8F3",
            "linecolor": "#A2B1C6",
            "ticks": ""
           },
           "baxis": {
            "gridcolor": "#DFE8F3",
            "linecolor": "#A2B1C6",
            "ticks": ""
           },
           "bgcolor": "white",
           "caxis": {
            "gridcolor": "#DFE8F3",
            "linecolor": "#A2B1C6",
            "ticks": ""
           }
          },
          "title": {
           "x": 0.05
          },
          "xaxis": {
           "automargin": true,
           "gridcolor": "#EBF0F8",
           "linecolor": "#EBF0F8",
           "ticks": "",
           "title": {
            "standoff": 15
           },
           "zerolinecolor": "#EBF0F8",
           "zerolinewidth": 2
          },
          "yaxis": {
           "automargin": true,
           "gridcolor": "#EBF0F8",
           "linecolor": "#EBF0F8",
           "ticks": "",
           "title": {
            "standoff": 15
           },
           "zerolinecolor": "#EBF0F8",
           "zerolinewidth": 2
          }
         }
        },
        "title": {
         "text": "GO Enrichment Analysis"
        },
        "width": 1280,
        "xaxis": {
         "anchor": "y",
         "domain": [
          0,
          1
         ],
         "title": {
          "text": "GeneRatio"
         }
        },
        "yaxis": {
         "anchor": "x",
         "autorange": "reversed",
         "domain": [
          0,
          1
         ],
         "title": {
          "text": "Description"
         }
        }
       }
      }
     },
     "metadata": {},
     "output_type": "display_data"
    }
   ],
   "source": [
    "def plot_go_chart(df_go, width=1280, height=720, p_value=0.05, font_size=15, chart_num=30, chart_size=30, pic_type='bubble', color='rdbu_r', funciton_type='All'):\n",
    "    \"\"\"根据输入的GO富集分析结果，根据用户选择绘制气泡图或柱状图。\n",
    "    Args:\n",
    "        df_go (DataFrame): GO富集分析结果。\n",
    "        width (int): 图表宽度. \n",
    "        height (int): 图表高度. \n",
    "        p_value (float): P值阈值. \n",
    "        chart_num (int): 最多显示富集功能数量. \n",
    "        chart_size (int): 图表大小. \n",
    "        pic_type (str): 图表类型，可选bubble或bar. \n",
    "        color (str): 颜色. Defaults to 'Geyser'.\n",
    "        funciton_type (str): GO类型，可选BP, CC, MF, All. \n",
    "\n",
    "    Returns:\n",
    "    \"\"\"\n",
    "\n",
    "    # 数据处理\n",
    "    df_go = df_go.copy()\n",
    "    df_go = df_go[[\"category\", \"ID\", \"Description\", \"Count\", 'GeneRatio', \"p.adjust\"]]\n",
    "    df_go.columns = [\"Class\", \"ID\", \"Description\", \"Count\", \"GeneRatio\", \"P.adjust\"]\n",
    "\n",
    "    # 数据列处理\n",
    "    df_go[\"GeneRatio\"] = df_go[\"GeneRatio\"].apply(lambda x: round(eval(x), 3))\n",
    "    df_go['P.adjust'] = df_go['P.adjust'].apply(lambda x: round(x, 6))\n",
    "    df_go = df_go.sort_values(by='Count', ascending=False)\n",
    "    df_go = df_go[df_go[\"P.adjust\"] < p_value]\n",
    "    df_go = df_go.iloc[:chart_num]\n",
    "\n",
    "    # 过滤GO类型\n",
    "    if funciton_type in [\"BP\", \"CC\", \"MF\"]:\n",
    "        df_go = df_go[df_go[\"Class\"].str.contains(funciton_type)]\n",
    "\n",
    "    # 图表公共布局设置\n",
    "    layout_args = {\n",
    "        'title': \"GO Enrichment Analysis\",\n",
    "        'yaxis_title': \"Description\",\n",
    "        'yaxis': dict(autorange=\"reversed\"),\n",
    "        # 'yaxis': dict(autorange=\"reversed\", showgrid=False), # y轴反向，不显示网格线\n",
    "        # 'xaxis': dict(showgrid=False), # 不显示网格线\n",
    "        'font': dict(family=\"Arial\", size=font_size),\n",
    "        'template': \"plotly_white\", # 主题背景\n",
    "        'width': width,\n",
    "        'height': height\n",
    "    }\n",
    "\n",
    "    # 颜色轴设置\n",
    "    color_axis_args = {\n",
    "        'colorbar_title': \"P.adjust\",\n",
    "        'colorbar_tickformat': \".3f\",\n",
    "        'colorbar': dict(dtick=0.005)\n",
    "    }\n",
    "\n",
    "    # 根据pic_type绘制不同类型的图表\n",
    "    if pic_type == \"bubble\":\n",
    "        fig = px.scatter(\n",
    "            df_go,\n",
    "            x=\"GeneRatio\",\n",
    "            y=\"Description\",\n",
    "            size=\"Count\",\n",
    "            color=\"P.adjust\",\n",
    "            color_continuous_scale=color,\n",
    "            opacity=0.85,\n",
    "            hover_name=\"Class\",\n",
    "            hover_data=[\"ID\", \"Description\", \"Count\", \"GeneRatio\", \"P.adjust\"],\n",
    "            size_max=chart_size,\n",
    "        )\n",
    "        \n",
    "    elif pic_type == \"bar\":\n",
    "        fig = px.bar(\n",
    "            df_go,\n",
    "            x='Count',\n",
    "            y='Description',\n",
    "            color='P.adjust',\n",
    "            color_continuous_scale=color,\n",
    "            opacity=0.85,\n",
    "            hover_data=[\"Class\", \"ID\", \"GeneRatio\", \"P.adjust\"],\n",
    "        )\n",
    "\n",
    "    # 应用颜色轴设置\n",
    "    fig.update_layout(**layout_args)\n",
    "    fig.update_coloraxes(**color_axis_args)\n",
    "\n",
    "    # 保存为png，scale设置为4\n",
    "    fig.write_image(workdir_omic + \"enrichment_analysis/output_file/go.png\", scale=4)\n",
    "\n",
    "    # 方案1:将fig对象转为json\n",
    "    # fig_json = pio.to_json(fig)\n",
    "    # return fig_json\n",
    "\n",
    "    # 方案2:将fig转为html格式，返回html代码\n",
    "    # fig_html = pio(fig, output_type='div', include_plotlyjs=False)        \n",
    "    # return fig_html\n",
    "\n",
    "    # 方案3:将fig转为html格式，保存为html文件\n",
    "    # fig.write_html(\"go.html\")\n",
    "    # return \"go.html\"\n",
    "\n",
    "    # 测试用\n",
    "    return fig \n",
    "\n",
    "\n",
    "# 调用函数示例\n",
    "plot_go_chart(df_go, \n",
    "              width=1280, height=720, \n",
    "              p_value=0.05, \n",
    "              font_size=15,\n",
    "              chart_num=50, \n",
    "              chart_size=40, \n",
    "              pic_type='bubble', \n",
    "              color='rdbu_r', \n",
    "              funciton_type='All')"
   ]
  }
 ],
 "metadata": {
  "kernelspec": {
   "display_name": "code",
   "language": "python",
   "name": "python3"
  },
  "language_info": {
   "codemirror_mode": {
    "name": "ipython",
    "version": 3
   },
   "file_extension": ".py",
   "mimetype": "text/x-python",
   "name": "python",
   "nbconvert_exporter": "python",
   "pygments_lexer": "ipython3",
   "version": "3.10.0"
  }
 },
 "nbformat": 4,
 "nbformat_minor": 2
}
