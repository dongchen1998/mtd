{
 "cells": [
  {
   "cell_type": "code",
   "execution_count": 1,
   "metadata": {},
   "outputs": [],
   "source": [
    "import pandas as pd\n",
    "import subprocess\n",
    "import os"
   ]
  },
  {
   "cell_type": "code",
   "execution_count": 2,
   "metadata": {},
   "outputs": [],
   "source": [
    "workdir_omic = '/Users/dongjiacheng/Desktop/coder/mtd/code/omic_analysis'"
   ]
  },
  {
   "cell_type": "markdown",
   "metadata": {},
   "source": [
    "####  调用R脚本，对输入的基因表达矩阵与样本分组信息，进行PCA分析，并生成静态图与json文件"
   ]
  },
  {
   "cell_type": "code",
   "execution_count": 7,
   "metadata": {},
   "outputs": [],
   "source": [
    "def run_pca(input_count_path, input_sample_path, output_png_path,output_json_path):\n",
    "    \"\"\"\n",
    "    根据输入的表达量矩阵和样本信息表，运行R脚本，生成PCA分析的结果\n",
    "\n",
    "    Args:\n",
    "        input_count_path: 输入的表达量矩阵路径\n",
    "        input_sample_path: 输入的样本信息表路径\n",
    "        output_png_path: 输出的PCA分析结果图路径\n",
    "        output_json_path: 输出的PCA分析结果json路径\n",
    "    \"\"\"\n",
    "\n",
    "    # R脚本的路径，需要师哥你改路径\n",
    "    script_path = os.path.join(workdir_omic, 'pca_analysis/PCA.R')\n",
    "\n",
    "    cmd = [\n",
    "        'Rscript', script_path,\n",
    "        '--input_count', input_count_path,\n",
    "        '--input_sample', input_sample_path,\n",
    "        '--output_png', output_png_path,\n",
    "        '--output_json', output_json_path,\n",
    "    ]\n",
    "\n",
    "    # 执行R脚本并捕获输出\n",
    "    try:\n",
    "        result = subprocess.run(cmd, check=True, stdout=subprocess.PIPE, stderr=subprocess.PIPE, text=True)\n",
    "        return result.stdout\n",
    "    except subprocess.CalledProcessError as e:\n",
    "        return e.stderr\n",
    "\n",
    "# 示例调用\n",
    "output_pca = run_pca(\"input_file/expression_matrix.csv\", \n",
    "                     \"input_file/sample_info.csv\", \n",
    "                     \"output_file/pca.png\", \n",
    "                     \"output_file/pca.json\")"
   ]
  }
 ],
 "metadata": {
  "kernelspec": {
   "display_name": "code",
   "language": "python",
   "name": "python3"
  },
  "language_info": {
   "codemirror_mode": {
    "name": "ipython",
    "version": 3
   },
   "file_extension": ".py",
   "mimetype": "text/x-python",
   "name": "python",
   "nbconvert_exporter": "python",
   "pygments_lexer": "ipython3",
   "version": "3.10.0"
  }
 },
 "nbformat": 4,
 "nbformat_minor": 2
}
