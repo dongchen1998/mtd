{
 "cells": [
  {
   "cell_type": "code",
   "execution_count": 1,
   "metadata": {},
   "outputs": [
    {
     "name": "stdout",
     "output_type": "stream",
     "text": [
      "Looking in indexes: https://mirrors.aliyun.com/pypi/simple/\n",
      "Requirement already satisfied: scipy in /Users/dongjiacheng/anaconda3/envs/code/lib/python3.10/site-packages (1.11.3)\n",
      "Requirement already satisfied: numpy<1.28.0,>=1.21.6 in /Users/dongjiacheng/anaconda3/envs/code/lib/python3.10/site-packages (from scipy) (1.23.5)\n",
      "\n",
      "\u001b[1m[\u001b[0m\u001b[34;49mnotice\u001b[0m\u001b[1;39;49m]\u001b[0m\u001b[39;49m A new release of pip is available: \u001b[0m\u001b[31;49m23.3.1\u001b[0m\u001b[39;49m -> \u001b[0m\u001b[32;49m23.3.2\u001b[0m\n",
      "\u001b[1m[\u001b[0m\u001b[34;49mnotice\u001b[0m\u001b[1;39;49m]\u001b[0m\u001b[39;49m To update, run: \u001b[0m\u001b[32;49mpip install --upgrade pip\u001b[0m\n",
      "Note: you may need to restart the kernel to use updated packages.\n"
     ]
    }
   ],
   "source": [
    "%pip install scipy\n",
    "%pip install plotly\n",
    "%pip install pandas"
   ]
  },
  {
   "cell_type": "code",
   "execution_count": null,
   "metadata": {},
   "outputs": [],
   "source": [
    "import pandas as pd\n",
    "import numpy as np\n",
    "import plotly.io as pio\n",
    "import plotly.graph_objects as go\n",
    "from scipy.cluster.hierarchy import linkage, leaves_list\n",
    "\n",
    "\n",
    "def create_heatmap_without_sample_clustering(df_heatmap, color='RdBu_r'):\n",
    "    \"\"\"根据基因表达矩阵创建热图\n",
    "\n",
    "    Args:\n",
    "        df_heatmap (pd.DataFrame): 基因表达矩阵\n",
    "        color (str, optional): 颜色. Defaults to 'RdBu_r'.\n",
    "    \"\"\"\n",
    "\n",
    "    # 第一列改名为gene_id，并设置为索引\n",
    "    df_heatmap = df_heatmap.rename(columns={df_heatmap.columns[0]: 'gene_id'})\n",
    "    df_heatmap = df_heatmap.set_index('gene_id')\n",
    "\n",
    "    # 数据Z-score标准化,axis=0表示按列标准化,axis=1表示按行标准化\n",
    "    # df_heatmap_normalized = df_heatmap.apply(lambda x: (x - x.mean()) / x.std(), axis=1)\n",
    "    # df_heatmap_normalized = df_heatmap_normalized.apply(lambda x: np.clip(x, -3, 3), axis=1)\n",
    "\n",
    "    # log2转换\n",
    "    df_heatmap_normalized = df_heatmap.apply(lambda x: np.log2(x + 1))\n",
    "\n",
    "    # 对基因（行）进行层次聚类\n",
    "    gene_linkage = linkage(df_heatmap_normalized, method='average')\n",
    "    gene_order = leaves_list(gene_linkage)\n",
    "\n",
    "    # # 对样本（列）进行层次聚类\n",
    "    # sample_linkage = linkage(df_heatmap_normalized.T, method='average')\n",
    "    # sample_order = leaves_list(sample_linkage)\n",
    "\n",
    "    # 重排数据矩阵\n",
    "    df_heatmap_clustered = df_heatmap_normalized.iloc[gene_order]\n",
    "    # df_heatmap_clustered = df_heatmap_normalized.iloc[gene_order,sample_order]\n",
    "\n",
    "    # 创建热图\n",
    "    fig = go.Figure(data=go.Heatmap(\n",
    "        z=df_heatmap_clustered,\n",
    "        x=df_heatmap_clustered.columns,\n",
    "        y=df_heatmap_clustered.index,\n",
    "        colorscale=color,\n",
    "        # zmin=-3,  # 设置颜色映射的最小值\n",
    "        # zmax=3,   # 设置颜色映射的最大值\n",
    "        hovertemplate='Sample: %{x}<br>Gene: %{y}<br>Exp: %{z:.3f}<extra></extra>'\n",
    "    ))\n",
    "\n",
    "    fig.update_layout(\n",
    "        xaxis_title=\"Sample\",\n",
    "        yaxis_title=\"Gene\",\n",
    "        width=1200,\n",
    "        height=900,\n",
    "        xaxis=dict(\n",
    "            tickfont=dict(size=8),  # 设置字体大小为8\n",
    "            tickangle=45  # 将刻度标签旋转45度\n",
    "        )\n",
    ")\n",
    "\n",
    "    fig.write_html(\"heatmap网页效果参考.html\")\n",
    "\n",
    "    return fig\n",
    "\n",
    "\n",
    "# 加载数据\n",
    "df_heatmap = pd.read_csv('./Gene_Expression_Matrix.tsv',sep='\\t').copy()\n",
    "\n",
    "# 测试\n",
    "create_heatmap_without_sample_clustering(df_heatmap)"
   ]
  }
 ],
 "metadata": {
  "kernelspec": {
   "display_name": "code",
   "language": "python",
   "name": "python3"
  },
  "language_info": {
   "codemirror_mode": {
    "name": "ipython",
    "version": 3
   },
   "file_extension": ".py",
   "mimetype": "text/x-python",
   "name": "python",
   "nbconvert_exporter": "python",
   "pygments_lexer": "ipython3",
   "version": "3.10.14"
  }
 },
 "nbformat": 4,
 "nbformat_minor": 2
}
