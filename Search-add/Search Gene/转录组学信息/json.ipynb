{
 "cells": [
  {
   "cell_type": "code",
   "execution_count": 1,
   "metadata": {},
   "outputs": [],
   "source": [
    "import pandas as pd\n",
    "\n",
    "# 读取TSV文件\n",
    "df = pd.read_csv('./Mt_sample.tsv', sep='\\t')\n",
    "\n",
    "\n",
    "# 把null都换为空\n",
    "df = df.fillna('')\n",
    "\n",
    "# 将DataFrame保存为JSON文件，每条记录为一个JSON对象\n",
    "df.to_json('Mt_sample.json', orient='records', lines=False, indent=2)"
   ]
  }
 ],
 "metadata": {
  "kernelspec": {
   "display_name": "code",
   "language": "python",
   "name": "python3"
  },
  "language_info": {
   "codemirror_mode": {
    "name": "ipython",
    "version": 3
   },
   "file_extension": ".py",
   "mimetype": "text/x-python",
   "name": "python",
   "nbconvert_exporter": "python",
   "pygments_lexer": "ipython3",
   "version": "3.10.14"
  }
 },
 "nbformat": 4,
 "nbformat_minor": 2
}
