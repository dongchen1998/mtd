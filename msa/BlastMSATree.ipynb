{
 "cells": [
  {
   "cell_type": "code",
   "execution_count": 2,
   "metadata": {},
   "outputs": [],
   "source": [
    "import sys\n",
    "import os\n",
    "import pandas as pd\n",
    "import subprocess"
   ]
  },
  {
   "cell_type": "code",
   "execution_count": 3,
   "metadata": {},
   "outputs": [],
   "source": [
    "# 在jupyter中配置工具的临时环境\n",
    "os.environ['PATH'] += os.pathsep + '/Users/dongjiacheng/Desktop/Github/msa/blast/bin'"
   ]
  },
  {
   "cell_type": "code",
   "execution_count": 5,
   "metadata": {},
   "outputs": [
    {
     "data": {
      "text/plain": [
       "''"
      ]
     },
     "execution_count": 5,
     "metadata": {},
     "output_type": "execute_result"
    }
   ],
   "source": [
    "def run_blastp(blast_input_path, blast_output_path, db_prot_path, evalue=1e-6):\n",
    "    \"\"\"\n",
    "    根据输入序列信息，对蛋白库进行blastp比对，得到比对结果。\n",
    "    \n",
    "    Args:\n",
    "        blast_input_path (str): 输入txt文件的路径。\n",
    "        blast_output_path (str): 输出txt文件的路径。\n",
    "        db_prot_name (str): 使用的蛋白数据库名称\n",
    "        evalue (float): evalue值。\n",
    "    \"\"\"\n",
    "    # 构建命令行参数\n",
    "    cmd = [\n",
    "        'blastp',\n",
    "        '-query', blast_input_path,\n",
    "        '-out', blast_output_path,\n",
    "        '-db', db_prot_path,\n",
    "        '-outfmt', '6',\n",
    "        '-evalue', str(evalue)\n",
    "    ]\n",
    "    # 执行命令并捕获输出\n",
    "    try:\n",
    "        result = subprocess.run(cmd, check=True, stdout=subprocess.PIPE, stderr=subprocess.PIPE, text=True)\n",
    "        return result.stdout\n",
    "    except subprocess.CalledProcessError as e:\n",
    "        return e.stderr\n",
    "\n",
    "\n",
    "# 示例调用\n",
    "run_blastp(\"/Users/dongjiacheng/Desktop/Github/msa/input_file/blast_input.txt\", \n",
    "            \"/Users/dongjiacheng/Desktop/Github/msa/output_file/blast_result.txt\", \n",
    "            \"/Users/dongjiacheng/Desktop/Github/msa/blast/db_prot/Myceliophthora_thermophila_ATCC_42464\", \n",
    "            1e-6)"
   ]
  },
  {
   "cell_type": "code",
   "execution_count": 5,
   "metadata": {},
   "outputs": [],
   "source": [
    "def run_mafft(workdir, blast_seq_path, mafft_result_path):\n",
    "    \"\"\"使用mafft进行多序列比对\n",
    "    \n",
    "    Args:\n",
    "        blast_result_path: 输入文件路径\n",
    "        mafft_result_path: 输出文件路径\n",
    "    \"\"\"\n",
    "    mafft_path = os.path.join(workdir, 'mafft-mac/mafft.bat')\n",
    "    # print(mafft_path)\n",
    "\n",
    "    os.system(mafft_path+\" --auto \"+blast_seq_path+\" > \"+mafft_result_path)\n",
    "\n",
    "# # 示例调用\n",
    "# run_mafft(\"/Users/dongjiacheng/Desktop/Github/msa/\", \n",
    "#           \"/Users/dongjiacheng/Desktop/Github/msa/output_file/blast_seq.fasta\", \n",
    "#           \"/Users/dongjiacheng/Desktop/Github/msa/output_file/mafft_result.fasta\")"
   ]
  },
  {
   "cell_type": "code",
   "execution_count": null,
   "metadata": {},
   "outputs": [],
   "source": [
    "def run_fasttree(workdir, mafft_result_path, fasttree_result_path):\n",
    "    \"\"\"\n",
    "    根据多序列比对结果，使用fasttree进行进化树构建。\n",
    "\n",
    "    Args:\n",
    "        mafft_result_path: 输入文件路径\n",
    "        fasttree_result_path: 输出文件路径\n",
    "    \"\"\"\n",
    "    fasttee_path = os.path.join(workdir, 'fasttree-mac/FastTree')\n",
    "    # 构建命令行参数\n",
    "    os.system(fasttee_path+' '+mafft_result_path+\" > \"+fasttree_result_path)\n",
    "    \n",
    "# 示例调用\n",
    "# run_fasttree(\"/Users/dongjiacheng/Desktop/Github/msa/\",\n",
    "#              \"/Users/dongjiacheng/Desktop/Github/msa/output_file/mafft_result.fasta\",\n",
    "#                 \"/Users/dongjiacheng/Desktop/Github/msa/output_file/fasttree_result.txt\")"
   ]
  },
  {
   "cell_type": "code",
   "execution_count": null,
   "metadata": {},
   "outputs": [],
   "source": [
    "def blast_msa_tree(workdir, blast_input_path, blast_result_path, db_prot_path, blast_seq_path, mafft_result_path, fasstree_result_path, evalue=1e-6):\n",
    "    \"\"\"运行blastp、mafft、fasttree，将输入蛋白序列信息进行分析，得到蛋白序列文件、多序列比对结果、进化树结果。\n",
    "\n",
    "    Args:\n",
    "        blast_input_path (str): 输入txt文件的路径。\n",
    "        db_prot_path (str): 使用的蛋白数据库名称\n",
    "        evalue (float): blast设置的evalue值。\n",
    "    Returns:    \n",
    "        None\n",
    "    \"\"\"\n",
    "    # 调用blastp\n",
    "    run_blastp(blast_input_path, blast_result_path, db_prot_path, evalue)\n",
    "    print(\"blastp over!\")\n",
    "\n",
    "    # 读取blastp结果,并设置列名\n",
    "    df_blast = pd.read_csv(blast_result_path, sep='\\t', header=None).copy()\n",
    "    df_blast.columns = ['Query ID', 'Subject Id', 'Identity', 'Alignment length', 'Mismatches',\n",
    "                        'Gap', 'q.start', 'q.end', 's.start', 's.end', 'evalue', 'bit score']\n",
    "    \n",
    "    # 保存比对结果\n",
    "    df_blast.to_csv(blast_result_path, index=False)\n",
    "    \n",
    "    # df_blast中，subject_id为蛋白id，有重复，需要去重\n",
    "    df_blast = df_blast.drop_duplicates(subset=['subject_id'])\n",
    "    \n",
    "    # 读取记录了所有菌种蛋白id与序列对应关系的表\n",
    "    df_all_fungi_seq = pd.read_csv(os.path.join(workdir, 'All_Fungi.tsv'), sep='\\t')\n",
    "\n",
    "    # 数据匹配\n",
    "    merged_df = pd.merge(df_blast, df_all_fungi_seq, left_on='subject_id', right_on='Protein ID', how='inner')\n",
    "    fasta_sequences = \"\"\n",
    "\n",
    "    # 将匹配到的序列信息与用户输入的序列信息合并\n",
    "    with open(blast_input_path, 'r') as file:\n",
    "        for line in file:\n",
    "            fasta_sequences += line\n",
    "\n",
    "    # 将数据写入FASTA格式\n",
    "    for index, row in merged_df.iterrows():\n",
    "        # fasta_sequences += \">{}\\n{}\\n\".format(row['Protein ID'], row['Sequence'])\n",
    "        fasta_sequences += \">{}-{}\\n{}\\n\".format(row['Protein ID'], row['Species'], row['Sequence']) # 添加了菌种名\n",
    "\n",
    "    try:\n",
    "        with open(blast_seq_path, 'w') as file:\n",
    "            file.write(fasta_sequences)\n",
    "    except Exception as e:\n",
    "        print(\"wrong:\", str(e))\n",
    "        sys.exit(1)\n",
    "    print(\"Protein sequence information saved!\")\n",
    "\n",
    "    # 调用mafft进行多序列比对\n",
    "    run_mafft(workdir, blast_seq_path, mafft_result_path)\n",
    "    print(\"Multiple sequence alignment completed!\")\n",
    "\n",
    "    # 调用fasttree进行进化树构建\n",
    "    run_fasttree(workdir, mafft_result_path, fasstree_result_path)\n",
    "    print(\"Evolutionary tree construction completed\")\n",
    "    \n",
    "    return None\n",
    "\n",
    "\n",
    "# 示例调用\n",
    "blast_msa_tree(\"/Users/dongjiacheng/Desktop/Github/msa/\",\n",
    "                \"/Users/dongjiacheng/Desktop/Github/msa/input_file/blast_input.txt\",\n",
    "                \"/Users/dongjiacheng/Desktop/Github/msa/output_file/blast_result.txt\",\n",
    "                \"/Users/dongjiacheng/Desktop/Github/msa/blast/db_prot/Myceliophthora_thermophila_ATCC_42464\",\n",
    "                \"/Users/dongjiacheng/Desktop/Github/msa/output_file/blast_seq.fasta\",\n",
    "                \"/Users/dongjiacheng/Desktop/Github/msa/output_file/mafft_result.fasta\",\n",
    "                \"/Users/dongjiacheng/Desktop/Github/msa/output_file/fasttree_result.nwk\",\n",
    "                1e-6)"
   ]
  }
 ],
 "metadata": {
  "kernelspec": {
   "display_name": "Python 3.9.13 ('mtd': conda)",
   "language": "python",
   "name": "python3"
  },
  "language_info": {
   "codemirror_mode": {
    "name": "ipython",
    "version": 3
   },
   "file_extension": ".py",
   "mimetype": "text/x-python",
   "name": "python",
   "nbconvert_exporter": "python",
   "pygments_lexer": "ipython3",
   "version": "3.10.0"
  },
  "orig_nbformat": 4,
  "vscode": {
   "interpreter": {
    "hash": "bda32a8112424f3b296a1d7c8725876d835906b3601dc2479fc8e073b6a34787"
   }
  }
 },
 "nbformat": 4,
 "nbformat_minor": 2
}
