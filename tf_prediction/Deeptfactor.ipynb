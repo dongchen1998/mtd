{
 "cells": [
  {
   "cell_type": "code",
   "execution_count": 6,
   "metadata": {},
   "outputs": [],
   "source": [
    "import pandas as pd\n",
    "import subprocess\n",
    "import os"
   ]
  },
  {
   "cell_type": "code",
   "execution_count": 7,
   "metadata": {},
   "outputs": [],
   "source": [
    "workdir_deeptfactor = \"/Users/dongjiacheng/Desktop/coder/mtd/code/deeptfactor\""
   ]
  },
  {
   "cell_type": "code",
   "execution_count": 8,
   "metadata": {},
   "outputs": [],
   "source": [
    "def run_deeptfactor(input_path, output_path):\n",
    "    \"\"\"执行 deeptfactor 脚本\n",
    "    Args:\n",
    "        input_path: 输入文件路径\n",
    "        output_path: 输出文件路径\n",
    "    \n",
    "    \"\"\"\n",
    "    # 脚本路径\n",
    "    script_path = os.path.join(workdir_deeptfactor, \"tf_running.py\")\n",
    "\n",
    "    # python tf_running.py -i ./Dataset/example_tf.fasta -o ./result -g cpu --cpu_num 20\n",
    "    cmd = [\n",
    "        \"python\", script_path,\n",
    "        \"--seq_file\", input_path,\n",
    "        \"--output_dir\", output_path,\n",
    "        \"-g\", \"cpu\",\n",
    "        \"--cpu_num\", \"20\"\n",
    "    ]\n",
    "\n",
    "    # 执行脚本并捕获输出\n",
    "    try:\n",
    "        result = subprocess.run(cmd, check=True, stdout=subprocess.PIPE, stderr=subprocess.PIPE, text=True)\n",
    "        return result.stdout\n",
    "    except subprocess.CalledProcessError as e:\n",
    "        return e.stderr\n",
    "    \n",
    "# 示例调用\n",
    "# run_deeptfactor(\"Dataset/tf.fasta\",\"result\")"
   ]
  },
  {
   "cell_type": "markdown",
   "metadata": {},
   "source": [
    "####  一个示例"
   ]
  },
  {
   "cell_type": "code",
   "execution_count": 9,
   "metadata": {},
   "outputs": [
    {
     "data": {
      "text/plain": [
       "'[{\"sequence_ID\":\"XP_003660100.1\",\"prediction\":true,\"score\":0.8959},{\"sequence_ID\":\"P0CY08|MTAL2_YEAST_PDB_1AKH\",\"prediction\":true,\"score\":0.9967}]'"
      ]
     },
     "execution_count": 9,
     "metadata": {},
     "output_type": "execute_result"
    }
   ],
   "source": [
    "def predict_tf(input_path, output_path):\n",
    "    \"\"\"执行 deeptfactor 脚本，并将结果转换为json数据\n",
    "    Args:\n",
    "        input_path: 输入文件路径\n",
    "        output_path: 输出文件路径\n",
    "\n",
    "    Returns:\n",
    "        result: 预测结果\n",
    "    \"\"\"\n",
    "    # 执行脚本\n",
    "    run_deeptfactor(input_path, output_path)\n",
    "\n",
    "    # 读取输出文件\n",
    "    result_path = os.path.join(workdir_deeptfactor, \"result/prediction_result.txt\")\n",
    "\n",
    "    # 将reslut的txt文件转换json数据，并作为函数返回\n",
    "    result = pd.read_csv(result_path, sep=\"\\t\")\n",
    "    result = result.to_json(orient=\"records\")\n",
    "    return result\n",
    "\n",
    "# 示例调用\n",
    "predict_tf(\"Dataset/tf.fasta\", \"result\")"
   ]
  }
 ],
 "metadata": {
  "kernelspec": {
   "display_name": "deeptfactor",
   "language": "python",
   "name": "python3"
  },
  "language_info": {
   "codemirror_mode": {
    "name": "ipython",
    "version": 3
   },
   "file_extension": ".py",
   "mimetype": "text/x-python",
   "name": "python",
   "nbconvert_exporter": "python",
   "pygments_lexer": "ipython3",
   "version": "3.10.0"
  }
 },
 "nbformat": 4,
 "nbformat_minor": 2
}
